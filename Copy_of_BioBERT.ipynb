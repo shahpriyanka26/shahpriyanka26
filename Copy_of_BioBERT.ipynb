{
  "nbformat": 4,
  "nbformat_minor": 0,
  "metadata": {
    "colab": {
      "name": "Copy of BioBERT.ipynb",
      "provenance": [],
      "collapsed_sections": [],
      "include_colab_link": true
    },
    "kernelspec": {
      "name": "python3",
      "display_name": "Python 3"
    },
    "language_info": {
      "name": "python"
    },
    "widgets": {
      "application/vnd.jupyter.widget-state+json": {
        "ad08374ab138444cb496c928f137b006": {
          "model_module": "@jupyter-widgets/controls",
          "model_name": "HBoxModel",
          "model_module_version": "1.5.0",
          "state": {
            "_dom_classes": [],
            "_model_module": "@jupyter-widgets/controls",
            "_model_module_version": "1.5.0",
            "_model_name": "HBoxModel",
            "_view_count": null,
            "_view_module": "@jupyter-widgets/controls",
            "_view_module_version": "1.5.0",
            "_view_name": "HBoxView",
            "box_style": "",
            "children": [
              "IPY_MODEL_3fe64271371e4f2ca0b5bb5782b96cbe",
              "IPY_MODEL_b69fe40e6f514ac68165aabbd6299ee5",
              "IPY_MODEL_8a2e2efc256d4c9fa68104060bde201e"
            ],
            "layout": "IPY_MODEL_684a8954b92f44ba8580aa827d8be05b"
          }
        },
        "3fe64271371e4f2ca0b5bb5782b96cbe": {
          "model_module": "@jupyter-widgets/controls",
          "model_name": "HTMLModel",
          "model_module_version": "1.5.0",
          "state": {
            "_dom_classes": [],
            "_model_module": "@jupyter-widgets/controls",
            "_model_module_version": "1.5.0",
            "_model_name": "HTMLModel",
            "_view_count": null,
            "_view_module": "@jupyter-widgets/controls",
            "_view_module_version": "1.5.0",
            "_view_name": "HTMLView",
            "description": "",
            "description_tooltip": null,
            "layout": "IPY_MODEL_3a1b8c1fd7ef4d18b49244b113007f70",
            "placeholder": "​",
            "style": "IPY_MODEL_fd6dee8b8a6543a383e834283f234b6d",
            "value": "Prediction: 100%"
          }
        },
        "b69fe40e6f514ac68165aabbd6299ee5": {
          "model_module": "@jupyter-widgets/controls",
          "model_name": "FloatProgressModel",
          "model_module_version": "1.5.0",
          "state": {
            "_dom_classes": [],
            "_model_module": "@jupyter-widgets/controls",
            "_model_module_version": "1.5.0",
            "_model_name": "FloatProgressModel",
            "_view_count": null,
            "_view_module": "@jupyter-widgets/controls",
            "_view_module_version": "1.5.0",
            "_view_name": "ProgressView",
            "bar_style": "success",
            "description": "",
            "description_tooltip": null,
            "layout": "IPY_MODEL_e12f10445b6f4db9b11af0700d85f107",
            "max": 118,
            "min": 0,
            "orientation": "horizontal",
            "style": "IPY_MODEL_8af3c4302272477a878f18a28a1af040",
            "value": 118
          }
        },
        "8a2e2efc256d4c9fa68104060bde201e": {
          "model_module": "@jupyter-widgets/controls",
          "model_name": "HTMLModel",
          "model_module_version": "1.5.0",
          "state": {
            "_dom_classes": [],
            "_model_module": "@jupyter-widgets/controls",
            "_model_module_version": "1.5.0",
            "_model_name": "HTMLModel",
            "_view_count": null,
            "_view_module": "@jupyter-widgets/controls",
            "_view_module_version": "1.5.0",
            "_view_name": "HTMLView",
            "description": "",
            "description_tooltip": null,
            "layout": "IPY_MODEL_0986a76d457148419ebebe681f31fa2a",
            "placeholder": "​",
            "style": "IPY_MODEL_0705fb68ea73455eb6235d55790aacfa",
            "value": " 118/118 [09:46&lt;00:00,  4.75s/it]"
          }
        },
        "684a8954b92f44ba8580aa827d8be05b": {
          "model_module": "@jupyter-widgets/base",
          "model_name": "LayoutModel",
          "model_module_version": "1.2.0",
          "state": {
            "_model_module": "@jupyter-widgets/base",
            "_model_module_version": "1.2.0",
            "_model_name": "LayoutModel",
            "_view_count": null,
            "_view_module": "@jupyter-widgets/base",
            "_view_module_version": "1.2.0",
            "_view_name": "LayoutView",
            "align_content": null,
            "align_items": null,
            "align_self": null,
            "border": null,
            "bottom": null,
            "display": null,
            "flex": null,
            "flex_flow": null,
            "grid_area": null,
            "grid_auto_columns": null,
            "grid_auto_flow": null,
            "grid_auto_rows": null,
            "grid_column": null,
            "grid_gap": null,
            "grid_row": null,
            "grid_template_areas": null,
            "grid_template_columns": null,
            "grid_template_rows": null,
            "height": null,
            "justify_content": null,
            "justify_items": null,
            "left": null,
            "margin": null,
            "max_height": null,
            "max_width": null,
            "min_height": null,
            "min_width": null,
            "object_fit": null,
            "object_position": null,
            "order": null,
            "overflow": null,
            "overflow_x": null,
            "overflow_y": null,
            "padding": null,
            "right": null,
            "top": null,
            "visibility": null,
            "width": null
          }
        },
        "3a1b8c1fd7ef4d18b49244b113007f70": {
          "model_module": "@jupyter-widgets/base",
          "model_name": "LayoutModel",
          "model_module_version": "1.2.0",
          "state": {
            "_model_module": "@jupyter-widgets/base",
            "_model_module_version": "1.2.0",
            "_model_name": "LayoutModel",
            "_view_count": null,
            "_view_module": "@jupyter-widgets/base",
            "_view_module_version": "1.2.0",
            "_view_name": "LayoutView",
            "align_content": null,
            "align_items": null,
            "align_self": null,
            "border": null,
            "bottom": null,
            "display": null,
            "flex": null,
            "flex_flow": null,
            "grid_area": null,
            "grid_auto_columns": null,
            "grid_auto_flow": null,
            "grid_auto_rows": null,
            "grid_column": null,
            "grid_gap": null,
            "grid_row": null,
            "grid_template_areas": null,
            "grid_template_columns": null,
            "grid_template_rows": null,
            "height": null,
            "justify_content": null,
            "justify_items": null,
            "left": null,
            "margin": null,
            "max_height": null,
            "max_width": null,
            "min_height": null,
            "min_width": null,
            "object_fit": null,
            "object_position": null,
            "order": null,
            "overflow": null,
            "overflow_x": null,
            "overflow_y": null,
            "padding": null,
            "right": null,
            "top": null,
            "visibility": null,
            "width": null
          }
        },
        "fd6dee8b8a6543a383e834283f234b6d": {
          "model_module": "@jupyter-widgets/controls",
          "model_name": "DescriptionStyleModel",
          "model_module_version": "1.5.0",
          "state": {
            "_model_module": "@jupyter-widgets/controls",
            "_model_module_version": "1.5.0",
            "_model_name": "DescriptionStyleModel",
            "_view_count": null,
            "_view_module": "@jupyter-widgets/base",
            "_view_module_version": "1.2.0",
            "_view_name": "StyleView",
            "description_width": ""
          }
        },
        "e12f10445b6f4db9b11af0700d85f107": {
          "model_module": "@jupyter-widgets/base",
          "model_name": "LayoutModel",
          "model_module_version": "1.2.0",
          "state": {
            "_model_module": "@jupyter-widgets/base",
            "_model_module_version": "1.2.0",
            "_model_name": "LayoutModel",
            "_view_count": null,
            "_view_module": "@jupyter-widgets/base",
            "_view_module_version": "1.2.0",
            "_view_name": "LayoutView",
            "align_content": null,
            "align_items": null,
            "align_self": null,
            "border": null,
            "bottom": null,
            "display": null,
            "flex": null,
            "flex_flow": null,
            "grid_area": null,
            "grid_auto_columns": null,
            "grid_auto_flow": null,
            "grid_auto_rows": null,
            "grid_column": null,
            "grid_gap": null,
            "grid_row": null,
            "grid_template_areas": null,
            "grid_template_columns": null,
            "grid_template_rows": null,
            "height": null,
            "justify_content": null,
            "justify_items": null,
            "left": null,
            "margin": null,
            "max_height": null,
            "max_width": null,
            "min_height": null,
            "min_width": null,
            "object_fit": null,
            "object_position": null,
            "order": null,
            "overflow": null,
            "overflow_x": null,
            "overflow_y": null,
            "padding": null,
            "right": null,
            "top": null,
            "visibility": null,
            "width": null
          }
        },
        "8af3c4302272477a878f18a28a1af040": {
          "model_module": "@jupyter-widgets/controls",
          "model_name": "ProgressStyleModel",
          "model_module_version": "1.5.0",
          "state": {
            "_model_module": "@jupyter-widgets/controls",
            "_model_module_version": "1.5.0",
            "_model_name": "ProgressStyleModel",
            "_view_count": null,
            "_view_module": "@jupyter-widgets/base",
            "_view_module_version": "1.2.0",
            "_view_name": "StyleView",
            "bar_color": null,
            "description_width": ""
          }
        },
        "0986a76d457148419ebebe681f31fa2a": {
          "model_module": "@jupyter-widgets/base",
          "model_name": "LayoutModel",
          "model_module_version": "1.2.0",
          "state": {
            "_model_module": "@jupyter-widgets/base",
            "_model_module_version": "1.2.0",
            "_model_name": "LayoutModel",
            "_view_count": null,
            "_view_module": "@jupyter-widgets/base",
            "_view_module_version": "1.2.0",
            "_view_name": "LayoutView",
            "align_content": null,
            "align_items": null,
            "align_self": null,
            "border": null,
            "bottom": null,
            "display": null,
            "flex": null,
            "flex_flow": null,
            "grid_area": null,
            "grid_auto_columns": null,
            "grid_auto_flow": null,
            "grid_auto_rows": null,
            "grid_column": null,
            "grid_gap": null,
            "grid_row": null,
            "grid_template_areas": null,
            "grid_template_columns": null,
            "grid_template_rows": null,
            "height": null,
            "justify_content": null,
            "justify_items": null,
            "left": null,
            "margin": null,
            "max_height": null,
            "max_width": null,
            "min_height": null,
            "min_width": null,
            "object_fit": null,
            "object_position": null,
            "order": null,
            "overflow": null,
            "overflow_x": null,
            "overflow_y": null,
            "padding": null,
            "right": null,
            "top": null,
            "visibility": null,
            "width": null
          }
        },
        "0705fb68ea73455eb6235d55790aacfa": {
          "model_module": "@jupyter-widgets/controls",
          "model_name": "DescriptionStyleModel",
          "model_module_version": "1.5.0",
          "state": {
            "_model_module": "@jupyter-widgets/controls",
            "_model_module_version": "1.5.0",
            "_model_name": "DescriptionStyleModel",
            "_view_count": null,
            "_view_module": "@jupyter-widgets/base",
            "_view_module_version": "1.2.0",
            "_view_name": "StyleView",
            "description_width": ""
          }
        },
        "28dd41f288eb4219860972a577b3edcf": {
          "model_module": "@jupyter-widgets/controls",
          "model_name": "HBoxModel",
          "model_module_version": "1.5.0",
          "state": {
            "_dom_classes": [],
            "_model_module": "@jupyter-widgets/controls",
            "_model_module_version": "1.5.0",
            "_model_name": "HBoxModel",
            "_view_count": null,
            "_view_module": "@jupyter-widgets/controls",
            "_view_module_version": "1.5.0",
            "_view_name": "HBoxView",
            "box_style": "",
            "children": [
              "IPY_MODEL_c7e37878873c4aa387a2f99138bce97a",
              "IPY_MODEL_0bd8dd64ea32449f92e10557bb317d96",
              "IPY_MODEL_28baafedceb84f58bd8c0c5e940fe105"
            ],
            "layout": "IPY_MODEL_69986c6d2dff4424a5633c69e328cea3"
          }
        },
        "c7e37878873c4aa387a2f99138bce97a": {
          "model_module": "@jupyter-widgets/controls",
          "model_name": "HTMLModel",
          "model_module_version": "1.5.0",
          "state": {
            "_dom_classes": [],
            "_model_module": "@jupyter-widgets/controls",
            "_model_module_version": "1.5.0",
            "_model_name": "HTMLModel",
            "_view_count": null,
            "_view_module": "@jupyter-widgets/controls",
            "_view_module_version": "1.5.0",
            "_view_name": "HTMLView",
            "description": "",
            "description_tooltip": null,
            "layout": "IPY_MODEL_83ce40f80b1c4324aadb13d965a38c7c",
            "placeholder": "​",
            "style": "IPY_MODEL_1cde4e3e0aa4468bb047ce94df5f17a1",
            "value": "Prediction: 100%"
          }
        },
        "0bd8dd64ea32449f92e10557bb317d96": {
          "model_module": "@jupyter-widgets/controls",
          "model_name": "FloatProgressModel",
          "model_module_version": "1.5.0",
          "state": {
            "_dom_classes": [],
            "_model_module": "@jupyter-widgets/controls",
            "_model_module_version": "1.5.0",
            "_model_name": "FloatProgressModel",
            "_view_count": null,
            "_view_module": "@jupyter-widgets/controls",
            "_view_module_version": "1.5.0",
            "_view_name": "ProgressView",
            "bar_style": "success",
            "description": "",
            "description_tooltip": null,
            "layout": "IPY_MODEL_0389a4445ce04c418c4d5124799bec33",
            "max": 118,
            "min": 0,
            "orientation": "horizontal",
            "style": "IPY_MODEL_e77a3337645f40aea4d914353574ccc1",
            "value": 118
          }
        },
        "28baafedceb84f58bd8c0c5e940fe105": {
          "model_module": "@jupyter-widgets/controls",
          "model_name": "HTMLModel",
          "model_module_version": "1.5.0",
          "state": {
            "_dom_classes": [],
            "_model_module": "@jupyter-widgets/controls",
            "_model_module_version": "1.5.0",
            "_model_name": "HTMLModel",
            "_view_count": null,
            "_view_module": "@jupyter-widgets/controls",
            "_view_module_version": "1.5.0",
            "_view_name": "HTMLView",
            "description": "",
            "description_tooltip": null,
            "layout": "IPY_MODEL_9fc7b1d0f9f3459aace02d9657409ccf",
            "placeholder": "​",
            "style": "IPY_MODEL_a0c11798f9174989ab710a11f97deb0a",
            "value": " 118/118 [11:46&lt;00:00,  4.63s/it]"
          }
        },
        "69986c6d2dff4424a5633c69e328cea3": {
          "model_module": "@jupyter-widgets/base",
          "model_name": "LayoutModel",
          "model_module_version": "1.2.0",
          "state": {
            "_model_module": "@jupyter-widgets/base",
            "_model_module_version": "1.2.0",
            "_model_name": "LayoutModel",
            "_view_count": null,
            "_view_module": "@jupyter-widgets/base",
            "_view_module_version": "1.2.0",
            "_view_name": "LayoutView",
            "align_content": null,
            "align_items": null,
            "align_self": null,
            "border": null,
            "bottom": null,
            "display": null,
            "flex": null,
            "flex_flow": null,
            "grid_area": null,
            "grid_auto_columns": null,
            "grid_auto_flow": null,
            "grid_auto_rows": null,
            "grid_column": null,
            "grid_gap": null,
            "grid_row": null,
            "grid_template_areas": null,
            "grid_template_columns": null,
            "grid_template_rows": null,
            "height": null,
            "justify_content": null,
            "justify_items": null,
            "left": null,
            "margin": null,
            "max_height": null,
            "max_width": null,
            "min_height": null,
            "min_width": null,
            "object_fit": null,
            "object_position": null,
            "order": null,
            "overflow": null,
            "overflow_x": null,
            "overflow_y": null,
            "padding": null,
            "right": null,
            "top": null,
            "visibility": null,
            "width": null
          }
        },
        "83ce40f80b1c4324aadb13d965a38c7c": {
          "model_module": "@jupyter-widgets/base",
          "model_name": "LayoutModel",
          "model_module_version": "1.2.0",
          "state": {
            "_model_module": "@jupyter-widgets/base",
            "_model_module_version": "1.2.0",
            "_model_name": "LayoutModel",
            "_view_count": null,
            "_view_module": "@jupyter-widgets/base",
            "_view_module_version": "1.2.0",
            "_view_name": "LayoutView",
            "align_content": null,
            "align_items": null,
            "align_self": null,
            "border": null,
            "bottom": null,
            "display": null,
            "flex": null,
            "flex_flow": null,
            "grid_area": null,
            "grid_auto_columns": null,
            "grid_auto_flow": null,
            "grid_auto_rows": null,
            "grid_column": null,
            "grid_gap": null,
            "grid_row": null,
            "grid_template_areas": null,
            "grid_template_columns": null,
            "grid_template_rows": null,
            "height": null,
            "justify_content": null,
            "justify_items": null,
            "left": null,
            "margin": null,
            "max_height": null,
            "max_width": null,
            "min_height": null,
            "min_width": null,
            "object_fit": null,
            "object_position": null,
            "order": null,
            "overflow": null,
            "overflow_x": null,
            "overflow_y": null,
            "padding": null,
            "right": null,
            "top": null,
            "visibility": null,
            "width": null
          }
        },
        "1cde4e3e0aa4468bb047ce94df5f17a1": {
          "model_module": "@jupyter-widgets/controls",
          "model_name": "DescriptionStyleModel",
          "model_module_version": "1.5.0",
          "state": {
            "_model_module": "@jupyter-widgets/controls",
            "_model_module_version": "1.5.0",
            "_model_name": "DescriptionStyleModel",
            "_view_count": null,
            "_view_module": "@jupyter-widgets/base",
            "_view_module_version": "1.2.0",
            "_view_name": "StyleView",
            "description_width": ""
          }
        },
        "0389a4445ce04c418c4d5124799bec33": {
          "model_module": "@jupyter-widgets/base",
          "model_name": "LayoutModel",
          "model_module_version": "1.2.0",
          "state": {
            "_model_module": "@jupyter-widgets/base",
            "_model_module_version": "1.2.0",
            "_model_name": "LayoutModel",
            "_view_count": null,
            "_view_module": "@jupyter-widgets/base",
            "_view_module_version": "1.2.0",
            "_view_name": "LayoutView",
            "align_content": null,
            "align_items": null,
            "align_self": null,
            "border": null,
            "bottom": null,
            "display": null,
            "flex": null,
            "flex_flow": null,
            "grid_area": null,
            "grid_auto_columns": null,
            "grid_auto_flow": null,
            "grid_auto_rows": null,
            "grid_column": null,
            "grid_gap": null,
            "grid_row": null,
            "grid_template_areas": null,
            "grid_template_columns": null,
            "grid_template_rows": null,
            "height": null,
            "justify_content": null,
            "justify_items": null,
            "left": null,
            "margin": null,
            "max_height": null,
            "max_width": null,
            "min_height": null,
            "min_width": null,
            "object_fit": null,
            "object_position": null,
            "order": null,
            "overflow": null,
            "overflow_x": null,
            "overflow_y": null,
            "padding": null,
            "right": null,
            "top": null,
            "visibility": null,
            "width": null
          }
        },
        "e77a3337645f40aea4d914353574ccc1": {
          "model_module": "@jupyter-widgets/controls",
          "model_name": "ProgressStyleModel",
          "model_module_version": "1.5.0",
          "state": {
            "_model_module": "@jupyter-widgets/controls",
            "_model_module_version": "1.5.0",
            "_model_name": "ProgressStyleModel",
            "_view_count": null,
            "_view_module": "@jupyter-widgets/base",
            "_view_module_version": "1.2.0",
            "_view_name": "StyleView",
            "bar_color": null,
            "description_width": ""
          }
        },
        "9fc7b1d0f9f3459aace02d9657409ccf": {
          "model_module": "@jupyter-widgets/base",
          "model_name": "LayoutModel",
          "model_module_version": "1.2.0",
          "state": {
            "_model_module": "@jupyter-widgets/base",
            "_model_module_version": "1.2.0",
            "_model_name": "LayoutModel",
            "_view_count": null,
            "_view_module": "@jupyter-widgets/base",
            "_view_module_version": "1.2.0",
            "_view_name": "LayoutView",
            "align_content": null,
            "align_items": null,
            "align_self": null,
            "border": null,
            "bottom": null,
            "display": null,
            "flex": null,
            "flex_flow": null,
            "grid_area": null,
            "grid_auto_columns": null,
            "grid_auto_flow": null,
            "grid_auto_rows": null,
            "grid_column": null,
            "grid_gap": null,
            "grid_row": null,
            "grid_template_areas": null,
            "grid_template_columns": null,
            "grid_template_rows": null,
            "height": null,
            "justify_content": null,
            "justify_items": null,
            "left": null,
            "margin": null,
            "max_height": null,
            "max_width": null,
            "min_height": null,
            "min_width": null,
            "object_fit": null,
            "object_position": null,
            "order": null,
            "overflow": null,
            "overflow_x": null,
            "overflow_y": null,
            "padding": null,
            "right": null,
            "top": null,
            "visibility": null,
            "width": null
          }
        },
        "a0c11798f9174989ab710a11f97deb0a": {
          "model_module": "@jupyter-widgets/controls",
          "model_name": "DescriptionStyleModel",
          "model_module_version": "1.5.0",
          "state": {
            "_model_module": "@jupyter-widgets/controls",
            "_model_module_version": "1.5.0",
            "_model_name": "DescriptionStyleModel",
            "_view_count": null,
            "_view_module": "@jupyter-widgets/base",
            "_view_module_version": "1.2.0",
            "_view_name": "StyleView",
            "description_width": ""
          }
        }
      }
    }
  },
  "cells": [
    {
      "cell_type": "markdown",
      "metadata": {
        "id": "view-in-github",
        "colab_type": "text"
      },
      "source": [
        "<a href=\"https://colab.research.google.com/github/shahpriyanka26/shahpriyanka26/blob/main/Copy_of_BioBERT.ipynb\" target=\"_parent\"><img src=\"https://colab.research.google.com/assets/colab-badge.svg\" alt=\"Open In Colab\"/></a>"
      ]
    },
    {
      "cell_type": "code",
      "execution_count": null,
      "metadata": {
        "colab": {
          "base_uri": "https://localhost:8080/"
        },
        "id": "HMO9DfHC8-jY",
        "outputId": "8516a572-e5c5-453c-c0c9-ccbf8f4e9951"
      },
      "outputs": [
        {
          "output_type": "stream",
          "name": "stdout",
          "text": [
            "[Errno 2] No such file or directory: 'drive/MyDrive/TopicModeling_TextSum/NER'\n",
            "/content/drive/MyDrive/TopicModeling_TextSum/NER\n"
          ]
        }
      ],
      "source": [
        "%cd drive/MyDrive/TopicModeling_TextSum/NER"
      ]
    },
    {
      "cell_type": "code",
      "source": [
        "import pandas as pd"
      ],
      "metadata": {
        "id": "BcaEUGIfzYrv"
      },
      "execution_count": null,
      "outputs": []
    },
    {
      "cell_type": "code",
      "source": [
        "# !git clone https://github.com/dmis-lab/biobert-pytorch"
      ],
      "metadata": {
        "id": "DW8RrdkH9Du_"
      },
      "execution_count": null,
      "outputs": []
    },
    {
      "cell_type": "code",
      "source": [
        "%cd biobert-pytorch"
      ],
      "metadata": {
        "colab": {
          "base_uri": "https://localhost:8080/"
        },
        "id": "Yq_HP5h99uV2",
        "outputId": "6cef67e6-1496-41c5-e9db-a1022f8c9742"
      },
      "execution_count": null,
      "outputs": [
        {
          "output_type": "stream",
          "name": "stdout",
          "text": [
            "/content/drive/MyDrive/TopicModeling_TextSum/NER/biobert-pytorch\n"
          ]
        }
      ]
    },
    {
      "cell_type": "code",
      "source": [
        "# Install huggingface transformers\n",
        "!pip install transformers==3.0.0\n",
        "!pip install seqeval"
      ],
      "metadata": {
        "colab": {
          "base_uri": "https://localhost:8080/"
        },
        "id": "9vHuNPP7UgSg",
        "outputId": "97fdfd44-cf49-4402-c07a-e9932f8deff6"
      },
      "execution_count": null,
      "outputs": [
        {
          "output_type": "stream",
          "name": "stdout",
          "text": [
            "Collecting transformers==3.0.0\n",
            "  Downloading transformers-3.0.0-py3-none-any.whl (754 kB)\n",
            "\u001b[K     |████████████████████████████████| 754 kB 4.2 MB/s \n",
            "\u001b[?25hRequirement already satisfied: tqdm>=4.27 in /usr/local/lib/python3.7/dist-packages (from transformers==3.0.0) (4.64.0)\n",
            "Requirement already satisfied: numpy in /usr/local/lib/python3.7/dist-packages (from transformers==3.0.0) (1.21.6)\n",
            "Requirement already satisfied: regex!=2019.12.17 in /usr/local/lib/python3.7/dist-packages (from transformers==3.0.0) (2019.12.20)\n",
            "Requirement already satisfied: filelock in /usr/local/lib/python3.7/dist-packages (from transformers==3.0.0) (3.7.0)\n",
            "Requirement already satisfied: packaging in /usr/local/lib/python3.7/dist-packages (from transformers==3.0.0) (21.3)\n",
            "Collecting sacremoses\n",
            "  Downloading sacremoses-0.0.53.tar.gz (880 kB)\n",
            "\u001b[K     |████████████████████████████████| 880 kB 47.5 MB/s \n",
            "\u001b[?25hCollecting sentencepiece\n",
            "  Downloading sentencepiece-0.1.96-cp37-cp37m-manylinux_2_17_x86_64.manylinux2014_x86_64.whl (1.2 MB)\n",
            "\u001b[K     |████████████████████████████████| 1.2 MB 36.5 MB/s \n",
            "\u001b[?25hRequirement already satisfied: requests in /usr/local/lib/python3.7/dist-packages (from transformers==3.0.0) (2.23.0)\n",
            "Collecting tokenizers==0.8.0-rc4\n",
            "  Downloading tokenizers-0.8.0rc4-cp37-cp37m-manylinux1_x86_64.whl (3.0 MB)\n",
            "\u001b[K     |████████████████████████████████| 3.0 MB 32.4 MB/s \n",
            "\u001b[?25hRequirement already satisfied: pyparsing!=3.0.5,>=2.0.2 in /usr/local/lib/python3.7/dist-packages (from packaging->transformers==3.0.0) (3.0.9)\n",
            "Requirement already satisfied: certifi>=2017.4.17 in /usr/local/lib/python3.7/dist-packages (from requests->transformers==3.0.0) (2021.10.8)\n",
            "Requirement already satisfied: urllib3!=1.25.0,!=1.25.1,<1.26,>=1.21.1 in /usr/local/lib/python3.7/dist-packages (from requests->transformers==3.0.0) (1.24.3)\n",
            "Requirement already satisfied: idna<3,>=2.5 in /usr/local/lib/python3.7/dist-packages (from requests->transformers==3.0.0) (2.10)\n",
            "Requirement already satisfied: chardet<4,>=3.0.2 in /usr/local/lib/python3.7/dist-packages (from requests->transformers==3.0.0) (3.0.4)\n",
            "Requirement already satisfied: six in /usr/local/lib/python3.7/dist-packages (from sacremoses->transformers==3.0.0) (1.15.0)\n",
            "Requirement already satisfied: click in /usr/local/lib/python3.7/dist-packages (from sacremoses->transformers==3.0.0) (7.1.2)\n",
            "Requirement already satisfied: joblib in /usr/local/lib/python3.7/dist-packages (from sacremoses->transformers==3.0.0) (1.1.0)\n",
            "Building wheels for collected packages: sacremoses\n",
            "  Building wheel for sacremoses (setup.py) ... \u001b[?25l\u001b[?25hdone\n",
            "  Created wheel for sacremoses: filename=sacremoses-0.0.53-py3-none-any.whl size=895260 sha256=36d16057ced8b5a3102d71a8613b0647ccea70609a55f4e9c95bcd64b6ead96e\n",
            "  Stored in directory: /root/.cache/pip/wheels/87/39/dd/a83eeef36d0bf98e7a4d1933a4ad2d660295a40613079bafc9\n",
            "Successfully built sacremoses\n",
            "Installing collected packages: tokenizers, sentencepiece, sacremoses, transformers\n",
            "Successfully installed sacremoses-0.0.53 sentencepiece-0.1.96 tokenizers-0.8.0rc4 transformers-3.0.0\n",
            "Collecting seqeval\n",
            "  Downloading seqeval-1.2.2.tar.gz (43 kB)\n",
            "\u001b[K     |████████████████████████████████| 43 kB 1.4 MB/s \n",
            "\u001b[?25hRequirement already satisfied: numpy>=1.14.0 in /usr/local/lib/python3.7/dist-packages (from seqeval) (1.21.6)\n",
            "Requirement already satisfied: scikit-learn>=0.21.3 in /usr/local/lib/python3.7/dist-packages (from seqeval) (1.0.2)\n",
            "Requirement already satisfied: threadpoolctl>=2.0.0 in /usr/local/lib/python3.7/dist-packages (from scikit-learn>=0.21.3->seqeval) (3.1.0)\n",
            "Requirement already satisfied: joblib>=0.11 in /usr/local/lib/python3.7/dist-packages (from scikit-learn>=0.21.3->seqeval) (1.1.0)\n",
            "Requirement already satisfied: scipy>=1.1.0 in /usr/local/lib/python3.7/dist-packages (from scikit-learn>=0.21.3->seqeval) (1.4.1)\n",
            "Building wheels for collected packages: seqeval\n",
            "  Building wheel for seqeval (setup.py) ... \u001b[?25l\u001b[?25hdone\n",
            "  Created wheel for seqeval: filename=seqeval-1.2.2-py3-none-any.whl size=16180 sha256=666bb0466bf260053679da248ad551f1407e6450680be713de1601c600be16c2\n",
            "  Stored in directory: /root/.cache/pip/wheels/05/96/ee/7cac4e74f3b19e3158dce26a20a1c86b3533c43ec72a549fd7\n",
            "Successfully built seqeval\n",
            "Installing collected packages: seqeval\n",
            "Successfully installed seqeval-1.2.2\n"
          ]
        }
      ]
    },
    {
      "cell_type": "code",
      "source": [
        "# !tar -xvf \"datasets.tar\""
      ],
      "metadata": {
        "id": "UWSewPk33uRv"
      },
      "execution_count": null,
      "outputs": []
    },
    {
      "cell_type": "code",
      "source": [
        "# Pre-process NER datasets\n",
        "%cd named-entity-recognition\n",
        "!bash preprocess.sh"
      ],
      "metadata": {
        "id": "_H-js8V590e_",
        "colab": {
          "base_uri": "https://localhost:8080/"
        },
        "outputId": "b19cff25-7409-44c5-9e3d-9547eb7f339f"
      },
      "execution_count": null,
      "outputs": [
        {
          "output_type": "stream",
          "name": "stdout",
          "text": [
            "[Errno 2] No such file or directory: 'named-entity-recognition'\n",
            "/content/drive/MyDrive/TopicModeling_TextSum/NER/biobert-pytorch/named-entity-recognition\n",
            "*****  NCBI-disease  Preprocessing Start *****\n",
            "Replacing Done\n",
            "Downloading: 100% 433/433 [00:00<00:00, 284kB/s]\n",
            "Downloading: 100% 213k/213k [00:00<00:00, 294kB/s]\n",
            "*****  NCBI-disease  Preprocessing Done *****\n",
            "*****  BC5CDR-disease  Preprocessing Start *****\n",
            "Replacing Done\n",
            "*****  BC5CDR-disease  Preprocessing Done *****\n",
            "*****  BC5CDR-chem  Preprocessing Start *****\n",
            "Replacing Done\n",
            "*****  BC5CDR-chem  Preprocessing Done *****\n",
            "*****  BC4CHEMD  Preprocessing Start *****\n",
            "Replacing Done\n",
            "*****  BC4CHEMD  Preprocessing Done *****\n",
            "*****  JNLPBA  Preprocessing Start *****\n",
            "Replacing Done\n",
            "*****  JNLPBA  Preprocessing Done *****\n",
            "*****  BC2GM  Preprocessing Start *****\n",
            "Replacing Done\n",
            "*****  BC2GM  Preprocessing Done *****\n",
            "*****  linnaeus  Preprocessing Start *****\n",
            "Replacing Done\n",
            "*****  linnaeus  Preprocessing Done *****\n",
            "*****  s800  Preprocessing Start *****\n",
            "Replacing Done\n",
            "*****  s800  Preprocessing Done *****\n"
          ]
        }
      ]
    },
    {
      "cell_type": "markdown",
      "source": [
        "##Creating Script for making Prediction"
      ],
      "metadata": {
        "id": "lMF1ZCBUDY6o"
      }
    },
    {
      "cell_type": "code",
      "source": [
        "from transformers import (AutoTokenizer, \n",
        "                          AutoModelForTokenClassification, \n",
        "                          AutoConfig, \n",
        "                          Trainer,\n",
        "                          EvalPrediction,\n",
        "                          TrainingArguments,\n",
        "                          HfArgumentParser\n",
        ")\n",
        "from transformers import pipeline\n",
        "from utils_ner import NerDataset, Split, get_labels\n",
        "from typing import Dict, Tuple, List\n",
        "import numpy as np\n",
        "from run_ner import ModelArguments, DataTrainingArguments\n",
        "import sys\n",
        "from torch import nn\n",
        "from seqeval.metrics import f1_score, precision_score, recall_score"
      ],
      "metadata": {
        "id": "UHUQqNlj-qzu"
      },
      "execution_count": null,
      "outputs": []
    },
    {
      "cell_type": "code",
      "source": [
        "def align_predictions(predictions: np.ndarray, label_ids: np.ndarray) -> Tuple[List[int], List[int]]:\n",
        "      preds = np.argmax(predictions, axis=2)\n",
        "\n",
        "      batch_size, seq_len = preds.shape\n",
        "\n",
        "      out_label_list = [[] for _ in range(batch_size)]\n",
        "      preds_list = [[] for _ in range(batch_size)]\n",
        "      \n",
        "      for i in range(batch_size):\n",
        "          for j in range(seq_len):\n",
        "              if label_ids[i, j] != nn.CrossEntropyLoss().ignore_index:\n",
        "                  out_label_list[i].append(label_map[label_ids[i][j]])\n",
        "                  preds_list[i].append(label_map[preds[i][j]])\n",
        "\n",
        "      return preds_list, out_label_list\n",
        "\n",
        "def compute_metrics(p: EvalPrediction) -> Dict:\n",
        "    preds_list, out_label_list = align_predictions(p.predictions, p.label_ids)\n",
        "    \n",
        "    return {\n",
        "        \"precision\": precision_score(out_label_list, preds_list),\n",
        "        \"recall\": recall_score(out_label_list, preds_list),\n",
        "        \"f1\": f1_score(out_label_list, preds_list),\n",
        "    }\n",
        "\n",
        "\n",
        "dir = \"/content/drive/MyDrive/TopicModeling_TextSum/NER/biobert-pytorch\"\n",
        "labels_path = dir + \"/datasets/NER/NCBI-disease/labels.txt\"\n",
        "labels = get_labels(labels_path)\n",
        "label_map: Dict[int, str] = {i: label for i, label in enumerate(labels)}\n",
        "num_labels = len(labels)\n",
        "\n",
        "config = AutoConfig.from_pretrained(dir + \"/named-entity-recognition/output/NCBI-disease\",\n",
        "        num_labels= num_labels,\n",
        "        id2label= label_map,\n",
        "        label2id= {label: i for i, label in enumerate(labels)},\n",
        "        cache_dir= dir + \"/testing\",\n",
        ")\n",
        "\n",
        "tokenizer = AutoTokenizer.from_pretrained(dir + \"/named-entity-recognition/output/NCBI-disease\",\n",
        "    cache_dir= dir + \"/testing\",\n",
        "    use_fast= False,\n",
        ")\n",
        "\n",
        "model = AutoModelForTokenClassification.from_pretrained(\n",
        "    dir + \"/named-entity-recognition/output/NCBI-disease\",\n",
        "    from_tf= bool(\".ckpt\" in dir + \"/named-entity-recognition/output/NCBI-disease\"),\n",
        "    config= config,\n",
        "    cache_dir= dir + \"/testing\",\n",
        ")\n",
        "\n",
        "test_dataset = NerDataset(dir + \"/datasets/NER/NCBI-disease\",\n",
        "          tokenizer= tokenizer,\n",
        "          labels= labels,\n",
        "          model_type= config.model_type,\n",
        "          max_seq_length= 192,\n",
        "          overwrite_cache= True,\n",
        "          mode= Split.test,\n",
        ")\n",
        "train_dataset = NerDataset(dir + \"/datasets/NER/NCBI-disease\",\n",
        "          tokenizer= tokenizer,\n",
        "          labels= labels,\n",
        "          model_type= config.model_type,\n",
        "          max_seq_length= 192,\n",
        "          overwrite_cache= True,\n",
        "          mode= Split.train,\n",
        ")\n",
        "eval_dataset = NerDataset(dir + \"/datasets/NER/NCBI-disease\",\n",
        "          tokenizer= tokenizer,\n",
        "          labels= labels,\n",
        "          model_type= config.model_type,\n",
        "          max_seq_length= 192,\n",
        "          overwrite_cache= True,\n",
        "          mode= Split.dev,\n",
        ")\n",
        "\n",
        "ModelArgs = ModelArguments(\n",
        "            model_name_or_path= dir + \"/named-entity-recognition/output/NCBI-disease\",\n",
        "            cache_dir= dir + \"/testing\"\n",
        ")\n",
        "\n",
        "DataTrainArgs = DataTrainingArguments(\n",
        "                data_dir= dir + \"/datasets/NER/NCBI-disease\",\n",
        "                labels= dir + \"/datasets/NER/NCBI-disease/labels.txt\",\n",
        "                overwrite_cache = True\n",
        ")\n",
        "TrainArgs = TrainingArguments(output_dir= dir + \"/testing\")\n",
        "# parser = HfArgumentParser((ModelArgs, DataTrainArgs, TrainArgs))\n",
        "# # model_args, data_args, training_args = parser.parse_json_file(json_file=os.path.abspath(sys.argv[1]))\n",
        "# model_args, data_args, training_args = parser.parse_args_into_dataclasses()\n",
        "\n",
        "TrainArgs = TrainingArguments(output_dir= dir + \"/testing\")\n",
        "trainer = Trainer(\n",
        "    model= model,\n",
        "    args= TrainArgs,\n",
        "    train_dataset= train_dataset,\n",
        "    eval_dataset= eval_dataset,\n",
        "    compute_metrics= compute_metrics,\n",
        ")"
      ],
      "metadata": {
        "id": "S8sf1ns_PueL"
      },
      "execution_count": null,
      "outputs": []
    },
    {
      "cell_type": "code",
      "source": [
        "predictions, label_ids, metrics = trainer.predict(test_dataset)\n",
        "preds_list, _ = align_predictions(predictions, label_ids)"
      ],
      "metadata": {
        "colab": {
          "base_uri": "https://localhost:8080/",
          "height": 49,
          "referenced_widgets": [
            "ad08374ab138444cb496c928f137b006",
            "3fe64271371e4f2ca0b5bb5782b96cbe",
            "b69fe40e6f514ac68165aabbd6299ee5",
            "8a2e2efc256d4c9fa68104060bde201e",
            "684a8954b92f44ba8580aa827d8be05b",
            "3a1b8c1fd7ef4d18b49244b113007f70",
            "fd6dee8b8a6543a383e834283f234b6d",
            "e12f10445b6f4db9b11af0700d85f107",
            "8af3c4302272477a878f18a28a1af040",
            "0986a76d457148419ebebe681f31fa2a",
            "0705fb68ea73455eb6235d55790aacfa"
          ]
        },
        "id": "GLEhVm1nGGk1",
        "outputId": "9741d65e-aacb-42f4-8967-defb74d9cad1"
      },
      "execution_count": null,
      "outputs": [
        {
          "output_type": "display_data",
          "data": {
            "text/plain": [
              "Prediction:   0%|          | 0/118 [00:00<?, ?it/s]"
            ],
            "application/vnd.jupyter.widget-view+json": {
              "version_major": 2,
              "version_minor": 0,
              "model_id": "ad08374ab138444cb496c928f137b006"
            }
          },
          "metadata": {}
        }
      ]
    },
    {
      "cell_type": "code",
      "source": [
        "metrics"
      ],
      "metadata": {
        "id": "-2fgP7nqK5m9",
        "outputId": "a067aedd-3152-4954-80b8-ff08189a0e32",
        "colab": {
          "base_uri": "https://localhost:8080/"
        }
      },
      "execution_count": null,
      "outputs": [
        {
          "output_type": "execute_result",
          "data": {
            "text/plain": [
              "{'eval_f1': 0.870096790626592,\n",
              " 'eval_loss': 0.04990868259396925,\n",
              " 'eval_precision': 0.8514456630109671,\n",
              " 'eval_recall': 0.8895833333333333}"
            ]
          },
          "metadata": {},
          "execution_count": 12
        }
      ]
    },
    {
      "cell_type": "code",
      "source": [
        "def split(m_str):\n",
        "  m_list = m_str.split()\n",
        "  if len(m_list)>1:\n",
        "    return m_list[0]\n",
        "  else:\n",
        "    return ''"
      ],
      "metadata": {
        "id": "lGhoiQJeJ3K1"
      },
      "execution_count": null,
      "outputs": []
    },
    {
      "cell_type": "code",
      "source": [
        "#read test file\n",
        "textfile = open(dir + \"/datasets/NER/NCBI-disease/test.txt\", \"r\")\n",
        "lines = textfile.readlines()\n",
        "textfile.close()\n",
        "lines_f = list(map(lambda x: split(x), lines))"
      ],
      "metadata": {
        "id": "JDA0Xu0jJq_P"
      },
      "execution_count": null,
      "outputs": []
    },
    {
      "cell_type": "code",
      "source": [
        "#save test file without labels\n",
        "textfile = open(dir + \"/datasets/NER/NCBI-disease/dummy_test.txt\", \"w+\")\n",
        "for element in lines_f:\n",
        "    textfile.write(element + \"\\n\")\n",
        "textfile.close()"
      ],
      "metadata": {
        "id": "Pg7SpSJho9qD"
      },
      "execution_count": null,
      "outputs": []
    },
    {
      "cell_type": "code",
      "source": [
        "dummy_test_dataset = NerDataset(dir + \"/datasets/NER/NCBI-disease\",\n",
        "        tokenizer= tokenizer,\n",
        "        labels= labels,\n",
        "        model_type= config.model_type,\n",
        "        max_seq_length= 192,\n",
        "        overwrite_cache= True,\n",
        "        mode= Split.dum_test,\n",
        ")"
      ],
      "metadata": {
        "id": "2kx2vFfX0E-a"
      },
      "execution_count": null,
      "outputs": []
    },
    {
      "cell_type": "code",
      "source": [
        "dummy_test_preds, dummy_test_label_ids, dummmy_metrics = trainer.predict(dummy_test_dataset)\n",
        "dummy_test_preds_list, _ = align_predictions(dummy_test_preds, dummy_test_label_ids)"
      ],
      "metadata": {
        "id": "RbqFuis1EPKR",
        "colab": {
          "base_uri": "https://localhost:8080/",
          "height": 105,
          "referenced_widgets": [
            "28dd41f288eb4219860972a577b3edcf",
            "c7e37878873c4aa387a2f99138bce97a",
            "0bd8dd64ea32449f92e10557bb317d96",
            "28baafedceb84f58bd8c0c5e940fe105",
            "69986c6d2dff4424a5633c69e328cea3",
            "83ce40f80b1c4324aadb13d965a38c7c",
            "1cde4e3e0aa4468bb047ce94df5f17a1",
            "0389a4445ce04c418c4d5124799bec33",
            "e77a3337645f40aea4d914353574ccc1",
            "9fc7b1d0f9f3459aace02d9657409ccf",
            "a0c11798f9174989ab710a11f97deb0a"
          ]
        },
        "outputId": "4a9ad720-40e3-421f-dd60-f39283528100"
      },
      "execution_count": null,
      "outputs": [
        {
          "output_type": "display_data",
          "data": {
            "text/plain": [
              "Prediction:   0%|          | 0/118 [00:00<?, ?it/s]"
            ],
            "application/vnd.jupyter.widget-view+json": {
              "version_major": 2,
              "version_minor": 0,
              "model_id": "28dd41f288eb4219860972a577b3edcf"
            }
          },
          "metadata": {}
        },
        {
          "output_type": "stream",
          "name": "stderr",
          "text": [
            "/usr/local/lib/python3.7/dist-packages/seqeval/metrics/v1.py:57: UndefinedMetricWarning: Recall is ill-defined and being set to 0.0 due to no true samples. Use `zero_division` parameter to control this behavior.\n",
            "  _warn_prf(average, modifier, msg_start, len(result))\n"
          ]
        }
      ]
    },
    {
      "cell_type": "code",
      "source": [
        "dummy_test_preds_list_flat = [item for sublist in dummy_test_preds_list for item in sublist]\n",
        "preds_list_flat = [item for sublist in preds_list for item in sublist]"
      ],
      "metadata": {
        "id": "2NO3gTVMnO0D"
      },
      "execution_count": null,
      "outputs": []
    },
    {
      "cell_type": "code",
      "source": [
        "compare_dum_test = {'test_with_labels': preds_list_flat,\n",
        "                    'test_wo_labels': dummy_test_preds_list_flat\n",
        "                    }"
      ],
      "metadata": {
        "id": "K_6Wwg9dUC--"
      },
      "execution_count": null,
      "outputs": []
    },
    {
      "cell_type": "code",
      "source": [
        "compare_df = pd.DataFrame(compare_dum_test)\n",
        "compare_df.to_csv(dir + \"/named-entity-recognition/output/NCBI-disease/compare_dum_test.csv\")"
      ],
      "metadata": {
        "id": "u7AJJDOWU_V8"
      },
      "execution_count": null,
      "outputs": []
    },
    {
      "cell_type": "code",
      "source": [
        "iqvia_data = pd.read_csv(dir + \"/datasets/NER/NCBI-disease/sub_all_merged.csv\")\n",
        "iqvia_data.head()"
      ],
      "metadata": {
        "colab": {
          "base_uri": "https://localhost:8080/",
          "height": 597
        },
        "id": "WqzQbs3kaSJI",
        "outputId": "5204a142-f57f-4fac-abdc-ab03ab5e4d7d"
      },
      "execution_count": null,
      "outputs": [
        {
          "output_type": "execute_result",
          "data": {
            "text/plain": [
              "   Unnamed: 0        id     type  \\\n",
              "0           0  31761661  bipolar   \n",
              "1           1  30827282  bipolar   \n",
              "2           2  30714166  bipolar   \n",
              "3           3  31840225  bipolar   \n",
              "4           4  31704596  bipolar   \n",
              "\n",
              "                                              merged  \\\n",
              "0  A Population-Based, Nationwide Longitudinal St...   \n",
              "1  Understanding the association between advanced...   \n",
              "2  Identity in bipolar disorder: Self-worth and a...   \n",
              "3  Three-year longitudinal cognitive functioning ...   \n",
              "4  Relationship of elevated neural cell adhesion ...   \n",
              "\n",
              "                                 en_core_sci_scibert  \\\n",
              "0  Bipolar Disorder, Incident, Dementia, Taiwan, ...   \n",
              "1  association, advanced paternal age, schizophre...   \n",
              "2  Identity, bipolar disorder, Self-worth, achiev...   \n",
              "3  Three-year, longitudinal, cognitive functionin...   \n",
              "4  Relationship, elevated, neural cell adhesion m...   \n",
              "\n",
              "                                            CUI_umls  \\\n",
              "0  C1551358, C0035647, C0205217, C0525045, C09476...   \n",
              "1  C0035647, C0001792, C0036341, C0947630, C02052...   \n",
              "2  C3714552, C0439064, C0678966, C0005586, C00180...   \n",
              "3  C0349208, C0027902, C0220825, C0205127, C00055...   \n",
              "4  C1707520, C0026777, C0005586, C1511726, C00278...   \n",
              "\n",
              "                                 token_standard_name  LDA_topic  \\\n",
              "0  incident, Risk, Increased, Mood Disorders, Sci...          6   \n",
              "1  Risk, Elderly (population group), Schizophreni...          6   \n",
              "2  Weakness, Numerous, personality psychology, Bi...          6   \n",
              "3  manic episode, Neuropsychological Tests, Evalu...          6   \n",
              "4  Correlation, Multivariate Analysis, Bipolar Di...          8   \n",
              "\n",
              "   Cluster_labels  \n",
              "0               6  \n",
              "1               1  \n",
              "2               7  \n",
              "3               7  \n",
              "4               3  "
            ],
            "text/html": [
              "\n",
              "  <div id=\"df-d3457b4a-a234-4a42-9d92-1a0546776d0b\">\n",
              "    <div class=\"colab-df-container\">\n",
              "      <div>\n",
              "<style scoped>\n",
              "    .dataframe tbody tr th:only-of-type {\n",
              "        vertical-align: middle;\n",
              "    }\n",
              "\n",
              "    .dataframe tbody tr th {\n",
              "        vertical-align: top;\n",
              "    }\n",
              "\n",
              "    .dataframe thead th {\n",
              "        text-align: right;\n",
              "    }\n",
              "</style>\n",
              "<table border=\"1\" class=\"dataframe\">\n",
              "  <thead>\n",
              "    <tr style=\"text-align: right;\">\n",
              "      <th></th>\n",
              "      <th>Unnamed: 0</th>\n",
              "      <th>id</th>\n",
              "      <th>type</th>\n",
              "      <th>merged</th>\n",
              "      <th>en_core_sci_scibert</th>\n",
              "      <th>CUI_umls</th>\n",
              "      <th>token_standard_name</th>\n",
              "      <th>LDA_topic</th>\n",
              "      <th>Cluster_labels</th>\n",
              "    </tr>\n",
              "  </thead>\n",
              "  <tbody>\n",
              "    <tr>\n",
              "      <th>0</th>\n",
              "      <td>0</td>\n",
              "      <td>31761661</td>\n",
              "      <td>bipolar</td>\n",
              "      <td>A Population-Based, Nationwide Longitudinal St...</td>\n",
              "      <td>Bipolar Disorder, Incident, Dementia, Taiwan, ...</td>\n",
              "      <td>C1551358, C0035647, C0205217, C0525045, C09476...</td>\n",
              "      <td>incident, Risk, Increased, Mood Disorders, Sci...</td>\n",
              "      <td>6</td>\n",
              "      <td>6</td>\n",
              "    </tr>\n",
              "    <tr>\n",
              "      <th>1</th>\n",
              "      <td>1</td>\n",
              "      <td>30827282</td>\n",
              "      <td>bipolar</td>\n",
              "      <td>Understanding the association between advanced...</td>\n",
              "      <td>association, advanced paternal age, schizophre...</td>\n",
              "      <td>C0035647, C0001792, C0036341, C0947630, C02052...</td>\n",
              "      <td>Risk, Elderly (population group), Schizophreni...</td>\n",
              "      <td>6</td>\n",
              "      <td>1</td>\n",
              "    </tr>\n",
              "    <tr>\n",
              "      <th>2</th>\n",
              "      <td>2</td>\n",
              "      <td>30714166</td>\n",
              "      <td>bipolar</td>\n",
              "      <td>Identity in bipolar disorder: Self-worth and a...</td>\n",
              "      <td>Identity, bipolar disorder, Self-worth, achiev...</td>\n",
              "      <td>C3714552, C0439064, C0678966, C0005586, C00180...</td>\n",
              "      <td>Weakness, Numerous, personality psychology, Bi...</td>\n",
              "      <td>6</td>\n",
              "      <td>7</td>\n",
              "    </tr>\n",
              "    <tr>\n",
              "      <th>3</th>\n",
              "      <td>3</td>\n",
              "      <td>31840225</td>\n",
              "      <td>bipolar</td>\n",
              "      <td>Three-year longitudinal cognitive functioning ...</td>\n",
              "      <td>Three-year, longitudinal, cognitive functionin...</td>\n",
              "      <td>C0349208, C0027902, C0220825, C0205127, C00055...</td>\n",
              "      <td>manic episode, Neuropsychological Tests, Evalu...</td>\n",
              "      <td>6</td>\n",
              "      <td>7</td>\n",
              "    </tr>\n",
              "    <tr>\n",
              "      <th>4</th>\n",
              "      <td>4</td>\n",
              "      <td>31704596</td>\n",
              "      <td>bipolar</td>\n",
              "      <td>Relationship of elevated neural cell adhesion ...</td>\n",
              "      <td>Relationship, elevated, neural cell adhesion m...</td>\n",
              "      <td>C1707520, C0026777, C0005586, C1511726, C00278...</td>\n",
              "      <td>Correlation, Multivariate Analysis, Bipolar Di...</td>\n",
              "      <td>8</td>\n",
              "      <td>3</td>\n",
              "    </tr>\n",
              "  </tbody>\n",
              "</table>\n",
              "</div>\n",
              "      <button class=\"colab-df-convert\" onclick=\"convertToInteractive('df-d3457b4a-a234-4a42-9d92-1a0546776d0b')\"\n",
              "              title=\"Convert this dataframe to an interactive table.\"\n",
              "              style=\"display:none;\">\n",
              "        \n",
              "  <svg xmlns=\"http://www.w3.org/2000/svg\" height=\"24px\"viewBox=\"0 0 24 24\"\n",
              "       width=\"24px\">\n",
              "    <path d=\"M0 0h24v24H0V0z\" fill=\"none\"/>\n",
              "    <path d=\"M18.56 5.44l.94 2.06.94-2.06 2.06-.94-2.06-.94-.94-2.06-.94 2.06-2.06.94zm-11 1L8.5 8.5l.94-2.06 2.06-.94-2.06-.94L8.5 2.5l-.94 2.06-2.06.94zm10 10l.94 2.06.94-2.06 2.06-.94-2.06-.94-.94-2.06-.94 2.06-2.06.94z\"/><path d=\"M17.41 7.96l-1.37-1.37c-.4-.4-.92-.59-1.43-.59-.52 0-1.04.2-1.43.59L10.3 9.45l-7.72 7.72c-.78.78-.78 2.05 0 2.83L4 21.41c.39.39.9.59 1.41.59.51 0 1.02-.2 1.41-.59l7.78-7.78 2.81-2.81c.8-.78.8-2.07 0-2.86zM5.41 20L4 18.59l7.72-7.72 1.47 1.35L5.41 20z\"/>\n",
              "  </svg>\n",
              "      </button>\n",
              "      \n",
              "  <style>\n",
              "    .colab-df-container {\n",
              "      display:flex;\n",
              "      flex-wrap:wrap;\n",
              "      gap: 12px;\n",
              "    }\n",
              "\n",
              "    .colab-df-convert {\n",
              "      background-color: #E8F0FE;\n",
              "      border: none;\n",
              "      border-radius: 50%;\n",
              "      cursor: pointer;\n",
              "      display: none;\n",
              "      fill: #1967D2;\n",
              "      height: 32px;\n",
              "      padding: 0 0 0 0;\n",
              "      width: 32px;\n",
              "    }\n",
              "\n",
              "    .colab-df-convert:hover {\n",
              "      background-color: #E2EBFA;\n",
              "      box-shadow: 0px 1px 2px rgba(60, 64, 67, 0.3), 0px 1px 3px 1px rgba(60, 64, 67, 0.15);\n",
              "      fill: #174EA6;\n",
              "    }\n",
              "\n",
              "    [theme=dark] .colab-df-convert {\n",
              "      background-color: #3B4455;\n",
              "      fill: #D2E3FC;\n",
              "    }\n",
              "\n",
              "    [theme=dark] .colab-df-convert:hover {\n",
              "      background-color: #434B5C;\n",
              "      box-shadow: 0px 1px 3px 1px rgba(0, 0, 0, 0.15);\n",
              "      filter: drop-shadow(0px 1px 2px rgba(0, 0, 0, 0.3));\n",
              "      fill: #FFFFFF;\n",
              "    }\n",
              "  </style>\n",
              "\n",
              "      <script>\n",
              "        const buttonEl =\n",
              "          document.querySelector('#df-d3457b4a-a234-4a42-9d92-1a0546776d0b button.colab-df-convert');\n",
              "        buttonEl.style.display =\n",
              "          google.colab.kernel.accessAllowed ? 'block' : 'none';\n",
              "\n",
              "        async function convertToInteractive(key) {\n",
              "          const element = document.querySelector('#df-d3457b4a-a234-4a42-9d92-1a0546776d0b');\n",
              "          const dataTable =\n",
              "            await google.colab.kernel.invokeFunction('convertToInteractive',\n",
              "                                                     [key], {});\n",
              "          if (!dataTable) return;\n",
              "\n",
              "          const docLinkHtml = 'Like what you see? Visit the ' +\n",
              "            '<a target=\"_blank\" href=https://colab.research.google.com/notebooks/data_table.ipynb>data table notebook</a>'\n",
              "            + ' to learn more about interactive tables.';\n",
              "          element.innerHTML = '';\n",
              "          dataTable['output_type'] = 'display_data';\n",
              "          await google.colab.output.renderOutput(dataTable, element);\n",
              "          const docLink = document.createElement('div');\n",
              "          docLink.innerHTML = docLinkHtml;\n",
              "          element.appendChild(docLink);\n",
              "        }\n",
              "      </script>\n",
              "    </div>\n",
              "  </div>\n",
              "  "
            ]
          },
          "metadata": {},
          "execution_count": 66
        }
      ]
    },
    {
      "cell_type": "code",
      "source": [
        "iqvia_data['en_core_sci_scibert'][0].replace(' ', '').split(',')\n",
        "#save iqvia data in the format which can be given to model for prediction\n",
        "iqvia_tf = open(dir + \"/datasets/NER/NCBI-disease/iqvia_data.txt\", \"w+\")\n",
        "for element in lines_f:\n",
        "   iqvia_tf.write(element + \"\\n\")\n",
        "iqvia_tf.close()"
      ],
      "metadata": {
        "colab": {
          "base_uri": "https://localhost:8080/"
        },
        "id": "J2_maGlwdeN1",
        "outputId": "d7efd2d4-2409-46e0-9694-7ca217a2b8c1"
      },
      "execution_count": null,
      "outputs": [
        {
          "output_type": "execute_result",
          "data": {
            "text/plain": [
              "['BipolarDisorder',\n",
              " 'Incident',\n",
              " 'Dementia',\n",
              " 'Taiwan',\n",
              " 'Affectivedisorders',\n",
              " 'associatedwith',\n",
              " 'increased',\n",
              " 'risk',\n",
              " 'dementia',\n",
              " 'studies',\n",
              " 'association',\n",
              " 'majordepressivedisorder',\n",
              " 'depressiveepisodes',\n",
              " 'bipolardisorder',\n",
              " 'increased',\n",
              " 'dementia',\n",
              " 'risk',\n",
              " 'association',\n",
              " 'manic/mixedepisodes',\n",
              " 'bipolardisorder',\n",
              " 'increased',\n",
              " 'dementia',\n",
              " 'risk',\n",
              " 'unclear']"
            ]
          },
          "metadata": {},
          "execution_count": 80
        }
      ]
    },
    {
      "cell_type": "code",
      "source": [
        "!export SAVE_DIR=./output\n",
        "!export DATA_DIR=../datasets/NER\n",
        "\n",
        "!export MAX_LENGTH=192\n",
        "!export BATCH_SIZE=32\n",
        "!export NUM_EPOCHS=30\n",
        "!export SAVE_STEPS=1000\n",
        "!export ENTITY=NCBI-disease\n",
        "!export SEED=1\n",
        "\n",
        "!python run_ner.py \\\n",
        "    --data_dir ../datasets/NER/NCBI-disease/ \\\n",
        "    --labels ../datasets/NER/NCBI-disease/labels.txt \\\n",
        "    --model_name_or_path dmis-lab/biobert-base-cased-v1.1 \\\n",
        "    --output_dir ./output/NCBI-disease \\\n",
        "    --max_seq_length 192 \\\n",
        "    --num_train_epochs 3 \\\n",
        "    --per_device_train_batch_size 32 \\\n",
        "    --save_steps 1000\\\n",
        "    --seed 1\\\n",
        "    --do_train \\\n",
        "    --do_eval \\\n",
        "    --do_predict \\\n",
        "    --overwrite_output_dir"
      ],
      "metadata": {
        "id": "0j-UI0DkAzPL"
      },
      "execution_count": null,
      "outputs": []
    },
    {
      "cell_type": "code",
      "source": [
        "pre_trained_path = \"/content/drive/MyDrive/TopicModeling_TextSum/NER/biobert-pytorch/named-entity-recognition/output/NCBI-disease\"\n",
        "\n",
        "tokenizer = AutoTokenizer.from_pretrained(pre_trained_path, model_max_length=512)\n",
        "# model = AutoModelForTokenClassification.from_pretrained(pre_trained_path)\n",
        "# nlp=pipeline(task='ner',model=model,tokenizer=tokenizer,grouped_entities=True,)"
      ],
      "metadata": {
        "id": "xqyH6_enzfwl"
      },
      "execution_count": null,
      "outputs": []
    },
    {
      "cell_type": "code",
      "source": [
        "text=\"Electroconvulsive Therapy in Children and Adol.\"\n",
        "nlp(text)"
      ],
      "metadata": {
        "colab": {
          "base_uri": "https://localhost:8080/"
        },
        "id": "FSL4reAY0q5B",
        "outputId": "e40e2e47-5e7e-43c0-ff52-d02c9b29c928"
      },
      "execution_count": null,
      "outputs": [
        {
          "output_type": "execute_result",
          "data": {
            "text/plain": [
              "[]"
            ]
          },
          "metadata": {},
          "execution_count": 10
        }
      ]
    },
    {
      "cell_type": "code",
      "source": [
        "import pandas as pd\n",
        "df = pd.read_csv(\"/content/drive/MyDrive/TopicModeling_TextSum/sdummy.csv\")\n",
        "df.head()"
      ],
      "metadata": {
        "colab": {
          "base_uri": "https://localhost:8080/",
          "height": 206
        },
        "id": "q4kUzP3l8Q1D",
        "outputId": "fd178443-493e-438e-e71d-65757914c537"
      },
      "execution_count": null,
      "outputs": [
        {
          "output_type": "execute_result",
          "data": {
            "text/plain": [
              "         id                                               text\n",
              "0  34427054  A rare case report of teen-onset pica in a fem...\n",
              "1  34424874  Electroconvulsive Therapy in Children and Adol...\n",
              "2  34423843  Dopamine D1R Receptor Stimulation as a Mechani...\n",
              "3  34421684  Advancing Autism Research From Mice to Marmose...\n",
              "4  34421674  Altered Spatial Organization of Dynamic Functi..."
            ],
            "text/html": [
              "\n",
              "  <div id=\"df-d6006f9a-2434-45b3-a098-24b59141b9f0\">\n",
              "    <div class=\"colab-df-container\">\n",
              "      <div>\n",
              "<style scoped>\n",
              "    .dataframe tbody tr th:only-of-type {\n",
              "        vertical-align: middle;\n",
              "    }\n",
              "\n",
              "    .dataframe tbody tr th {\n",
              "        vertical-align: top;\n",
              "    }\n",
              "\n",
              "    .dataframe thead th {\n",
              "        text-align: right;\n",
              "    }\n",
              "</style>\n",
              "<table border=\"1\" class=\"dataframe\">\n",
              "  <thead>\n",
              "    <tr style=\"text-align: right;\">\n",
              "      <th></th>\n",
              "      <th>id</th>\n",
              "      <th>text</th>\n",
              "    </tr>\n",
              "  </thead>\n",
              "  <tbody>\n",
              "    <tr>\n",
              "      <th>0</th>\n",
              "      <td>34427054</td>\n",
              "      <td>A rare case report of teen-onset pica in a fem...</td>\n",
              "    </tr>\n",
              "    <tr>\n",
              "      <th>1</th>\n",
              "      <td>34424874</td>\n",
              "      <td>Electroconvulsive Therapy in Children and Adol...</td>\n",
              "    </tr>\n",
              "    <tr>\n",
              "      <th>2</th>\n",
              "      <td>34423843</td>\n",
              "      <td>Dopamine D1R Receptor Stimulation as a Mechani...</td>\n",
              "    </tr>\n",
              "    <tr>\n",
              "      <th>3</th>\n",
              "      <td>34421684</td>\n",
              "      <td>Advancing Autism Research From Mice to Marmose...</td>\n",
              "    </tr>\n",
              "    <tr>\n",
              "      <th>4</th>\n",
              "      <td>34421674</td>\n",
              "      <td>Altered Spatial Organization of Dynamic Functi...</td>\n",
              "    </tr>\n",
              "  </tbody>\n",
              "</table>\n",
              "</div>\n",
              "      <button class=\"colab-df-convert\" onclick=\"convertToInteractive('df-d6006f9a-2434-45b3-a098-24b59141b9f0')\"\n",
              "              title=\"Convert this dataframe to an interactive table.\"\n",
              "              style=\"display:none;\">\n",
              "        \n",
              "  <svg xmlns=\"http://www.w3.org/2000/svg\" height=\"24px\"viewBox=\"0 0 24 24\"\n",
              "       width=\"24px\">\n",
              "    <path d=\"M0 0h24v24H0V0z\" fill=\"none\"/>\n",
              "    <path d=\"M18.56 5.44l.94 2.06.94-2.06 2.06-.94-2.06-.94-.94-2.06-.94 2.06-2.06.94zm-11 1L8.5 8.5l.94-2.06 2.06-.94-2.06-.94L8.5 2.5l-.94 2.06-2.06.94zm10 10l.94 2.06.94-2.06 2.06-.94-2.06-.94-.94-2.06-.94 2.06-2.06.94z\"/><path d=\"M17.41 7.96l-1.37-1.37c-.4-.4-.92-.59-1.43-.59-.52 0-1.04.2-1.43.59L10.3 9.45l-7.72 7.72c-.78.78-.78 2.05 0 2.83L4 21.41c.39.39.9.59 1.41.59.51 0 1.02-.2 1.41-.59l7.78-7.78 2.81-2.81c.8-.78.8-2.07 0-2.86zM5.41 20L4 18.59l7.72-7.72 1.47 1.35L5.41 20z\"/>\n",
              "  </svg>\n",
              "      </button>\n",
              "      \n",
              "  <style>\n",
              "    .colab-df-container {\n",
              "      display:flex;\n",
              "      flex-wrap:wrap;\n",
              "      gap: 12px;\n",
              "    }\n",
              "\n",
              "    .colab-df-convert {\n",
              "      background-color: #E8F0FE;\n",
              "      border: none;\n",
              "      border-radius: 50%;\n",
              "      cursor: pointer;\n",
              "      display: none;\n",
              "      fill: #1967D2;\n",
              "      height: 32px;\n",
              "      padding: 0 0 0 0;\n",
              "      width: 32px;\n",
              "    }\n",
              "\n",
              "    .colab-df-convert:hover {\n",
              "      background-color: #E2EBFA;\n",
              "      box-shadow: 0px 1px 2px rgba(60, 64, 67, 0.3), 0px 1px 3px 1px rgba(60, 64, 67, 0.15);\n",
              "      fill: #174EA6;\n",
              "    }\n",
              "\n",
              "    [theme=dark] .colab-df-convert {\n",
              "      background-color: #3B4455;\n",
              "      fill: #D2E3FC;\n",
              "    }\n",
              "\n",
              "    [theme=dark] .colab-df-convert:hover {\n",
              "      background-color: #434B5C;\n",
              "      box-shadow: 0px 1px 3px 1px rgba(0, 0, 0, 0.15);\n",
              "      filter: drop-shadow(0px 1px 2px rgba(0, 0, 0, 0.3));\n",
              "      fill: #FFFFFF;\n",
              "    }\n",
              "  </style>\n",
              "\n",
              "      <script>\n",
              "        const buttonEl =\n",
              "          document.querySelector('#df-d6006f9a-2434-45b3-a098-24b59141b9f0 button.colab-df-convert');\n",
              "        buttonEl.style.display =\n",
              "          google.colab.kernel.accessAllowed ? 'block' : 'none';\n",
              "\n",
              "        async function convertToInteractive(key) {\n",
              "          const element = document.querySelector('#df-d6006f9a-2434-45b3-a098-24b59141b9f0');\n",
              "          const dataTable =\n",
              "            await google.colab.kernel.invokeFunction('convertToInteractive',\n",
              "                                                     [key], {});\n",
              "          if (!dataTable) return;\n",
              "\n",
              "          const docLinkHtml = 'Like what you see? Visit the ' +\n",
              "            '<a target=\"_blank\" href=https://colab.research.google.com/notebooks/data_table.ipynb>data table notebook</a>'\n",
              "            + ' to learn more about interactive tables.';\n",
              "          element.innerHTML = '';\n",
              "          dataTable['output_type'] = 'display_data';\n",
              "          await google.colab.output.renderOutput(dataTable, element);\n",
              "          const docLink = document.createElement('div');\n",
              "          docLink.innerHTML = docLinkHtml;\n",
              "          element.appendChild(docLink);\n",
              "        }\n",
              "      </script>\n",
              "    </div>\n",
              "  </div>\n",
              "  "
            ]
          },
          "metadata": {},
          "execution_count": 11
        }
      ]
    },
    {
      "cell_type": "code",
      "source": [
        "texts = df['text']\n",
        "outputs = list(map(lambda x: nlp(x), texts[:10]))"
      ],
      "metadata": {
        "id": "gNV_1CDp1S--"
      },
      "execution_count": null,
      "outputs": []
    },
    {
      "cell_type": "code",
      "source": [
        "outputs[1]"
      ],
      "metadata": {
        "colab": {
          "base_uri": "https://localhost:8080/"
        },
        "id": "ju9JP_Me8ojY",
        "outputId": "9b9a92da-b2b3-4f1a-bc63-e46732ec1fc2"
      },
      "execution_count": null,
      "outputs": [
        {
          "output_type": "execute_result",
          "data": {
            "text/plain": [
              "[{'entity_group': 'B-bio', 'score': 0.9997295141220093, 'word': 'psychiatric'},\n",
              " {'entity_group': 'I-bio', 'score': 0.9975121021270752, 'word': 'diseases'},\n",
              " {'entity_group': 'B-bio', 'score': 0.9976486563682556, 'word': 'psychiatric'},\n",
              " {'entity_group': 'I-bio', 'score': 0.9851688146591187, 'word': 'diseases'},\n",
              " {'entity_group': 'B-bio', 'score': 0.9999804496765137, 'word': 'mood'},\n",
              " {'entity_group': 'I-bio', 'score': 0.9999707937240601, 'word': 'disorders'},\n",
              " {'entity_group': 'B-bio', 'score': 0.9999865293502808, 'word': 'cat'},\n",
              " {'entity_group': 'I-bio', 'score': 0.9998069107532501, 'word': '##atonia'},\n",
              " {'entity_group': 'B-bio', 'score': 0.9043158888816833, 'word': 'schi'},\n",
              " {'entity_group': 'I-bio', 'score': 0.9999613165855408, 'word': '##zophrenia'},\n",
              " {'entity_group': 'B-bio',\n",
              "  'score': 0.9999850392341614,\n",
              "  'word': 'intellectual'},\n",
              " {'entity_group': 'I-bio', 'score': 0.9999822974205017, 'word': 'disability'},\n",
              " {'entity_group': 'B-bio', 'score': 0.9999767541885376, 'word': 'cognitive'},\n",
              " {'entity_group': 'I-bio', 'score': 0.9999647339185079, 'word': 'dysfunction'},\n",
              " {'entity_group': 'B-bio', 'score': 0.9997408390045166, 'word': 'mood'},\n",
              " {'entity_group': 'I-bio', 'score': 0.9999494552612305, 'word': 'disorders'},\n",
              " {'entity_group': 'B-bio', 'score': 0.9999852180480957, 'word': 'cat'},\n",
              " {'entity_group': 'I-bio', 'score': 0.9997484683990479, 'word': '##atonia'},\n",
              " {'entity_group': 'B-bio', 'score': 0.8942131400108337, 'word': 'schi'}]"
            ]
          },
          "metadata": {},
          "execution_count": 17
        }
      ]
    },
    {
      "cell_type": "code",
      "source": [
        "df_result = pd.DataFrame(outputs)\n",
        "df_result.to_csv(\"sdummy_ner_result.csv\")"
      ],
      "metadata": {
        "id": "bfcvXTP48rQh"
      },
      "execution_count": null,
      "outputs": []
    },
    {
      "cell_type": "code",
      "source": [
        "tokens = list(map(lambda x: tokenizer.tokenize(x), texts))"
      ],
      "metadata": {
        "id": "vf8tW507A5W1"
      },
      "execution_count": null,
      "outputs": []
    },
    {
      "cell_type": "code",
      "source": [
        "df_tokens = pd.DataFrame(tokens)\n",
        "df_tokens.to_csv(\"sdummy_tokens.csv\")"
      ],
      "metadata": {
        "id": "SXwo5gcxtnws"
      },
      "execution_count": null,
      "outputs": []
    },
    {
      "cell_type": "markdown",
      "source": [
        ""
      ],
      "metadata": {
        "id": "E5uH38IORdmX"
      }
    },
    {
      "cell_type": "code",
      "source": [
        "df_tokens.head()"
      ],
      "metadata": {
        "colab": {
          "base_uri": "https://localhost:8080/",
          "height": 299
        },
        "id": "4GtB_3WowV_h",
        "outputId": "5a9d8db2-f626-4aa6-b34b-560086480deb"
      },
      "execution_count": null,
      "outputs": [
        {
          "output_type": "execute_result",
          "data": {
            "text/plain": [
              "        0        1             2        3        4           5         6     \\\n",
              "0          a     rare          case   report       of        teen         -   \n",
              "1    electro    ##con          ##vu  ##lsive  therapy          in  children   \n",
              "2         do     ##pa        ##mine        d      ##1         ##r  receptor   \n",
              "3  advancing   autism      research     from     mice          to        ma   \n",
              "4    altered  spatial  organization       of  dynamic  functional   network   \n",
              "\n",
              "          7           8      9     ...  1098  1099  1100  1101  1102  1103  \\\n",
              "0        onset           p  ##ica  ...  None  None  None  None  None  None   \n",
              "1          and  adolescent    ##s  ...  None  None  None  None  None  None   \n",
              "2  stimulation          as      a  ...  None  None  None  None  None  None   \n",
              "3         ##rm       ##ose   ##ts  ...  None  None  None  None  None  None   \n",
              "4   associates        with    def  ...  None  None  None  None  None  None   \n",
              "\n",
              "   1104  1105  1106  1107  \n",
              "0  None  None  None  None  \n",
              "1  None  None  None  None  \n",
              "2  None  None  None  None  \n",
              "3  None  None  None  None  \n",
              "4  None  None  None  None  \n",
              "\n",
              "[5 rows x 1108 columns]"
            ],
            "text/html": [
              "\n",
              "  <div id=\"df-f638d222-8c62-4c19-960e-fb94ca48bed6\">\n",
              "    <div class=\"colab-df-container\">\n",
              "      <div>\n",
              "<style scoped>\n",
              "    .dataframe tbody tr th:only-of-type {\n",
              "        vertical-align: middle;\n",
              "    }\n",
              "\n",
              "    .dataframe tbody tr th {\n",
              "        vertical-align: top;\n",
              "    }\n",
              "\n",
              "    .dataframe thead th {\n",
              "        text-align: right;\n",
              "    }\n",
              "</style>\n",
              "<table border=\"1\" class=\"dataframe\">\n",
              "  <thead>\n",
              "    <tr style=\"text-align: right;\">\n",
              "      <th></th>\n",
              "      <th>0</th>\n",
              "      <th>1</th>\n",
              "      <th>2</th>\n",
              "      <th>3</th>\n",
              "      <th>4</th>\n",
              "      <th>5</th>\n",
              "      <th>6</th>\n",
              "      <th>7</th>\n",
              "      <th>8</th>\n",
              "      <th>9</th>\n",
              "      <th>...</th>\n",
              "      <th>1098</th>\n",
              "      <th>1099</th>\n",
              "      <th>1100</th>\n",
              "      <th>1101</th>\n",
              "      <th>1102</th>\n",
              "      <th>1103</th>\n",
              "      <th>1104</th>\n",
              "      <th>1105</th>\n",
              "      <th>1106</th>\n",
              "      <th>1107</th>\n",
              "    </tr>\n",
              "  </thead>\n",
              "  <tbody>\n",
              "    <tr>\n",
              "      <th>0</th>\n",
              "      <td>a</td>\n",
              "      <td>rare</td>\n",
              "      <td>case</td>\n",
              "      <td>report</td>\n",
              "      <td>of</td>\n",
              "      <td>teen</td>\n",
              "      <td>-</td>\n",
              "      <td>onset</td>\n",
              "      <td>p</td>\n",
              "      <td>##ica</td>\n",
              "      <td>...</td>\n",
              "      <td>None</td>\n",
              "      <td>None</td>\n",
              "      <td>None</td>\n",
              "      <td>None</td>\n",
              "      <td>None</td>\n",
              "      <td>None</td>\n",
              "      <td>None</td>\n",
              "      <td>None</td>\n",
              "      <td>None</td>\n",
              "      <td>None</td>\n",
              "    </tr>\n",
              "    <tr>\n",
              "      <th>1</th>\n",
              "      <td>electro</td>\n",
              "      <td>##con</td>\n",
              "      <td>##vu</td>\n",
              "      <td>##lsive</td>\n",
              "      <td>therapy</td>\n",
              "      <td>in</td>\n",
              "      <td>children</td>\n",
              "      <td>and</td>\n",
              "      <td>adolescent</td>\n",
              "      <td>##s</td>\n",
              "      <td>...</td>\n",
              "      <td>None</td>\n",
              "      <td>None</td>\n",
              "      <td>None</td>\n",
              "      <td>None</td>\n",
              "      <td>None</td>\n",
              "      <td>None</td>\n",
              "      <td>None</td>\n",
              "      <td>None</td>\n",
              "      <td>None</td>\n",
              "      <td>None</td>\n",
              "    </tr>\n",
              "    <tr>\n",
              "      <th>2</th>\n",
              "      <td>do</td>\n",
              "      <td>##pa</td>\n",
              "      <td>##mine</td>\n",
              "      <td>d</td>\n",
              "      <td>##1</td>\n",
              "      <td>##r</td>\n",
              "      <td>receptor</td>\n",
              "      <td>stimulation</td>\n",
              "      <td>as</td>\n",
              "      <td>a</td>\n",
              "      <td>...</td>\n",
              "      <td>None</td>\n",
              "      <td>None</td>\n",
              "      <td>None</td>\n",
              "      <td>None</td>\n",
              "      <td>None</td>\n",
              "      <td>None</td>\n",
              "      <td>None</td>\n",
              "      <td>None</td>\n",
              "      <td>None</td>\n",
              "      <td>None</td>\n",
              "    </tr>\n",
              "    <tr>\n",
              "      <th>3</th>\n",
              "      <td>advancing</td>\n",
              "      <td>autism</td>\n",
              "      <td>research</td>\n",
              "      <td>from</td>\n",
              "      <td>mice</td>\n",
              "      <td>to</td>\n",
              "      <td>ma</td>\n",
              "      <td>##rm</td>\n",
              "      <td>##ose</td>\n",
              "      <td>##ts</td>\n",
              "      <td>...</td>\n",
              "      <td>None</td>\n",
              "      <td>None</td>\n",
              "      <td>None</td>\n",
              "      <td>None</td>\n",
              "      <td>None</td>\n",
              "      <td>None</td>\n",
              "      <td>None</td>\n",
              "      <td>None</td>\n",
              "      <td>None</td>\n",
              "      <td>None</td>\n",
              "    </tr>\n",
              "    <tr>\n",
              "      <th>4</th>\n",
              "      <td>altered</td>\n",
              "      <td>spatial</td>\n",
              "      <td>organization</td>\n",
              "      <td>of</td>\n",
              "      <td>dynamic</td>\n",
              "      <td>functional</td>\n",
              "      <td>network</td>\n",
              "      <td>associates</td>\n",
              "      <td>with</td>\n",
              "      <td>def</td>\n",
              "      <td>...</td>\n",
              "      <td>None</td>\n",
              "      <td>None</td>\n",
              "      <td>None</td>\n",
              "      <td>None</td>\n",
              "      <td>None</td>\n",
              "      <td>None</td>\n",
              "      <td>None</td>\n",
              "      <td>None</td>\n",
              "      <td>None</td>\n",
              "      <td>None</td>\n",
              "    </tr>\n",
              "  </tbody>\n",
              "</table>\n",
              "<p>5 rows × 1108 columns</p>\n",
              "</div>\n",
              "      <button class=\"colab-df-convert\" onclick=\"convertToInteractive('df-f638d222-8c62-4c19-960e-fb94ca48bed6')\"\n",
              "              title=\"Convert this dataframe to an interactive table.\"\n",
              "              style=\"display:none;\">\n",
              "        \n",
              "  <svg xmlns=\"http://www.w3.org/2000/svg\" height=\"24px\"viewBox=\"0 0 24 24\"\n",
              "       width=\"24px\">\n",
              "    <path d=\"M0 0h24v24H0V0z\" fill=\"none\"/>\n",
              "    <path d=\"M18.56 5.44l.94 2.06.94-2.06 2.06-.94-2.06-.94-.94-2.06-.94 2.06-2.06.94zm-11 1L8.5 8.5l.94-2.06 2.06-.94-2.06-.94L8.5 2.5l-.94 2.06-2.06.94zm10 10l.94 2.06.94-2.06 2.06-.94-2.06-.94-.94-2.06-.94 2.06-2.06.94z\"/><path d=\"M17.41 7.96l-1.37-1.37c-.4-.4-.92-.59-1.43-.59-.52 0-1.04.2-1.43.59L10.3 9.45l-7.72 7.72c-.78.78-.78 2.05 0 2.83L4 21.41c.39.39.9.59 1.41.59.51 0 1.02-.2 1.41-.59l7.78-7.78 2.81-2.81c.8-.78.8-2.07 0-2.86zM5.41 20L4 18.59l7.72-7.72 1.47 1.35L5.41 20z\"/>\n",
              "  </svg>\n",
              "      </button>\n",
              "      \n",
              "  <style>\n",
              "    .colab-df-container {\n",
              "      display:flex;\n",
              "      flex-wrap:wrap;\n",
              "      gap: 12px;\n",
              "    }\n",
              "\n",
              "    .colab-df-convert {\n",
              "      background-color: #E8F0FE;\n",
              "      border: none;\n",
              "      border-radius: 50%;\n",
              "      cursor: pointer;\n",
              "      display: none;\n",
              "      fill: #1967D2;\n",
              "      height: 32px;\n",
              "      padding: 0 0 0 0;\n",
              "      width: 32px;\n",
              "    }\n",
              "\n",
              "    .colab-df-convert:hover {\n",
              "      background-color: #E2EBFA;\n",
              "      box-shadow: 0px 1px 2px rgba(60, 64, 67, 0.3), 0px 1px 3px 1px rgba(60, 64, 67, 0.15);\n",
              "      fill: #174EA6;\n",
              "    }\n",
              "\n",
              "    [theme=dark] .colab-df-convert {\n",
              "      background-color: #3B4455;\n",
              "      fill: #D2E3FC;\n",
              "    }\n",
              "\n",
              "    [theme=dark] .colab-df-convert:hover {\n",
              "      background-color: #434B5C;\n",
              "      box-shadow: 0px 1px 3px 1px rgba(0, 0, 0, 0.15);\n",
              "      filter: drop-shadow(0px 1px 2px rgba(0, 0, 0, 0.3));\n",
              "      fill: #FFFFFF;\n",
              "    }\n",
              "  </style>\n",
              "\n",
              "      <script>\n",
              "        const buttonEl =\n",
              "          document.querySelector('#df-f638d222-8c62-4c19-960e-fb94ca48bed6 button.colab-df-convert');\n",
              "        buttonEl.style.display =\n",
              "          google.colab.kernel.accessAllowed ? 'block' : 'none';\n",
              "\n",
              "        async function convertToInteractive(key) {\n",
              "          const element = document.querySelector('#df-f638d222-8c62-4c19-960e-fb94ca48bed6');\n",
              "          const dataTable =\n",
              "            await google.colab.kernel.invokeFunction('convertToInteractive',\n",
              "                                                     [key], {});\n",
              "          if (!dataTable) return;\n",
              "\n",
              "          const docLinkHtml = 'Like what you see? Visit the ' +\n",
              "            '<a target=\"_blank\" href=https://colab.research.google.com/notebooks/data_table.ipynb>data table notebook</a>'\n",
              "            + ' to learn more about interactive tables.';\n",
              "          element.innerHTML = '';\n",
              "          dataTable['output_type'] = 'display_data';\n",
              "          await google.colab.output.renderOutput(dataTable, element);\n",
              "          const docLink = document.createElement('div');\n",
              "          docLink.innerHTML = docLinkHtml;\n",
              "          element.appendChild(docLink);\n",
              "        }\n",
              "      </script>\n",
              "    </div>\n",
              "  </div>\n",
              "  "
            ]
          },
          "metadata": {},
          "execution_count": 25
        }
      ]
    },
    {
      "cell_type": "code",
      "source": [
        "def CountFreq(my_list):\n",
        "     \n",
        "   # Creating an empty dictionary\n",
        "   count = {}\n",
        "   for i in my_list:\n",
        "    count[i] = count.get(i, 0) + 1\n",
        "   return count"
      ],
      "metadata": {
        "id": "ah7j7Dy1ycDc"
      },
      "execution_count": null,
      "outputs": []
    },
    {
      "cell_type": "code",
      "source": [
        "flat_tokens = [token for sublist in tokens for token in sublist]"
      ],
      "metadata": {
        "id": "_ODw15yhwZnR"
      },
      "execution_count": null,
      "outputs": []
    },
    {
      "cell_type": "code",
      "source": [
        "unique_tokens = list(set(flat_tokens))"
      ],
      "metadata": {
        "id": "9Vy2caVoyBWd"
      },
      "execution_count": null,
      "outputs": []
    },
    {
      "cell_type": "code",
      "source": [
        "token_freq = CountFreq(flat_tokens)"
      ],
      "metadata": {
        "id": "cxxV1Ef1yYqP"
      },
      "execution_count": null,
      "outputs": []
    },
    {
      "cell_type": "code",
      "source": [
        "def join_tokens(t1, t2):\n",
        "  t = ''.join([t1, t2])\n",
        "  return t"
      ],
      "metadata": {
        "id": "TosQcJUjyac4"
      },
      "execution_count": null,
      "outputs": []
    },
    {
      "cell_type": "code",
      "source": [
        "''.join(['d', 'g'])"
      ],
      "metadata": {
        "colab": {
          "base_uri": "https://localhost:8080/",
          "height": 36
        },
        "id": "c7y2P_-1N52h",
        "outputId": "af4f7618-1e66-42d8-f71f-54454e236e2d"
      },
      "execution_count": null,
      "outputs": [
        {
          "output_type": "execute_result",
          "data": {
            "text/plain": [
              "'dg'"
            ],
            "application/vnd.google.colaboratory.intrinsic+json": {
              "type": "string"
            }
          },
          "metadata": {},
          "execution_count": 3
        }
      ]
    },
    {
      "cell_type": "code",
      "source": [
        "def find_sub_tokens(token_list):\n",
        "  for i, token in enumerate(token_list):\n",
        "    if token.find('##') == 0:\n",
        "      sub_tokens.append(token_list[i-1])"
      ],
      "metadata": {
        "colab": {
          "base_uri": "https://localhost:8080/"
        },
        "id": "gaOhcnY71Bfg",
        "outputId": "709d93bb-a2da-4382-d390-b29c430dc3f6"
      },
      "execution_count": null,
      "outputs": [
        {
          "output_type": "execute_result",
          "data": {
            "text/plain": [
              "1"
            ]
          },
          "metadata": {},
          "execution_count": 7
        }
      ]
    },
    {
      "cell_type": "code",
      "source": [
        "for i, t in enumerate([3, 4, 5]):\n",
        "  print(i)"
      ],
      "metadata": {
        "colab": {
          "base_uri": "https://localhost:8080/"
        },
        "id": "53nnAOV1PBSd",
        "outputId": "f467f566-5df4-4f37-afc1-a396ef39e7f2"
      },
      "execution_count": null,
      "outputs": [
        {
          "output_type": "stream",
          "name": "stdout",
          "text": [
            "0\n",
            "1\n",
            "2\n"
          ]
        }
      ]
    },
    {
      "cell_type": "code",
      "source": [
        ""
      ],
      "metadata": {
        "id": "_nLgQE6gQE7B"
      },
      "execution_count": null,
      "outputs": []
    }
  ]
}