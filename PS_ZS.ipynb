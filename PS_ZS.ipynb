{
  "cells": [
    {
      "cell_type": "markdown",
      "metadata": {
        "id": "view-in-github",
        "colab_type": "text"
      },
      "source": [
        "<a href=\"https://colab.research.google.com/github/shahpriyanka26/shahpriyanka26/blob/main/PS_ZS.ipynb\" target=\"_parent\"><img src=\"https://colab.research.google.com/assets/colab-badge.svg\" alt=\"Open In Colab\"/></a>"
      ]
    },
    {
      "cell_type": "markdown",
      "metadata": {
        "id": "5de2c459"
      },
      "source": [
        "# Business License Status Prediction"
      ],
      "id": "5de2c459"
    },
    {
      "cell_type": "code",
      "execution_count": null,
      "metadata": {
        "colab": {
          "background_save": true
        },
        "id": "1133eb16"
      },
      "outputs": [],
      "source": [
        "# Importing libraries\n",
        "import pandas as pd\n",
        "import numpy as np\n",
        "import matplotlib.pyplot as plt\n",
        "import seaborn as sns\n",
        "from sklearn.preprocessing import LabelEncoder\n",
        "from sklearn import metrics\n",
        "from sklearn.model_selection import GridSearchCV, RandomizedSearchCV\n",
        "from sklearn.model_selection import StratifiedKFold\n",
        "from sklearn.model_selection import train_test_split\n",
        "from sklearn.metrics import precision_score, recall_score, f1_score, roc_auc_score, accuracy_score, classification_report\n",
        "from datetime import datetime\n",
        "pd.set_option('display.max_rows', 500)\n",
        "pd.set_option('display.max_columns', 500)\n",
        "pd.set_option('display.width', 1000)"
      ],
      "id": "1133eb16"
    },
    {
      "cell_type": "code",
      "execution_count": null,
      "metadata": {
        "colab": {
          "background_save": true
        },
        "id": "1865b103"
      },
      "outputs": [],
      "source": [
        "# Importing the dataset\n",
        "train_data = pd.read_csv(\"/content/train_file.csv\")\n",
        "train_data.head()"
      ],
      "id": "1865b103"
    },
    {
      "cell_type": "code",
      "execution_count": null,
      "metadata": {
        "colab": {
          "background_save": true
        },
        "id": "6497a926"
      },
      "outputs": [],
      "source": [
        "train_data.shape"
      ],
      "id": "6497a926"
    },
    {
      "cell_type": "code",
      "execution_count": null,
      "metadata": {
        "colab": {
          "background_save": true
        },
        "id": "7e7e0c37"
      },
      "outputs": [],
      "source": [
        "# Importing the test dataset\n",
        "test_data = pd.read_csv(\"/content/test_file.csv\")\n",
        "test_data.head()"
      ],
      "id": "7e7e0c37"
    },
    {
      "cell_type": "code",
      "execution_count": null,
      "metadata": {
        "colab": {
          "base_uri": "https://localhost:8080/"
        },
        "id": "5c11e6bb",
        "outputId": "38187427-1d16-426c-9d84-cf4113631811"
      },
      "outputs": [
        {
          "data": {
            "text/plain": [
              "(57239, 31)"
            ]
          },
          "execution_count": 81,
          "metadata": {},
          "output_type": "execute_result"
        }
      ],
      "source": [
        "test_data.shape"
      ],
      "id": "5c11e6bb"
    },
    {
      "cell_type": "code",
      "execution_count": null,
      "metadata": {
        "id": "2b0303aa"
      },
      "outputs": [],
      "source": [
        "#creating consistent format for zip codes\n",
        "temp = train_data['ZIP CODE'].tolist()\n",
        "train_data['ZIP CODE'] = [str(sub).replace('.0', '') for sub in temp]"
      ],
      "id": "2b0303aa"
    },
    {
      "cell_type": "code",
      "execution_count": null,
      "metadata": {
        "id": "fc821841"
      },
      "outputs": [],
      "source": [
        "temp = test_data['ZIP CODE'].tolist()\n",
        "test_data['ZIP CODE'] = [str(sub).replace('.0', '') for sub in temp]"
      ],
      "id": "fc821841"
    },
    {
      "cell_type": "code",
      "execution_count": null,
      "metadata": {
        "colab": {
          "base_uri": "https://localhost:8080/",
          "height": 206
        },
        "id": "f615c25d",
        "outputId": "e04cd550-71bb-40bb-bf91-f95b04d0ae90"
      },
      "outputs": [
        {
          "data": {
            "text/html": [
              "\n",
              "  <div id=\"df-87ac2828-6471-4df7-8a27-2a9f754c35d2\">\n",
              "    <div class=\"colab-df-container\">\n",
              "      <div>\n",
              "<style scoped>\n",
              "    .dataframe tbody tr th:only-of-type {\n",
              "        vertical-align: middle;\n",
              "    }\n",
              "\n",
              "    .dataframe tbody tr th {\n",
              "        vertical-align: top;\n",
              "    }\n",
              "\n",
              "    .dataframe thead th {\n",
              "        text-align: right;\n",
              "    }\n",
              "</style>\n",
              "<table border=\"1\" class=\"dataframe\">\n",
              "  <thead>\n",
              "    <tr style=\"text-align: right;\">\n",
              "      <th></th>\n",
              "      <th>ID</th>\n",
              "    </tr>\n",
              "  </thead>\n",
              "  <tbody>\n",
              "    <tr>\n",
              "      <th>0</th>\n",
              "      <td>1516615-20120216</td>\n",
              "    </tr>\n",
              "    <tr>\n",
              "      <th>1</th>\n",
              "      <td>69813-20110616</td>\n",
              "    </tr>\n",
              "    <tr>\n",
              "      <th>2</th>\n",
              "      <td>1519227-20041116</td>\n",
              "    </tr>\n",
              "    <tr>\n",
              "      <th>3</th>\n",
              "      <td>1922025-20100816</td>\n",
              "    </tr>\n",
              "    <tr>\n",
              "      <th>4</th>\n",
              "      <td>1675683-20070816</td>\n",
              "    </tr>\n",
              "  </tbody>\n",
              "</table>\n",
              "</div>\n",
              "      <button class=\"colab-df-convert\" onclick=\"convertToInteractive('df-87ac2828-6471-4df7-8a27-2a9f754c35d2')\"\n",
              "              title=\"Convert this dataframe to an interactive table.\"\n",
              "              style=\"display:none;\">\n",
              "        \n",
              "  <svg xmlns=\"http://www.w3.org/2000/svg\" height=\"24px\"viewBox=\"0 0 24 24\"\n",
              "       width=\"24px\">\n",
              "    <path d=\"M0 0h24v24H0V0z\" fill=\"none\"/>\n",
              "    <path d=\"M18.56 5.44l.94 2.06.94-2.06 2.06-.94-2.06-.94-.94-2.06-.94 2.06-2.06.94zm-11 1L8.5 8.5l.94-2.06 2.06-.94-2.06-.94L8.5 2.5l-.94 2.06-2.06.94zm10 10l.94 2.06.94-2.06 2.06-.94-2.06-.94-.94-2.06-.94 2.06-2.06.94z\"/><path d=\"M17.41 7.96l-1.37-1.37c-.4-.4-.92-.59-1.43-.59-.52 0-1.04.2-1.43.59L10.3 9.45l-7.72 7.72c-.78.78-.78 2.05 0 2.83L4 21.41c.39.39.9.59 1.41.59.51 0 1.02-.2 1.41-.59l7.78-7.78 2.81-2.81c.8-.78.8-2.07 0-2.86zM5.41 20L4 18.59l7.72-7.72 1.47 1.35L5.41 20z\"/>\n",
              "  </svg>\n",
              "      </button>\n",
              "      \n",
              "  <style>\n",
              "    .colab-df-container {\n",
              "      display:flex;\n",
              "      flex-wrap:wrap;\n",
              "      gap: 12px;\n",
              "    }\n",
              "\n",
              "    .colab-df-convert {\n",
              "      background-color: #E8F0FE;\n",
              "      border: none;\n",
              "      border-radius: 50%;\n",
              "      cursor: pointer;\n",
              "      display: none;\n",
              "      fill: #1967D2;\n",
              "      height: 32px;\n",
              "      padding: 0 0 0 0;\n",
              "      width: 32px;\n",
              "    }\n",
              "\n",
              "    .colab-df-convert:hover {\n",
              "      background-color: #E2EBFA;\n",
              "      box-shadow: 0px 1px 2px rgba(60, 64, 67, 0.3), 0px 1px 3px 1px rgba(60, 64, 67, 0.15);\n",
              "      fill: #174EA6;\n",
              "    }\n",
              "\n",
              "    [theme=dark] .colab-df-convert {\n",
              "      background-color: #3B4455;\n",
              "      fill: #D2E3FC;\n",
              "    }\n",
              "\n",
              "    [theme=dark] .colab-df-convert:hover {\n",
              "      background-color: #434B5C;\n",
              "      box-shadow: 0px 1px 3px 1px rgba(0, 0, 0, 0.15);\n",
              "      filter: drop-shadow(0px 1px 2px rgba(0, 0, 0, 0.3));\n",
              "      fill: #FFFFFF;\n",
              "    }\n",
              "  </style>\n",
              "\n",
              "      <script>\n",
              "        const buttonEl =\n",
              "          document.querySelector('#df-87ac2828-6471-4df7-8a27-2a9f754c35d2 button.colab-df-convert');\n",
              "        buttonEl.style.display =\n",
              "          google.colab.kernel.accessAllowed ? 'block' : 'none';\n",
              "\n",
              "        async function convertToInteractive(key) {\n",
              "          const element = document.querySelector('#df-87ac2828-6471-4df7-8a27-2a9f754c35d2');\n",
              "          const dataTable =\n",
              "            await google.colab.kernel.invokeFunction('convertToInteractive',\n",
              "                                                     [key], {});\n",
              "          if (!dataTable) return;\n",
              "\n",
              "          const docLinkHtml = 'Like what you see? Visit the ' +\n",
              "            '<a target=\"_blank\" href=https://colab.research.google.com/notebooks/data_table.ipynb>data table notebook</a>'\n",
              "            + ' to learn more about interactive tables.';\n",
              "          element.innerHTML = '';\n",
              "          dataTable['output_type'] = 'display_data';\n",
              "          await google.colab.output.renderOutput(dataTable, element);\n",
              "          const docLink = document.createElement('div');\n",
              "          docLink.innerHTML = docLinkHtml;\n",
              "          element.appendChild(docLink);\n",
              "        }\n",
              "      </script>\n",
              "    </div>\n",
              "  </div>\n",
              "  "
            ],
            "text/plain": [
              "                 ID\n",
              "0  1516615-20120216\n",
              "1    69813-20110616\n",
              "2  1519227-20041116\n",
              "3  1922025-20100816\n",
              "4  1675683-20070816"
            ]
          },
          "execution_count": 84,
          "metadata": {},
          "output_type": "execute_result"
        }
      ],
      "source": [
        "#creating result dataframe\n",
        "my_submission = pd.DataFrame({'ID': test_data.ID})\n",
        "my_submission.head()"
      ],
      "id": "f615c25d"
    },
    {
      "cell_type": "code",
      "execution_count": null,
      "metadata": {
        "colab": {
          "base_uri": "https://localhost:8080/",
          "height": 350
        },
        "id": "75962ff4",
        "outputId": "680b3814-2656-4a0d-aea9-798921b6d680"
      },
      "outputs": [
        {
          "name": "stderr",
          "output_type": "stream",
          "text": [
            "/usr/local/lib/python3.7/dist-packages/seaborn/_decorators.py:43: FutureWarning: Pass the following variable as a keyword arg: x. From version 0.12, the only valid positional argument will be `data`, and passing other arguments without an explicit keyword will result in an error or misinterpretation.\n",
            "  FutureWarning\n"
          ]
        },
        {
          "data": {
            "image/png": "[encoded data removed]",
            "text/plain": [
              "<Figure size 432x288 with 1 Axes>"
            ]
          },
          "metadata": {},
          "output_type": "display_data"
        }
      ],
      "source": [
        "#Distribution of dependent label\n",
        "plt.title('Distribution of target variable')\n",
        "sns.countplot(train_data['LICENSE STATUS'])\n",
        "plt.show()"
      ],
      "id": "75962ff4"
    },
    {
      "cell_type": "code",
      "execution_count": null,
      "metadata": {
        "colab": {
          "base_uri": "https://localhost:8080/"
        },
        "id": "1342bf3e",
        "outputId": "b39a3993-e52d-4cf3-9851-943f0fd28be4"
      },
      "outputs": [
        {
          "data": {
            "text/plain": [
              "AAI    55400\n",
              "AAC    30200\n",
              "REV      290\n",
              "REA        3\n",
              "INQ        2\n",
              "Name: LICENSE STATUS, dtype: int64"
            ]
          },
          "execution_count": 86,
          "metadata": {},
          "output_type": "execute_result"
        }
      ],
      "source": [
        "#dependent label count\n",
        "train_data['LICENSE STATUS'].value_counts()"
      ],
      "id": "1342bf3e"
    },
    {
      "cell_type": "code",
      "execution_count": null,
      "metadata": {
        "colab": {
          "base_uri": "https://localhost:8080/",
          "height": 708
        },
        "id": "580cc9c6",
        "outputId": "74f7a29c-6f62-41b2-f25e-2a326d908c0c"
      },
      "outputs": [
        {
          "data": {
            "text/html": [
              "\n",
              "  <div id=\"df-005ef8a3-ca33-4dfd-be16-8ca425c128d6\">\n",
              "    <div class=\"colab-df-container\">\n",
              "      <div>\n",
              "<style scoped>\n",
              "    .dataframe tbody tr th:only-of-type {\n",
              "        vertical-align: middle;\n",
              "    }\n",
              "\n",
              "    .dataframe tbody tr th {\n",
              "        vertical-align: top;\n",
              "    }\n",
              "\n",
              "    .dataframe thead th {\n",
              "        text-align: right;\n",
              "    }\n",
              "</style>\n",
              "<table border=\"1\" class=\"dataframe\">\n",
              "  <thead>\n",
              "    <tr style=\"text-align: right;\">\n",
              "      <th></th>\n",
              "      <th>count</th>\n",
              "      <th>unique</th>\n",
              "      <th>top</th>\n",
              "      <th>freq</th>\n",
              "    </tr>\n",
              "  </thead>\n",
              "  <tbody>\n",
              "    <tr>\n",
              "      <th>ID</th>\n",
              "      <td>85895</td>\n",
              "      <td>85895</td>\n",
              "      <td>35342-20020816</td>\n",
              "      <td>1</td>\n",
              "    </tr>\n",
              "    <tr>\n",
              "      <th>LEGAL NAME</th>\n",
              "      <td>85895</td>\n",
              "      <td>38744</td>\n",
              "      <td>WASTE MANAGEMENT OF ILLINOIS INC.</td>\n",
              "      <td>689</td>\n",
              "    </tr>\n",
              "    <tr>\n",
              "      <th>DOING BUSINESS AS NAME</th>\n",
              "      <td>85894</td>\n",
              "      <td>41686</td>\n",
              "      <td>WASTE MANAGEMENT METRO</td>\n",
              "      <td>610</td>\n",
              "    </tr>\n",
              "    <tr>\n",
              "      <th>ADDRESS</th>\n",
              "      <td>85895</td>\n",
              "      <td>42146</td>\n",
              "      <td>1500 N HOOKER ST</td>\n",
              "      <td>537</td>\n",
              "    </tr>\n",
              "    <tr>\n",
              "      <th>CITY</th>\n",
              "      <td>85895</td>\n",
              "      <td>1223</td>\n",
              "      <td>CHICAGO</td>\n",
              "      <td>36744</td>\n",
              "    </tr>\n",
              "    <tr>\n",
              "      <th>STATE</th>\n",
              "      <td>85895</td>\n",
              "      <td>54</td>\n",
              "      <td>IL</td>\n",
              "      <td>80546</td>\n",
              "    </tr>\n",
              "    <tr>\n",
              "      <th>ZIP CODE</th>\n",
              "      <td>85895</td>\n",
              "      <td>1721</td>\n",
              "      <td>60618</td>\n",
              "      <td>1738</td>\n",
              "    </tr>\n",
              "    <tr>\n",
              "      <th>WARD PRECINCT</th>\n",
              "      <td>36195</td>\n",
              "      <td>2383</td>\n",
              "      <td>42-</td>\n",
              "      <td>1448</td>\n",
              "    </tr>\n",
              "    <tr>\n",
              "      <th>LICENSE DESCRIPTION</th>\n",
              "      <td>85895</td>\n",
              "      <td>106</td>\n",
              "      <td>Limited Business License</td>\n",
              "      <td>50078</td>\n",
              "    </tr>\n",
              "    <tr>\n",
              "      <th>APPLICATION TYPE</th>\n",
              "      <td>85895</td>\n",
              "      <td>5</td>\n",
              "      <td>RENEW</td>\n",
              "      <td>61085</td>\n",
              "    </tr>\n",
              "    <tr>\n",
              "      <th>APPLICATION CREATED DATE</th>\n",
              "      <td>21235</td>\n",
              "      <td>2899</td>\n",
              "      <td>2000-12-18T00:00:00</td>\n",
              "      <td>166</td>\n",
              "    </tr>\n",
              "    <tr>\n",
              "      <th>APPLICATION REQUIREMENTS COMPLETE</th>\n",
              "      <td>85681</td>\n",
              "      <td>3078</td>\n",
              "      <td>2003-12-15T00:00:00</td>\n",
              "      <td>4803</td>\n",
              "    </tr>\n",
              "    <tr>\n",
              "      <th>PAYMENT DATE</th>\n",
              "      <td>84606</td>\n",
              "      <td>4356</td>\n",
              "      <td>2006-01-23T00:00:00</td>\n",
              "      <td>353</td>\n",
              "    </tr>\n",
              "    <tr>\n",
              "      <th>CONDITIONAL APPROVAL</th>\n",
              "      <td>85895</td>\n",
              "      <td>2</td>\n",
              "      <td>N</td>\n",
              "      <td>85877</td>\n",
              "    </tr>\n",
              "    <tr>\n",
              "      <th>LICENSE TERM START DATE</th>\n",
              "      <td>85667</td>\n",
              "      <td>2825</td>\n",
              "      <td>2004-02-16T00:00:00</td>\n",
              "      <td>5146</td>\n",
              "    </tr>\n",
              "    <tr>\n",
              "      <th>LICENSE TERM EXPIRATION DATE</th>\n",
              "      <td>85877</td>\n",
              "      <td>297</td>\n",
              "      <td>2005-02-15T00:00:00</td>\n",
              "      <td>7162</td>\n",
              "    </tr>\n",
              "    <tr>\n",
              "      <th>LICENSE APPROVED FOR ISSUANCE</th>\n",
              "      <td>79106</td>\n",
              "      <td>4223</td>\n",
              "      <td>2003-12-22T00:00:00</td>\n",
              "      <td>4833</td>\n",
              "    </tr>\n",
              "    <tr>\n",
              "      <th>DATE ISSUED</th>\n",
              "      <td>85895</td>\n",
              "      <td>3498</td>\n",
              "      <td>2003-12-22T00:00:00</td>\n",
              "      <td>566</td>\n",
              "    </tr>\n",
              "    <tr>\n",
              "      <th>LICENSE STATUS CHANGE DATE</th>\n",
              "      <td>30495</td>\n",
              "      <td>3152</td>\n",
              "      <td>2012-12-29T00:00:00</td>\n",
              "      <td>10060</td>\n",
              "    </tr>\n",
              "    <tr>\n",
              "      <th>LOCATION</th>\n",
              "      <td>38649</td>\n",
              "      <td>21388</td>\n",
              "      <td>{'latitude': '41.90872856223717', 'longitude':...</td>\n",
              "      <td>538</td>\n",
              "    </tr>\n",
              "    <tr>\n",
              "      <th>LICENSE STATUS</th>\n",
              "      <td>85895</td>\n",
              "      <td>5</td>\n",
              "      <td>AAI</td>\n",
              "      <td>55400</td>\n",
              "    </tr>\n",
              "  </tbody>\n",
              "</table>\n",
              "</div>\n",
              "      <button class=\"colab-df-convert\" onclick=\"convertToInteractive('df-005ef8a3-ca33-4dfd-be16-8ca425c128d6')\"\n",
              "              title=\"Convert this dataframe to an interactive table.\"\n",
              "              style=\"display:none;\">\n",
              "        \n",
              "  <svg xmlns=\"http://www.w3.org/2000/svg\" height=\"24px\"viewBox=\"0 0 24 24\"\n",
              "       width=\"24px\">\n",
              "    <path d=\"M0 0h24v24H0V0z\" fill=\"none\"/>\n",
              "    <path d=\"M18.56 5.44l.94 2.06.94-2.06 2.06-.94-2.06-.94-.94-2.06-.94 2.06-2.06.94zm-11 1L8.5 8.5l.94-2.06 2.06-.94-2.06-.94L8.5 2.5l-.94 2.06-2.06.94zm10 10l.94 2.06.94-2.06 2.06-.94-2.06-.94-.94-2.06-.94 2.06-2.06.94z\"/><path d=\"M17.41 7.96l-1.37-1.37c-.4-.4-.92-.59-1.43-.59-.52 0-1.04.2-1.43.59L10.3 9.45l-7.72 7.72c-.78.78-.78 2.05 0 2.83L4 21.41c.39.39.9.59 1.41.59.51 0 1.02-.2 1.41-.59l7.78-7.78 2.81-2.81c.8-.78.8-2.07 0-2.86zM5.41 20L4 18.59l7.72-7.72 1.47 1.35L5.41 20z\"/>\n",
              "  </svg>\n",
              "      </button>\n",
              "      \n",
              "  <style>\n",
              "    .colab-df-container {\n",
              "      display:flex;\n",
              "      flex-wrap:wrap;\n",
              "      gap: 12px;\n",
              "    }\n",
              "\n",
              "    .colab-df-convert {\n",
              "      background-color: #E8F0FE;\n",
              "      border: none;\n",
              "      border-radius: 50%;\n",
              "      cursor: pointer;\n",
              "      display: none;\n",
              "      fill: #1967D2;\n",
              "      height: 32px;\n",
              "      padding: 0 0 0 0;\n",
              "      width: 32px;\n",
              "    }\n",
              "\n",
              "    .colab-df-convert:hover {\n",
              "      background-color: #E2EBFA;\n",
              "      box-shadow: 0px 1px 2px rgba(60, 64, 67, 0.3), 0px 1px 3px 1px rgba(60, 64, 67, 0.15);\n",
              "      fill: #174EA6;\n",
              "    }\n",
              "\n",
              "    [theme=dark] .colab-df-convert {\n",
              "      background-color: #3B4455;\n",
              "      fill: #D2E3FC;\n",
              "    }\n",
              "\n",
              "    [theme=dark] .colab-df-convert:hover {\n",
              "      background-color: #434B5C;\n",
              "      box-shadow: 0px 1px 3px 1px rgba(0, 0, 0, 0.15);\n",
              "      filter: drop-shadow(0px 1px 2px rgba(0, 0, 0, 0.3));\n",
              "      fill: #FFFFFF;\n",
              "    }\n",
              "  </style>\n",
              "\n",
              "      <script>\n",
              "        const buttonEl =\n",
              "          document.querySelector('#df-005ef8a3-ca33-4dfd-be16-8ca425c128d6 button.colab-df-convert');\n",
              "        buttonEl.style.display =\n",
              "          google.colab.kernel.accessAllowed ? 'block' : 'none';\n",
              "\n",
              "        async function convertToInteractive(key) {\n",
              "          const element = document.querySelector('#df-005ef8a3-ca33-4dfd-be16-8ca425c128d6');\n",
              "          const dataTable =\n",
              "            await google.colab.kernel.invokeFunction('convertToInteractive',\n",
              "                                                     [key], {});\n",
              "          if (!dataTable) return;\n",
              "\n",
              "          const docLinkHtml = 'Like what you see? Visit the ' +\n",
              "            '<a target=\"_blank\" href=https://colab.research.google.com/notebooks/data_table.ipynb>data table notebook</a>'\n",
              "            + ' to learn more about interactive tables.';\n",
              "          element.innerHTML = '';\n",
              "          dataTable['output_type'] = 'display_data';\n",
              "          await google.colab.output.renderOutput(dataTable, element);\n",
              "          const docLink = document.createElement('div');\n",
              "          docLink.innerHTML = docLinkHtml;\n",
              "          element.appendChild(docLink);\n",
              "        }\n",
              "      </script>\n",
              "    </div>\n",
              "  </div>\n",
              "  "
            ],
            "text/plain": [
              "                                   count unique                                                top   freq\n",
              "ID                                 85895  85895                                     35342-20020816      1\n",
              "LEGAL NAME                         85895  38744                  WASTE MANAGEMENT OF ILLINOIS INC.    689\n",
              "DOING BUSINESS AS NAME             85894  41686                             WASTE MANAGEMENT METRO    610\n",
              "ADDRESS                            85895  42146                                   1500 N HOOKER ST    537\n",
              "CITY                               85895   1223                                            CHICAGO  36744\n",
              "STATE                              85895     54                                                 IL  80546\n",
              "ZIP CODE                           85895   1721                                              60618   1738\n",
              "WARD PRECINCT                      36195   2383                                                42-   1448\n",
              "LICENSE DESCRIPTION                85895    106                           Limited Business License  50078\n",
              "APPLICATION TYPE                   85895      5                                              RENEW  61085\n",
              "APPLICATION CREATED DATE           21235   2899                                2000-12-18T00:00:00    166\n",
              "APPLICATION REQUIREMENTS COMPLETE  85681   3078                                2003-12-15T00:00:00   4803\n",
              "PAYMENT DATE                       84606   4356                                2006-01-23T00:00:00    353\n",
              "CONDITIONAL APPROVAL               85895      2                                                  N  85877\n",
              "LICENSE TERM START DATE            85667   2825                                2004-02-16T00:00:00   5146\n",
              "LICENSE TERM EXPIRATION DATE       85877    297                                2005-02-15T00:00:00   7162\n",
              "LICENSE APPROVED FOR ISSUANCE      79106   4223                                2003-12-22T00:00:00   4833\n",
              "DATE ISSUED                        85895   3498                                2003-12-22T00:00:00    566\n",
              "LICENSE STATUS CHANGE DATE         30495   3152                                2012-12-29T00:00:00  10060\n",
              "LOCATION                           38649  21388  {'latitude': '41.90872856223717', 'longitude':...    538\n",
              "LICENSE STATUS                     85895      5                                                AAI  55400"
            ]
          },
          "execution_count": 87,
          "metadata": {},
          "output_type": "execute_result"
        }
      ],
      "source": [
        "#summary of categorical variables in train data\n",
        "\n",
        "train_data.describe(include='object').T"
      ],
      "id": "580cc9c6"
    },
    {
      "cell_type": "code",
      "execution_count": null,
      "metadata": {
        "colab": {
          "base_uri": "https://localhost:8080/",
          "height": 545
        },
        "id": "6fd84528",
        "outputId": "f6517531-7242-4c35-d6fe-3ea0d9474220"
      },
      "outputs": [
        {
          "data": {
            "text/html": [
              "\n",
              "  <div id=\"df-307d0915-6317-4bf1-89f0-80b5afc401d9\">\n",
              "    <div class=\"colab-df-container\">\n",
              "      <div>\n",
              "<style scoped>\n",
              "    .dataframe tbody tr th:only-of-type {\n",
              "        vertical-align: middle;\n",
              "    }\n",
              "\n",
              "    .dataframe tbody tr th {\n",
              "        vertical-align: top;\n",
              "    }\n",
              "\n",
              "    .dataframe thead th {\n",
              "        text-align: right;\n",
              "    }\n",
              "</style>\n",
              "<table border=\"1\" class=\"dataframe\">\n",
              "  <thead>\n",
              "    <tr style=\"text-align: right;\">\n",
              "      <th></th>\n",
              "      <th>count</th>\n",
              "      <th>mean</th>\n",
              "      <th>std</th>\n",
              "      <th>min</th>\n",
              "      <th>25%</th>\n",
              "      <th>50%</th>\n",
              "      <th>75%</th>\n",
              "      <th>max</th>\n",
              "    </tr>\n",
              "  </thead>\n",
              "  <tbody>\n",
              "    <tr>\n",
              "      <th>LICENSE ID</th>\n",
              "      <td>85895.0</td>\n",
              "      <td>1.751303e+06</td>\n",
              "      <td>335877.991460</td>\n",
              "      <td>30793.000000</td>\n",
              "      <td>1.469024e+06</td>\n",
              "      <td>1.778754e+06</td>\n",
              "      <td>2.067578e+06</td>\n",
              "      <td>2.456551e+06</td>\n",
              "    </tr>\n",
              "    <tr>\n",
              "      <th>ACCOUNT NUMBER</th>\n",
              "      <td>85895.0</td>\n",
              "      <td>1.966954e+05</td>\n",
              "      <td>126819.343760</td>\n",
              "      <td>10.000000</td>\n",
              "      <td>5.461500e+04</td>\n",
              "      <td>2.483130e+05</td>\n",
              "      <td>3.002435e+05</td>\n",
              "      <td>3.974440e+05</td>\n",
              "    </tr>\n",
              "    <tr>\n",
              "      <th>SITE NUMBER</th>\n",
              "      <td>85895.0</td>\n",
              "      <td>2.556028e+00</td>\n",
              "      <td>8.655706</td>\n",
              "      <td>1.000000</td>\n",
              "      <td>1.000000e+00</td>\n",
              "      <td>1.000000e+00</td>\n",
              "      <td>2.000000e+00</td>\n",
              "      <td>4.170000e+02</td>\n",
              "    </tr>\n",
              "    <tr>\n",
              "      <th>WARD</th>\n",
              "      <td>36194.0</td>\n",
              "      <td>2.852893e+01</td>\n",
              "      <td>13.921710</td>\n",
              "      <td>1.000000</td>\n",
              "      <td>1.700000e+01</td>\n",
              "      <td>3.000000e+01</td>\n",
              "      <td>4.200000e+01</td>\n",
              "      <td>5.000000e+01</td>\n",
              "    </tr>\n",
              "    <tr>\n",
              "      <th>PRECINCT</th>\n",
              "      <td>29194.0</td>\n",
              "      <td>5.463297e+01</td>\n",
              "      <td>163.174955</td>\n",
              "      <td>1.000000</td>\n",
              "      <td>1.200000e+01</td>\n",
              "      <td>2.600000e+01</td>\n",
              "      <td>4.100000e+01</td>\n",
              "      <td>9.990000e+02</td>\n",
              "    </tr>\n",
              "    <tr>\n",
              "      <th>POLICE DISTRICT</th>\n",
              "      <td>31883.0</td>\n",
              "      <td>1.352981e+01</td>\n",
              "      <td>7.275874</td>\n",
              "      <td>1.000000</td>\n",
              "      <td>8.000000e+00</td>\n",
              "      <td>1.400000e+01</td>\n",
              "      <td>1.900000e+01</td>\n",
              "      <td>1.810000e+02</td>\n",
              "    </tr>\n",
              "    <tr>\n",
              "      <th>LICENSE CODE</th>\n",
              "      <td>85895.0</td>\n",
              "      <td>1.111737e+03</td>\n",
              "      <td>250.020872</td>\n",
              "      <td>1002.000000</td>\n",
              "      <td>1.010000e+03</td>\n",
              "      <td>1.010000e+03</td>\n",
              "      <td>1.011000e+03</td>\n",
              "      <td>8.340000e+03</td>\n",
              "    </tr>\n",
              "    <tr>\n",
              "      <th>LICENSE NUMBER</th>\n",
              "      <td>85894.0</td>\n",
              "      <td>1.228151e+06</td>\n",
              "      <td>743148.710120</td>\n",
              "      <td>129.000000</td>\n",
              "      <td>8.710900e+04</td>\n",
              "      <td>1.442202e+06</td>\n",
              "      <td>1.816581e+06</td>\n",
              "      <td>2.391410e+06</td>\n",
              "    </tr>\n",
              "    <tr>\n",
              "      <th>SSA</th>\n",
              "      <td>9449.0</td>\n",
              "      <td>2.915208e+01</td>\n",
              "      <td>17.419898</td>\n",
              "      <td>1.000000</td>\n",
              "      <td>1.700000e+01</td>\n",
              "      <td>2.800000e+01</td>\n",
              "      <td>4.000000e+01</td>\n",
              "      <td>6.900000e+01</td>\n",
              "    </tr>\n",
              "    <tr>\n",
              "      <th>LATITUDE</th>\n",
              "      <td>38649.0</td>\n",
              "      <td>4.188095e+01</td>\n",
              "      <td>0.079617</td>\n",
              "      <td>41.644694</td>\n",
              "      <td>4.183431e+01</td>\n",
              "      <td>4.189268e+01</td>\n",
              "      <td>4.193862e+01</td>\n",
              "      <td>4.202266e+01</td>\n",
              "    </tr>\n",
              "    <tr>\n",
              "      <th>LONGITUDE</th>\n",
              "      <td>38649.0</td>\n",
              "      <td>-8.768117e+01</td>\n",
              "      <td>0.056248</td>\n",
              "      <td>-87.915285</td>\n",
              "      <td>-8.771915e+01</td>\n",
              "      <td>-8.767332e+01</td>\n",
              "      <td>-8.763951e+01</td>\n",
              "      <td>-8.752587e+01</td>\n",
              "    </tr>\n",
              "  </tbody>\n",
              "</table>\n",
              "</div>\n",
              "      <button class=\"colab-df-convert\" onclick=\"convertToInteractive('df-307d0915-6317-4bf1-89f0-80b5afc401d9')\"\n",
              "              title=\"Convert this dataframe to an interactive table.\"\n",
              "              style=\"display:none;\">\n",
              "        \n",
              "  <svg xmlns=\"http://www.w3.org/2000/svg\" height=\"24px\"viewBox=\"0 0 24 24\"\n",
              "       width=\"24px\">\n",
              "    <path d=\"M0 0h24v24H0V0z\" fill=\"none\"/>\n",
              "    <path d=\"M18.56 5.44l.94 2.06.94-2.06 2.06-.94-2.06-.94-.94-2.06-.94 2.06-2.06.94zm-11 1L8.5 8.5l.94-2.06 2.06-.94-2.06-.94L8.5 2.5l-.94 2.06-2.06.94zm10 10l.94 2.06.94-2.06 2.06-.94-2.06-.94-.94-2.06-.94 2.06-2.06.94z\"/><path d=\"M17.41 7.96l-1.37-1.37c-.4-.4-.92-.59-1.43-.59-.52 0-1.04.2-1.43.59L10.3 9.45l-7.72 7.72c-.78.78-.78 2.05 0 2.83L4 21.41c.39.39.9.59 1.41.59.51 0 1.02-.2 1.41-.59l7.78-7.78 2.81-2.81c.8-.78.8-2.07 0-2.86zM5.41 20L4 18.59l7.72-7.72 1.47 1.35L5.41 20z\"/>\n",
              "  </svg>\n",
              "      </button>\n",
              "      \n",
              "  <style>\n",
              "    .colab-df-container {\n",
              "      display:flex;\n",
              "      flex-wrap:wrap;\n",
              "      gap: 12px;\n",
              "    }\n",
              "\n",
              "    .colab-df-convert {\n",
              "      background-color: #E8F0FE;\n",
              "      border: none;\n",
              "      border-radius: 50%;\n",
              "      cursor: pointer;\n",
              "      display: none;\n",
              "      fill: #1967D2;\n",
              "      height: 32px;\n",
              "      padding: 0 0 0 0;\n",
              "      width: 32px;\n",
              "    }\n",
              "\n",
              "    .colab-df-convert:hover {\n",
              "      background-color: #E2EBFA;\n",
              "      box-shadow: 0px 1px 2px rgba(60, 64, 67, 0.3), 0px 1px 3px 1px rgba(60, 64, 67, 0.15);\n",
              "      fill: #174EA6;\n",
              "    }\n",
              "\n",
              "    [theme=dark] .colab-df-convert {\n",
              "      background-color: #3B4455;\n",
              "      fill: #D2E3FC;\n",
              "    }\n",
              "\n",
              "    [theme=dark] .colab-df-convert:hover {\n",
              "      background-color: #434B5C;\n",
              "      box-shadow: 0px 1px 3px 1px rgba(0, 0, 0, 0.15);\n",
              "      filter: drop-shadow(0px 1px 2px rgba(0, 0, 0, 0.3));\n",
              "      fill: #FFFFFF;\n",
              "    }\n",
              "  </style>\n",
              "\n",
              "      <script>\n",
              "        const buttonEl =\n",
              "          document.querySelector('#df-307d0915-6317-4bf1-89f0-80b5afc401d9 button.colab-df-convert');\n",
              "        buttonEl.style.display =\n",
              "          google.colab.kernel.accessAllowed ? 'block' : 'none';\n",
              "\n",
              "        async function convertToInteractive(key) {\n",
              "          const element = document.querySelector('#df-307d0915-6317-4bf1-89f0-80b5afc401d9');\n",
              "          const dataTable =\n",
              "            await google.colab.kernel.invokeFunction('convertToInteractive',\n",
              "                                                     [key], {});\n",
              "          if (!dataTable) return;\n",
              "\n",
              "          const docLinkHtml = 'Like what you see? Visit the ' +\n",
              "            '<a target=\"_blank\" href=https://colab.research.google.com/notebooks/data_table.ipynb>data table notebook</a>'\n",
              "            + ' to learn more about interactive tables.';\n",
              "          element.innerHTML = '';\n",
              "          dataTable['output_type'] = 'display_data';\n",
              "          await google.colab.output.renderOutput(dataTable, element);\n",
              "          const docLink = document.createElement('div');\n",
              "          docLink.innerHTML = docLinkHtml;\n",
              "          element.appendChild(docLink);\n",
              "        }\n",
              "      </script>\n",
              "    </div>\n",
              "  </div>\n",
              "  "
            ],
            "text/plain": [
              "                   count          mean            std           min           25%           50%           75%           max\n",
              "LICENSE ID       85895.0  1.751303e+06  335877.991460  30793.000000  1.469024e+06  1.778754e+06  2.067578e+06  2.456551e+06\n",
              "ACCOUNT NUMBER   85895.0  1.966954e+05  126819.343760     10.000000  5.461500e+04  2.483130e+05  3.002435e+05  3.974440e+05\n",
              "SITE NUMBER      85895.0  2.556028e+00       8.655706      1.000000  1.000000e+00  1.000000e+00  2.000000e+00  4.170000e+02\n",
              "WARD             36194.0  2.852893e+01      13.921710      1.000000  1.700000e+01  3.000000e+01  4.200000e+01  5.000000e+01\n",
              "PRECINCT         29194.0  5.463297e+01     163.174955      1.000000  1.200000e+01  2.600000e+01  4.100000e+01  9.990000e+02\n",
              "POLICE DISTRICT  31883.0  1.352981e+01       7.275874      1.000000  8.000000e+00  1.400000e+01  1.900000e+01  1.810000e+02\n",
              "LICENSE CODE     85895.0  1.111737e+03     250.020872   1002.000000  1.010000e+03  1.010000e+03  1.011000e+03  8.340000e+03\n",
              "LICENSE NUMBER   85894.0  1.228151e+06  743148.710120    129.000000  8.710900e+04  1.442202e+06  1.816581e+06  2.391410e+06\n",
              "SSA               9449.0  2.915208e+01      17.419898      1.000000  1.700000e+01  2.800000e+01  4.000000e+01  6.900000e+01\n",
              "LATITUDE         38649.0  4.188095e+01       0.079617     41.644694  4.183431e+01  4.189268e+01  4.193862e+01  4.202266e+01\n",
              "LONGITUDE        38649.0 -8.768117e+01       0.056248    -87.915285 -8.771915e+01 -8.767332e+01 -8.763951e+01 -8.752587e+01"
            ]
          },
          "execution_count": 88,
          "metadata": {},
          "output_type": "execute_result"
        }
      ],
      "source": [
        "#Summary of numerical variables in train data\n",
        "train_data.describe().T\n"
      ],
      "id": "6fd84528"
    },
    {
      "cell_type": "code",
      "execution_count": null,
      "metadata": {
        "id": "42f90fa7"
      },
      "outputs": [],
      "source": [
        "def missingValueInDataFrame(df_act):\n",
        "    '''Calculate percentage of missing data in each column'''\n",
        "    list_colName=[]\n",
        "    list_colUnique=[]\n",
        "    list_lenColUnique=[]\n",
        "    for col in df_act.columns:\n",
        "        list_colName.append(col)\n",
        "        list_colUnique.append(df_act[col].unique())\n",
        "        list_lenColUnique.append(len(df_act[col].unique()))\n",
        "\n",
        "    df_colInfo=pd.DataFrame(list(zip(list_colName,list_colUnique,list_lenColUnique,list(df_act.isnull().sum()/len(df_act)*100))), columns=[\"columnName\",\"columnUnique\",\"uniqueLen\",\"missingValPercent\"]).sort_values(by=\"missingValPercent\", ascending=False)\n",
        "    \n",
        "    \n",
        "    return df_colInfo\n",
        "\n",
        "def repeatedValueInDataFrame(df_act):\n",
        "    '''Calculate columns with highly repetitive values'''\n",
        "    list_colName=[]\n",
        "    list_valKey=[]\n",
        "    list_valPercent=[]\n",
        "    list_max=[]\n",
        "\n",
        "    list_frstKey=[]\n",
        "    list_firstVal=[]\n",
        "\n",
        "    for col in df_act.columns:\n",
        "        dct=dict(df_act[col].value_counts())\n",
        "        if len(dct)<10:\n",
        "            list_colName.append(col)\n",
        "            list_valKey.append(list(dct.keys()))\n",
        "            lst=[i/len(df_act)*100 for i in list(dct.values())]\n",
        "            list_valPercent.append(lst)\n",
        "            list_max.append(max(lst))\n",
        "            list_frstKey.append(list(dct.keys())[0])\n",
        "            list_firstVal.append(lst[0])\n",
        "\n",
        "\n",
        "    df_repeatedval0=pd.DataFrame(list(zip(list_colName,list_valKey,list_valPercent,list_max)), columns=[\"columnName\",\"list_valKey\",\"list_valPercent\",\"list_max\"]).sort_values(by=\"list_max\", ascending=False)\n",
        "\n",
        "    df_repeatedval=pd.DataFrame(list(zip(list_colName,list_frstKey,list_firstVal)), columns=[\"columnName\",\"ReapeatedValue\",\"PercentageRepeatedValue\"]).sort_values(by=\"PercentageRepeatedValue\", ascending=False)\n",
        "    df_repeatedval.head(10)\n",
        "    \n",
        "    return df_repeatedval\n",
        "\n"
      ],
      "id": "42f90fa7"
    },
    {
      "cell_type": "code",
      "execution_count": null,
      "metadata": {
        "colab": {
          "base_uri": "https://localhost:8080/",
          "height": 1000
        },
        "id": "2915d4ab",
        "outputId": "b5a64cfd-f9f1-43ba-ca63-94952eea2b6a"
      },
      "outputs": [
        {
          "data": {
            "text/html": [
              "\n",
              "  <div id=\"df-19d29cee-f3e3-45c2-9cd4-741a99850886\">\n",
              "    <div class=\"colab-df-container\">\n",
              "      <div>\n",
              "<style scoped>\n",
              "    .dataframe tbody tr th:only-of-type {\n",
              "        vertical-align: middle;\n",
              "    }\n",
              "\n",
              "    .dataframe tbody tr th {\n",
              "        vertical-align: top;\n",
              "    }\n",
              "\n",
              "    .dataframe thead th {\n",
              "        text-align: right;\n",
              "    }\n",
              "</style>\n",
              "<table border=\"1\" class=\"dataframe\">\n",
              "  <thead>\n",
              "    <tr style=\"text-align: right;\">\n",
              "      <th></th>\n",
              "      <th>columnName</th>\n",
              "      <th>columnUnique</th>\n",
              "      <th>uniqueLen</th>\n",
              "      <th>missingValPercent</th>\n",
              "    </tr>\n",
              "  </thead>\n",
              "  <tbody>\n",
              "    <tr>\n",
              "      <th>27</th>\n",
              "      <td>SSA</td>\n",
              "      <td>[25.0, 60.0, nan, 14.0, 28.0, 45.0, 24.0, 10.0...</td>\n",
              "      <td>54</td>\n",
              "      <td>88.999360</td>\n",
              "    </tr>\n",
              "    <tr>\n",
              "      <th>18</th>\n",
              "      <td>APPLICATION CREATED DATE</td>\n",
              "      <td>[nan, 2009-06-29T00:00:00, 2004-02-10T00:00:00...</td>\n",
              "      <td>2900</td>\n",
              "      <td>75.277956</td>\n",
              "    </tr>\n",
              "    <tr>\n",
              "      <th>11</th>\n",
              "      <td>PRECINCT</td>\n",
              "      <td>[28.0, 23.0, nan, 6.0, 999.0, 37.0, 17.0, 21.0...</td>\n",
              "      <td>77</td>\n",
              "      <td>66.011991</td>\n",
              "    </tr>\n",
              "    <tr>\n",
              "      <th>26</th>\n",
              "      <td>LICENSE STATUS CHANGE DATE</td>\n",
              "      <td>[nan, 2006-06-15T00:00:00, 2004-05-04T00:00:00...</td>\n",
              "      <td>3153</td>\n",
              "      <td>64.497351</td>\n",
              "    </tr>\n",
              "    <tr>\n",
              "      <th>13</th>\n",
              "      <td>POLICE DISTRICT</td>\n",
              "      <td>[10.0, 17.0, nan, 12.0, 25.0, 18.0, 8.0, 16.0,...</td>\n",
              "      <td>29</td>\n",
              "      <td>62.881425</td>\n",
              "    </tr>\n",
              "    <tr>\n",
              "      <th>10</th>\n",
              "      <td>WARD</td>\n",
              "      <td>[22.0, 33.0, nan, 25.0, 35.0, 2.0, 18.0, 17.0,...</td>\n",
              "      <td>51</td>\n",
              "      <td>57.862507</td>\n",
              "    </tr>\n",
              "    <tr>\n",
              "      <th>12</th>\n",
              "      <td>WARD PRECINCT</td>\n",
              "      <td>[22-28, 33-23, nan, 25-6, 35-999, 2-37, 22-17,...</td>\n",
              "      <td>2384</td>\n",
              "      <td>57.861342</td>\n",
              "    </tr>\n",
              "    <tr>\n",
              "      <th>30</th>\n",
              "      <td>LOCATION</td>\n",
              "      <td>[{'latitude': '41.843612879431845', 'longitude...</td>\n",
              "      <td>21389</td>\n",
              "      <td>55.004366</td>\n",
              "    </tr>\n",
              "    <tr>\n",
              "      <th>29</th>\n",
              "      <td>LONGITUDE</td>\n",
              "      <td>[-87.71461847200001, -87.699626044, nan, -87.6...</td>\n",
              "      <td>21389</td>\n",
              "      <td>55.004366</td>\n",
              "    </tr>\n",
              "    <tr>\n",
              "      <th>28</th>\n",
              "      <td>LATITUDE</td>\n",
              "      <td>[41.843612879, 41.961132441, nan, 41.856222491...</td>\n",
              "      <td>21387</td>\n",
              "      <td>55.004366</td>\n",
              "    </tr>\n",
              "    <tr>\n",
              "      <th>24</th>\n",
              "      <td>LICENSE APPROVED FOR ISSUANCE</td>\n",
              "      <td>[2002-08-21T00:00:00, 2006-04-05T00:00:00, 200...</td>\n",
              "      <td>4224</td>\n",
              "      <td>7.903836</td>\n",
              "    </tr>\n",
              "    <tr>\n",
              "      <th>20</th>\n",
              "      <td>PAYMENT DATE</td>\n",
              "      <td>[2002-08-21T00:00:00, 2005-11-03T00:00:00, 200...</td>\n",
              "      <td>4357</td>\n",
              "      <td>1.500669</td>\n",
              "    </tr>\n",
              "    <tr>\n",
              "      <th>22</th>\n",
              "      <td>LICENSE TERM START DATE</td>\n",
              "      <td>[2002-08-16T00:00:00, 2005-11-16T00:00:00, 200...</td>\n",
              "      <td>2826</td>\n",
              "      <td>0.265440</td>\n",
              "    </tr>\n",
              "    <tr>\n",
              "      <th>19</th>\n",
              "      <td>APPLICATION REQUIREMENTS COMPLETE</td>\n",
              "      <td>[2002-06-28T00:00:00, 2005-09-22T00:00:00, 200...</td>\n",
              "      <td>3079</td>\n",
              "      <td>0.249141</td>\n",
              "    </tr>\n",
              "    <tr>\n",
              "      <th>23</th>\n",
              "      <td>LICENSE TERM EXPIRATION DATE</td>\n",
              "      <td>[2003-08-15T00:00:00, 2006-11-15T00:00:00, 201...</td>\n",
              "      <td>298</td>\n",
              "      <td>0.020956</td>\n",
              "    </tr>\n",
              "    <tr>\n",
              "      <th>5</th>\n",
              "      <td>DOING BUSINESS AS NAME</td>\n",
              "      <td>[CLAUDIA'S BRIDAL SHOP, ISLA TROPICAL, DJS REM...</td>\n",
              "      <td>41687</td>\n",
              "      <td>0.001164</td>\n",
              "    </tr>\n",
              "    <tr>\n",
              "      <th>16</th>\n",
              "      <td>LICENSE NUMBER</td>\n",
              "      <td>[35342.0, 1358463.0, 1980233.0, 1476582.0, 114...</td>\n",
              "      <td>49769</td>\n",
              "      <td>0.001164</td>\n",
              "    </tr>\n",
              "    <tr>\n",
              "      <th>25</th>\n",
              "      <td>DATE ISSUED</td>\n",
              "      <td>[2006-04-11T00:00:00, 2006-06-12T00:00:00, 200...</td>\n",
              "      <td>3498</td>\n",
              "      <td>0.000000</td>\n",
              "    </tr>\n",
              "    <tr>\n",
              "      <th>21</th>\n",
              "      <td>CONDITIONAL APPROVAL</td>\n",
              "      <td>[N, Y]</td>\n",
              "      <td>2</td>\n",
              "      <td>0.000000</td>\n",
              "    </tr>\n",
              "    <tr>\n",
              "      <th>0</th>\n",
              "      <td>ID</td>\n",
              "      <td>[35342-20020816, 1358463-20051116, 1980233-200...</td>\n",
              "      <td>85895</td>\n",
              "      <td>0.000000</td>\n",
              "    </tr>\n",
              "    <tr>\n",
              "      <th>17</th>\n",
              "      <td>APPLICATION TYPE</td>\n",
              "      <td>[RENEW, ISSUE, C_LOC, C_EXPA, C_CAPA]</td>\n",
              "      <td>5</td>\n",
              "      <td>0.000000</td>\n",
              "    </tr>\n",
              "    <tr>\n",
              "      <th>1</th>\n",
              "      <td>LICENSE ID</td>\n",
              "      <td>[1256593, 1639294, 1980233, 1476582, 1896750, ...</td>\n",
              "      <td>85895</td>\n",
              "      <td>0.000000</td>\n",
              "    </tr>\n",
              "    <tr>\n",
              "      <th>15</th>\n",
              "      <td>LICENSE DESCRIPTION</td>\n",
              "      <td>[Limited Business License, Mobile Food Dispens...</td>\n",
              "      <td>106</td>\n",
              "      <td>0.000000</td>\n",
              "    </tr>\n",
              "    <tr>\n",
              "      <th>14</th>\n",
              "      <td>LICENSE CODE</td>\n",
              "      <td>[1010, 1315, 1011, 1569, 1059, 1008, 1006, 104...</td>\n",
              "      <td>106</td>\n",
              "      <td>0.000000</td>\n",
              "    </tr>\n",
              "    <tr>\n",
              "      <th>9</th>\n",
              "      <td>ZIP CODE</td>\n",
              "      <td>[60623, 60618, 60035, 60439, 60087, 60191, 601...</td>\n",
              "      <td>1721</td>\n",
              "      <td>0.000000</td>\n",
              "    </tr>\n",
              "    <tr>\n",
              "      <th>8</th>\n",
              "      <td>STATE</td>\n",
              "      <td>[IL, IN, MS, NY, PA, MO, WI, GA, MI, TX, FL, M...</td>\n",
              "      <td>54</td>\n",
              "      <td>0.000000</td>\n",
              "    </tr>\n",
              "    <tr>\n",
              "      <th>7</th>\n",
              "      <td>CITY</td>\n",
              "      <td>[CHICAGO, HIGHLAND, LEMONT, WAUKEGAN, WOOD DAL...</td>\n",
              "      <td>1223</td>\n",
              "      <td>0.000000</td>\n",
              "    </tr>\n",
              "    <tr>\n",
              "      <th>6</th>\n",
              "      <td>ADDRESS</td>\n",
              "      <td>[2625 S CENTRAL PARK AVE  1, 2825 W MONTROSE A...</td>\n",
              "      <td>42146</td>\n",
              "      <td>0.000000</td>\n",
              "    </tr>\n",
              "    <tr>\n",
              "      <th>4</th>\n",
              "      <td>LEGAL NAME</td>\n",
              "      <td>[CARMEN CAHUE, ISLA TROPICAL, INC., DJS REMODE...</td>\n",
              "      <td>38744</td>\n",
              "      <td>0.000000</td>\n",
              "    </tr>\n",
              "    <tr>\n",
              "      <th>3</th>\n",
              "      <td>SITE NUMBER</td>\n",
              "      <td>[1, 29, 2, 3, 5, 19, 30, 14, 42, 12, 35, 21, 9...</td>\n",
              "      <td>177</td>\n",
              "      <td>0.000000</td>\n",
              "    </tr>\n",
              "    <tr>\n",
              "      <th>2</th>\n",
              "      <td>ACCOUNT NUMBER</td>\n",
              "      <td>[32811, 262311, 345008, 273121, 213785, 368042...</td>\n",
              "      <td>38897</td>\n",
              "      <td>0.000000</td>\n",
              "    </tr>\n",
              "    <tr>\n",
              "      <th>31</th>\n",
              "      <td>LICENSE STATUS</td>\n",
              "      <td>[AAI, AAC, REV, REA, INQ]</td>\n",
              "      <td>5</td>\n",
              "      <td>0.000000</td>\n",
              "    </tr>\n",
              "  </tbody>\n",
              "</table>\n",
              "</div>\n",
              "      <button class=\"colab-df-convert\" onclick=\"convertToInteractive('df-19d29cee-f3e3-45c2-9cd4-741a99850886')\"\n",
              "              title=\"Convert this dataframe to an interactive table.\"\n",
              "              style=\"display:none;\">\n",
              "        \n",
              "  <svg xmlns=\"http://www.w3.org/2000/svg\" height=\"24px\"viewBox=\"0 0 24 24\"\n",
              "       width=\"24px\">\n",
              "    <path d=\"M0 0h24v24H0V0z\" fill=\"none\"/>\n",
              "    <path d=\"M18.56 5.44l.94 2.06.94-2.06 2.06-.94-2.06-.94-.94-2.06-.94 2.06-2.06.94zm-11 1L8.5 8.5l.94-2.06 2.06-.94-2.06-.94L8.5 2.5l-.94 2.06-2.06.94zm10 10l.94 2.06.94-2.06 2.06-.94-2.06-.94-.94-2.06-.94 2.06-2.06.94z\"/><path d=\"M17.41 7.96l-1.37-1.37c-.4-.4-.92-.59-1.43-.59-.52 0-1.04.2-1.43.59L10.3 9.45l-7.72 7.72c-.78.78-.78 2.05 0 2.83L4 21.41c.39.39.9.59 1.41.59.51 0 1.02-.2 1.41-.59l7.78-7.78 2.81-2.81c.8-.78.8-2.07 0-2.86zM5.41 20L4 18.59l7.72-7.72 1.47 1.35L5.41 20z\"/>\n",
              "  </svg>\n",
              "      </button>\n",
              "      \n",
              "  <style>\n",
              "    .colab-df-container {\n",
              "      display:flex;\n",
              "      flex-wrap:wrap;\n",
              "      gap: 12px;\n",
              "    }\n",
              "\n",
              "    .colab-df-convert {\n",
              "      background-color: #E8F0FE;\n",
              "      border: none;\n",
              "      border-radius: 50%;\n",
              "      cursor: pointer;\n",
              "      display: none;\n",
              "      fill: #1967D2;\n",
              "      height: 32px;\n",
              "      padding: 0 0 0 0;\n",
              "      width: 32px;\n",
              "    }\n",
              "\n",
              "    .colab-df-convert:hover {\n",
              "      background-color: #E2EBFA;\n",
              "      box-shadow: 0px 1px 2px rgba(60, 64, 67, 0.3), 0px 1px 3px 1px rgba(60, 64, 67, 0.15);\n",
              "      fill: #174EA6;\n",
              "    }\n",
              "\n",
              "    [theme=dark] .colab-df-convert {\n",
              "      background-color: #3B4455;\n",
              "      fill: #D2E3FC;\n",
              "    }\n",
              "\n",
              "    [theme=dark] .colab-df-convert:hover {\n",
              "      background-color: #434B5C;\n",
              "      box-shadow: 0px 1px 3px 1px rgba(0, 0, 0, 0.15);\n",
              "      filter: drop-shadow(0px 1px 2px rgba(0, 0, 0, 0.3));\n",
              "      fill: #FFFFFF;\n",
              "    }\n",
              "  </style>\n",
              "\n",
              "      <script>\n",
              "        const buttonEl =\n",
              "          document.querySelector('#df-19d29cee-f3e3-45c2-9cd4-741a99850886 button.colab-df-convert');\n",
              "        buttonEl.style.display =\n",
              "          google.colab.kernel.accessAllowed ? 'block' : 'none';\n",
              "\n",
              "        async function convertToInteractive(key) {\n",
              "          const element = document.querySelector('#df-19d29cee-f3e3-45c2-9cd4-741a99850886');\n",
              "          const dataTable =\n",
              "            await google.colab.kernel.invokeFunction('convertToInteractive',\n",
              "                                                     [key], {});\n",
              "          if (!dataTable) return;\n",
              "\n",
              "          const docLinkHtml = 'Like what you see? Visit the ' +\n",
              "            '<a target=\"_blank\" href=https://colab.research.google.com/notebooks/data_table.ipynb>data table notebook</a>'\n",
              "            + ' to learn more about interactive tables.';\n",
              "          element.innerHTML = '';\n",
              "          dataTable['output_type'] = 'display_data';\n",
              "          await google.colab.output.renderOutput(dataTable, element);\n",
              "          const docLink = document.createElement('div');\n",
              "          docLink.innerHTML = docLinkHtml;\n",
              "          element.appendChild(docLink);\n",
              "        }\n",
              "      </script>\n",
              "    </div>\n",
              "  </div>\n",
              "  "
            ],
            "text/plain": [
              "                           columnName                                       columnUnique  uniqueLen  missingValPercent\n",
              "27                                SSA  [25.0, 60.0, nan, 14.0, 28.0, 45.0, 24.0, 10.0...         54          88.999360\n",
              "18           APPLICATION CREATED DATE  [nan, 2009-06-29T00:00:00, 2004-02-10T00:00:00...       2900          75.277956\n",
              "11                           PRECINCT  [28.0, 23.0, nan, 6.0, 999.0, 37.0, 17.0, 21.0...         77          66.011991\n",
              "26         LICENSE STATUS CHANGE DATE  [nan, 2006-06-15T00:00:00, 2004-05-04T00:00:00...       3153          64.497351\n",
              "13                    POLICE DISTRICT  [10.0, 17.0, nan, 12.0, 25.0, 18.0, 8.0, 16.0,...         29          62.881425\n",
              "10                               WARD  [22.0, 33.0, nan, 25.0, 35.0, 2.0, 18.0, 17.0,...         51          57.862507\n",
              "12                      WARD PRECINCT  [22-28, 33-23, nan, 25-6, 35-999, 2-37, 22-17,...       2384          57.861342\n",
              "30                           LOCATION  [{'latitude': '41.843612879431845', 'longitude...      21389          55.004366\n",
              "29                          LONGITUDE  [-87.71461847200001, -87.699626044, nan, -87.6...      21389          55.004366\n",
              "28                           LATITUDE  [41.843612879, 41.961132441, nan, 41.856222491...      21387          55.004366\n",
              "24      LICENSE APPROVED FOR ISSUANCE  [2002-08-21T00:00:00, 2006-04-05T00:00:00, 200...       4224           7.903836\n",
              "20                       PAYMENT DATE  [2002-08-21T00:00:00, 2005-11-03T00:00:00, 200...       4357           1.500669\n",
              "22            LICENSE TERM START DATE  [2002-08-16T00:00:00, 2005-11-16T00:00:00, 200...       2826           0.265440\n",
              "19  APPLICATION REQUIREMENTS COMPLETE  [2002-06-28T00:00:00, 2005-09-22T00:00:00, 200...       3079           0.249141\n",
              "23       LICENSE TERM EXPIRATION DATE  [2003-08-15T00:00:00, 2006-11-15T00:00:00, 201...        298           0.020956\n",
              "5              DOING BUSINESS AS NAME  [CLAUDIA'S BRIDAL SHOP, ISLA TROPICAL, DJS REM...      41687           0.001164\n",
              "16                     LICENSE NUMBER  [35342.0, 1358463.0, 1980233.0, 1476582.0, 114...      49769           0.001164\n",
              "25                        DATE ISSUED  [2006-04-11T00:00:00, 2006-06-12T00:00:00, 200...       3498           0.000000\n",
              "21               CONDITIONAL APPROVAL                                             [N, Y]          2           0.000000\n",
              "0                                  ID  [35342-20020816, 1358463-20051116, 1980233-200...      85895           0.000000\n",
              "17                   APPLICATION TYPE              [RENEW, ISSUE, C_LOC, C_EXPA, C_CAPA]          5           0.000000\n",
              "1                          LICENSE ID  [1256593, 1639294, 1980233, 1476582, 1896750, ...      85895           0.000000\n",
              "15                LICENSE DESCRIPTION  [Limited Business License, Mobile Food Dispens...        106           0.000000\n",
              "14                       LICENSE CODE  [1010, 1315, 1011, 1569, 1059, 1008, 1006, 104...        106           0.000000\n",
              "9                            ZIP CODE  [60623, 60618, 60035, 60439, 60087, 60191, 601...       1721           0.000000\n",
              "8                               STATE  [IL, IN, MS, NY, PA, MO, WI, GA, MI, TX, FL, M...         54           0.000000\n",
              "7                                CITY  [CHICAGO, HIGHLAND, LEMONT, WAUKEGAN, WOOD DAL...       1223           0.000000\n",
              "6                             ADDRESS  [2625 S CENTRAL PARK AVE  1, 2825 W MONTROSE A...      42146           0.000000\n",
              "4                          LEGAL NAME  [CARMEN CAHUE, ISLA TROPICAL, INC., DJS REMODE...      38744           0.000000\n",
              "3                         SITE NUMBER  [1, 29, 2, 3, 5, 19, 30, 14, 42, 12, 35, 21, 9...        177           0.000000\n",
              "2                      ACCOUNT NUMBER  [32811, 262311, 345008, 273121, 213785, 368042...      38897           0.000000\n",
              "31                     LICENSE STATUS                          [AAI, AAC, REV, REA, INQ]          5           0.000000"
            ]
          },
          "execution_count": 90,
          "metadata": {},
          "output_type": "execute_result"
        }
      ],
      "source": [
        "#missing value summary\n",
        "missingValueInDataFrame(train_data)"
      ],
      "id": "2915d4ab"
    },
    {
      "cell_type": "code",
      "execution_count": null,
      "metadata": {
        "id": "27d0b6ec"
      },
      "outputs": [],
      "source": [
        "#highly repeated values\n",
        "repeatedValueInDataFrame(train_data)"
      ],
      "id": "27d0b6ec"
    },
    {
      "cell_type": "code",
      "execution_count": null,
      "metadata": {
        "id": "975c03a0"
      },
      "outputs": [],
      "source": [
        "train_data['CONDITIONAL APPROVAL'].value_counts()"
      ],
      "id": "975c03a0"
    },
    {
      "cell_type": "code",
      "execution_count": null,
      "metadata": {
        "id": "a0c25a32"
      },
      "outputs": [],
      "source": [
        "\"\"\" Usage: pandas_entropy(df['column1']) \"\"\"\n",
        "import scipy\n",
        "def pandas_entropy(column):\n",
        "    p_data = column.value_counts() \n",
        "    return scipy.stats.entropy(p_data) "
      ],
      "id": "a0c25a32"
    },
    {
      "cell_type": "code",
      "execution_count": null,
      "metadata": {
        "id": "4dd86b08"
      },
      "outputs": [],
      "source": [
        "sh_df = train_data.apply(pandas_entropy,axis=0)\n",
        "sh_df.sort_values()"
      ],
      "id": "4dd86b08"
    },
    {
      "cell_type": "code",
      "execution_count": null,
      "metadata": {
        "id": "c1929e93"
      },
      "outputs": [],
      "source": [
        "#drop ID columns and columns with lots of repeated catgorical values"
      ],
      "id": "c1929e93"
    },
    {
      "cell_type": "code",
      "execution_count": null,
      "metadata": {
        "id": "b90bffea"
      },
      "outputs": [],
      "source": [
        "# Dropping columns which will be of no use for our model\n",
        "\n",
        "col_list = ['APPLICATION CREATED DATE', 'SSA', 'LICENSE ID', 'ID', 'ADDRESS','LICENSE NUMBER','CONDITIONAL APPROVAL','LICENSE STATUS CHANGE DATE']"
      ],
      "id": "b90bffea"
    },
    {
      "cell_type": "code",
      "execution_count": null,
      "metadata": {
        "id": "58ed07d9"
      },
      "outputs": [],
      "source": [
        "# Dropping columns which will be of no use for our model\n",
        "train_data = train_data.drop(col_list, axis=1)\n",
        "test_data = test_data.drop(col_list, axis=1)"
      ],
      "id": "58ed07d9"
    },
    {
      "cell_type": "code",
      "execution_count": null,
      "metadata": {
        "id": "32cb42b6"
      },
      "outputs": [],
      "source": [
        "train_data.columns"
      ],
      "id": "32cb42b6"
    },
    {
      "cell_type": "code",
      "execution_count": null,
      "metadata": {
        "id": "7f68bce1"
      },
      "outputs": [],
      "source": [
        "#from scipy.stats import kendalltau, pearsonr, spearmanr"
      ],
      "id": "7f68bce1"
    },
    {
      "cell_type": "code",
      "execution_count": null,
      "metadata": {
        "id": "26dcbc1d"
      },
      "outputs": [],
      "source": [
        "# Function to extraxt year and month from datetime data\n",
        "def convert_datetime(date_cols):\n",
        "    for i in date_cols:\n",
        "        train_data[i] = pd.to_datetime(train_data[i])\n",
        "        test_data[i] = pd.to_datetime(test_data[i])"
      ],
      "id": "26dcbc1d"
    },
    {
      "cell_type": "code",
      "execution_count": null,
      "metadata": {
        "id": "21bdb61b"
      },
      "outputs": [],
      "source": [
        "date_list = ['APPLICATION REQUIREMENTS COMPLETE', 'PAYMENT DATE', 'LICENSE TERM EXPIRATION DATE', 'LICENSE TERM START DATE',\n",
        "             'DATE ISSUED', 'LICENSE APPROVED FOR ISSUANCE']\n",
        "convert_datetime(date_list)"
      ],
      "id": "21bdb61b"
    },
    {
      "cell_type": "code",
      "execution_count": null,
      "metadata": {
        "id": "27429216"
      },
      "outputs": [],
      "source": [
        "train_data[date_list].isna().sum()"
      ],
      "id": "27429216"
    },
    {
      "cell_type": "code",
      "execution_count": null,
      "metadata": {
        "id": "bf47d1b4"
      },
      "outputs": [],
      "source": [
        "train_data[\"Validity Days\"] = (train_data['LICENSE TERM EXPIRATION DATE'] - train_data['LICENSE TERM START DATE']).dt.days\n",
        "test_data[\"Validity Days\"] = (test_data['LICENSE TERM EXPIRATION DATE'] - test_data['LICENSE TERM START DATE']).dt.days"
      ],
      "id": "bf47d1b4"
    },
    {
      "cell_type": "code",
      "execution_count": null,
      "metadata": {
        "id": "229b4703"
      },
      "outputs": [],
      "source": [
        "train_data[\"Validity Days\"].isna().sum()"
      ],
      "id": "229b4703"
    },
    {
      "cell_type": "code",
      "execution_count": null,
      "metadata": {
        "id": "a737719f"
      },
      "outputs": [],
      "source": [
        "# Function to impute missing values by rounded value of mean\n",
        "def round_mean(imp_mean_list):\n",
        "    for i in imp_mean_list:\n",
        "        train_data[i] = train_data[i].fillna(round(train_data[i].mean()))\n",
        "        test_data[i] = test_data[i].fillna(round(train_data[i].mean()))"
      ],
      "id": "a737719f"
    },
    {
      "cell_type": "code",
      "execution_count": null,
      "metadata": {
        "id": "5af69265"
      },
      "outputs": [],
      "source": [
        "imp_mean_list = ['Validity Days','LATITUDE', 'LONGITUDE']\n",
        "round_mean(imp_mean_list)"
      ],
      "id": "5af69265"
    },
    {
      "cell_type": "code",
      "execution_count": null,
      "metadata": {
        "id": "adb9a70f"
      },
      "outputs": [],
      "source": [
        "train_data[\"Validity Days\"].isna().sum()"
      ],
      "id": "adb9a70f"
    },
    {
      "cell_type": "code",
      "execution_count": null,
      "metadata": {
        "id": "8d377303"
      },
      "outputs": [],
      "source": [
        "# Function to obtain year and month from datetime data\n",
        "def get_yearmonth(colname_y,colname_m, dfcolname,df):\n",
        "    df[colname_y] = df[dfcolname].dt.year\n",
        "    df[colname_m] = df[dfcolname].dt.month\n",
        "    df = df.drop(dfcolname, axis=1)\n",
        "    return df"
      ],
      "id": "8d377303"
    },
    {
      "cell_type": "code",
      "execution_count": null,
      "metadata": {
        "id": "8d51725e"
      },
      "outputs": [],
      "source": [
        "for col in date_list:\n",
        "    print(col)\n",
        "    colname_y = col + \" Year\"\n",
        "    colname_m = col + \" Month\"\n",
        "    train_data = get_yearmonth(colname_y,colname_m, col,train_data)\n",
        "    test_data = get_yearmonth(colname_y,colname_m, col,test_data)\n",
        "    \n",
        "    \n",
        "    "
      ],
      "id": "8d51725e"
    },
    {
      "cell_type": "code",
      "execution_count": null,
      "metadata": {
        "id": "f4c47ffa"
      },
      "outputs": [],
      "source": [
        "train_data.columns"
      ],
      "id": "f4c47ffa"
    },
    {
      "cell_type": "code",
      "execution_count": null,
      "metadata": {
        "id": "49691938"
      },
      "outputs": [],
      "source": [
        "test_data.head(5)"
      ],
      "id": "49691938"
    },
    {
      "cell_type": "code",
      "execution_count": null,
      "metadata": {
        "id": "cc3e2d22"
      },
      "outputs": [],
      "source": [
        "year_list = ['LICENSE TERM EXPIRATION DATE Year', 'LICENSE TERM START DATE Year', 'PAYMENT DATE Year', 'LICENSE APPROVED FOR ISSUANCE Year',\n",
        "                 'APPLICATION REQUIREMENTS COMPLETE Year']\n",
        "for year_col in year_list:\n",
        "    train_data[year_col] = train_data[year_col].fillna(train_data['DATE ISSUED Year'])\n",
        "    test_data[year_col] = test_data[year_col].fillna(test_data['DATE ISSUED Year'])"
      ],
      "id": "cc3e2d22"
    },
    {
      "cell_type": "code",
      "execution_count": null,
      "metadata": {
        "id": "7a90872c"
      },
      "outputs": [],
      "source": [
        "\n",
        "list1 = ['LEGAL NAME', 'DOING BUSINESS AS NAME']\n",
        "train_data[list1].isna().sum()"
      ],
      "id": "7a90872c"
    },
    {
      "cell_type": "code",
      "execution_count": null,
      "metadata": {
        "id": "e70ae8c1"
      },
      "outputs": [],
      "source": [
        "train_data[list1]"
      ],
      "id": "e70ae8c1"
    },
    {
      "cell_type": "code",
      "execution_count": null,
      "metadata": {
        "id": "0863a30d"
      },
      "outputs": [],
      "source": [
        "# imputation of related columns\n",
        "train_data['DOING BUSINESS AS NAME'] = train_data['DOING BUSINESS AS NAME'].fillna(train_data['LEGAL NAME'])\n",
        "test_data['DOING BUSINESS AS NAME'] = test_data['DOING BUSINESS AS NAME'].fillna(test_data['LEGAL NAME'])\n",
        "\n",
        "\n",
        "test_data[list1].isna().sum()"
      ],
      "id": "0863a30d"
    },
    {
      "cell_type": "code",
      "execution_count": null,
      "metadata": {
        "id": "5e0a1612"
      },
      "outputs": [],
      "source": [
        "# feature engineering\n",
        "train_data['Company'] = 'PVT'\n",
        "test_data['Company'] = 'PVT'"
      ],
      "id": "5e0a1612"
    },
    {
      "cell_type": "code",
      "execution_count": null,
      "metadata": {
        "id": "14d49d1a"
      },
      "outputs": [],
      "source": [
        "train_data['Company'] = np.where(train_data['DOING BUSINESS AS NAME'].str.contains('INC'), 'INC', train_data['Company'])\n",
        "train_data['Company'] = np.where(train_data['DOING BUSINESS AS NAME'].str.contains('INCORPORATED'), 'INC', train_data['Company'])\n",
        "\n",
        "train_data['Company'] = np.where(train_data['LEGAL NAME'].str.contains('INC'), 'INC', train_data['Company'])\n",
        "train_data['Company'] = np.where(train_data['LEGAL NAME'].str.contains('INCORPORATED'), 'INC', train_data['Company'])"
      ],
      "id": "14d49d1a"
    },
    {
      "cell_type": "code",
      "execution_count": null,
      "metadata": {
        "id": "07fa01bc"
      },
      "outputs": [],
      "source": [
        "test_data['Company'] = np.where(test_data['DOING BUSINESS AS NAME'].str.contains('INC'), 'INC', test_data['Company'])\n",
        "test_data['Company'] = np.where(test_data['DOING BUSINESS AS NAME'].str.contains('INCORPORATED'), 'INC', test_data['Company'])\n",
        "\n",
        "test_data['Company'] = np.where(test_data['LEGAL NAME'].str.contains('INC'), 'INC', test_data['Company'])\n",
        "test_data['Company'] = np.where(test_data['LEGAL NAME'].str.contains('INCORPORATED'), 'INC', test_data['Company'])"
      ],
      "id": "07fa01bc"
    },
    {
      "cell_type": "code",
      "execution_count": null,
      "metadata": {
        "id": "9605760d"
      },
      "outputs": [],
      "source": [
        "train_data['Company'] = np.where(train_data['DOING BUSINESS AS NAME'].str.contains('LLC'), 'LLC', train_data['Company'])\n",
        "test_data['Company'] = np.where(test_data['DOING BUSINESS AS NAME'].str.contains('LLC'), 'LLC', test_data['Company'])\n",
        "\n",
        "train_data['Company'] = np.where(train_data['LEGAL NAME'].str.contains('LLC'), 'LLC', train_data['Company'])\n",
        "test_data['Company'] = np.where(test_data['LEGAL NAME'].str.contains('LLC'), 'LLC', test_data['Company'])"
      ],
      "id": "9605760d"
    },
    {
      "cell_type": "code",
      "execution_count": null,
      "metadata": {
        "id": "cbbbef30"
      },
      "outputs": [],
      "source": [
        "train_data['Company'] = np.where(train_data['DOING BUSINESS AS NAME'].str.contains('CO'), 'CORP', train_data['Company'])\n",
        "train_data['Company'] = np.where(train_data['DOING BUSINESS AS NAME'].str.contains('CORP'), 'CORP', train_data['Company'])\n",
        "train_data['Company'] = np.where(train_data['DOING BUSINESS AS NAME'].str.contains('CORPORATION'), 'CORP', train_data['Company'])\n",
        "\n",
        "test_data['Company'] = np.where(test_data['DOING BUSINESS AS NAME'].str.contains('CO'), 'CORP', test_data['Company'])\n",
        "test_data['Company'] = np.where(test_data['DOING BUSINESS AS NAME'].str.contains('CORP'), 'CORP', test_data['Company'])\n",
        "test_data['Company'] = np.where(test_data['DOING BUSINESS AS NAME'].str.contains('CORPORATION'), 'CORP', test_data['Company'])\n",
        "\n",
        "\n",
        "train_data['Company'] = np.where(train_data['LEGAL NAME'].str.contains('CO'), 'CORP', train_data['Company'])\n",
        "train_data['Company'] = np.where(train_data['LEGAL NAME'].str.contains('CORP'), 'CORP', train_data['Company'])\n",
        "train_data['Company'] = np.where(train_data['LEGAL NAME'].str.contains('CORPORATION'), 'CORP', train_data['Company'])\n",
        "\n",
        "test_data['Company'] = np.where(test_data['LEGAL NAME'].str.contains('CO'), 'CORP', test_data['Company'])\n",
        "test_data['Company'] = np.where(test_data['LEGAL NAME'].str.contains('CORP'), 'CORP', test_data['Company'])\n",
        "test_data['Company'] = np.where(test_data['LEGAL NAME'].str.contains('CORPORATION'), 'CORP', test_data['Company'])"
      ],
      "id": "cbbbef30"
    },
    {
      "cell_type": "code",
      "execution_count": null,
      "metadata": {
        "id": "19caa0b0"
      },
      "outputs": [],
      "source": [
        "train_data['Company'] = np.where(train_data['DOING BUSINESS AS NAME'].str.contains('LTD'), 'LTD', train_data['Company'])\n",
        "train_data['Company'] = np.where(train_data['DOING BUSINESS AS NAME'].str.contains('LIMITED'), 'LTD', train_data['Company'])\n",
        "\n",
        "test_data['Company'] = np.where(test_data['DOING BUSINESS AS NAME'].str.contains('LTD'), 'LTD', test_data['Company'])\n",
        "test_data['Company'] = np.where(test_data['DOING BUSINESS AS NAME'].str.contains('LIMITED'), 'LTD', test_data['Company'])\n",
        "\n",
        "train_data['Company'] = np.where(train_data['LEGAL NAME'].str.contains('LTD'), 'LTD', train_data['Company'])\n",
        "train_data['Company'] = np.where(train_data['LEGAL NAME'].str.contains('LIMITED'), 'LTD', train_data['Company'])\n",
        "\n",
        "test_data['Company'] = np.where(test_data['LEGAL NAME'].str.contains('LTD'), 'LTD', test_data['Company'])\n",
        "test_data['Company'] = np.where(test_data['LEGAL NAME'].str.contains('LIMITED'), 'LTD', test_data['Company'])"
      ],
      "id": "19caa0b0"
    },
    {
      "cell_type": "code",
      "execution_count": null,
      "metadata": {
        "id": "ed39783f"
      },
      "outputs": [],
      "source": [
        "train_data['Company'].isna().sum()"
      ],
      "id": "ed39783f"
    },
    {
      "cell_type": "code",
      "execution_count": null,
      "metadata": {
        "id": "f36330e2"
      },
      "outputs": [],
      "source": [
        "test_data['Company'].isna().sum()"
      ],
      "id": "f36330e2"
    },
    {
      "cell_type": "code",
      "execution_count": null,
      "metadata": {
        "id": "f84aa86e"
      },
      "outputs": [],
      "source": [
        "train_data['Company'].value_counts()"
      ],
      "id": "f84aa86e"
    },
    {
      "cell_type": "code",
      "execution_count": null,
      "metadata": {
        "id": "516dc259"
      },
      "outputs": [],
      "source": [
        "col_list = ['DOING BUSINESS AS NAME', 'LEGAL NAME']\n",
        "# Dropping columns \n",
        "train_data = train_data.drop(col_list, axis=1)\n",
        "test_data = test_data.drop(col_list, axis=1)"
      ],
      "id": "516dc259"
    },
    {
      "cell_type": "code",
      "execution_count": null,
      "metadata": {
        "id": "0fe272d5"
      },
      "outputs": [],
      "source": [
        "len(train_data['LICENSE DESCRIPTION'].unique())"
      ],
      "id": "0fe272d5"
    },
    {
      "cell_type": "code",
      "execution_count": null,
      "metadata": {
        "id": "08cc110e"
      },
      "outputs": [],
      "source": [
        "train_data['LICENSE DESCRIPTION'].unique()"
      ],
      "id": "08cc110e"
    },
    {
      "cell_type": "code",
      "execution_count": null,
      "metadata": {
        "id": "49f2b589"
      },
      "outputs": [],
      "source": [
        "train_data['LICENSE DESCRIPTION'] = train_data['LICENSE DESCRIPTION'].replace('Motor Vehicle Repair : Engine Only (Class II)', 'Motor Vehicle Repair')\n",
        "train_data['LICENSE DESCRIPTION'] = train_data['LICENSE DESCRIPTION'].replace('Motor Vehicle Repair: Engine/Body(Class III)', 'Motor Vehicle Repair')\n",
        "train_data['LICENSE DESCRIPTION'] = train_data['LICENSE DESCRIPTION'].replace('Motor Vehicle Repair; Specialty(Class I)', 'Motor Vehicle Repair')\n",
        "train_data['LICENSE DESCRIPTION'] = train_data['LICENSE DESCRIPTION'].replace('Day Care Center Under 2 Years', 'Day Care Center')\n",
        "train_data['LICENSE DESCRIPTION'] = train_data['LICENSE DESCRIPTION'].replace('Day Care Center 2 - 6 Years', 'Day Care Center')\n",
        "train_data['LICENSE DESCRIPTION'] = train_data['LICENSE DESCRIPTION'].replace('Day Care Center Under 2 and 2 - 6 Years', 'Day Care Center')\n",
        "train_data['LICENSE DESCRIPTION'] = train_data['LICENSE DESCRIPTION'].replace('Peddler, non-food', 'Peddler')\n",
        "train_data['LICENSE DESCRIPTION'] = train_data['LICENSE DESCRIPTION'].replace('Peddler, non-food, special', 'Peddler')\n",
        "train_data['LICENSE DESCRIPTION'] = train_data['LICENSE DESCRIPTION'].replace('Peddler, food (fruits and vegtables only)', 'Peddler')\n",
        "train_data['LICENSE DESCRIPTION'] = train_data['LICENSE DESCRIPTION'].replace('Peddler,food - (fruits and vegetables only) - special', 'Peddler')\n",
        "train_data['LICENSE DESCRIPTION'] = train_data['LICENSE DESCRIPTION'].replace('Tire Facilty Class I (100 - 1,000 Tires)', 'Tire Facilty')\n",
        "train_data['LICENSE DESCRIPTION'] = train_data['LICENSE DESCRIPTION'].replace('Tire Facility Class II (1,001 - 5,000 Tires)', 'Tire Facilty')\n",
        "train_data['LICENSE DESCRIPTION'] = train_data['LICENSE DESCRIPTION'].replace('Tire Facility Class III (5,001 - More Tires)', 'Tire Facilty')\n",
        "train_data['LICENSE DESCRIPTION'] = train_data['LICENSE DESCRIPTION'].replace('Repossessor Class A', 'Repossessor')\n",
        "train_data['LICENSE DESCRIPTION'] = train_data['LICENSE DESCRIPTION'].replace('Repossessor Class B', 'Repossessor')\n",
        "train_data['LICENSE DESCRIPTION'] = train_data['LICENSE DESCRIPTION'].replace('Repossessor Class B Employee', 'Repossessor')\n",
        "train_data['LICENSE DESCRIPTION'] = train_data['LICENSE DESCRIPTION'].replace('Expediter - Class B', 'Expediter')\n",
        "train_data['LICENSE DESCRIPTION'] = train_data['LICENSE DESCRIPTION'].replace('Expediter - Class A', 'Expediter')\n",
        "train_data['LICENSE DESCRIPTION'] = train_data['LICENSE DESCRIPTION'].replace('Expediter - Class B Employee', 'Expediter')\n",
        "train_data['LICENSE DESCRIPTION'] = train_data['LICENSE DESCRIPTION'].replace('Itinerant Merchant, Class II', 'Itinerant Merchant')\n",
        "train_data['LICENSE DESCRIPTION'] = train_data['LICENSE DESCRIPTION'].replace('Itinerant Merchant, Class I', 'Itinerant Merchant')"
      ],
      "id": "49f2b589"
    },
    {
      "cell_type": "code",
      "execution_count": null,
      "metadata": {
        "id": "d94a2445"
      },
      "outputs": [],
      "source": [
        "test_data['LICENSE DESCRIPTION'] = test_data['LICENSE DESCRIPTION'].replace('Motor Vehicle Repair : Engine Only (Class II)', 'Motor Vehicle Repair')\n",
        "test_data['LICENSE DESCRIPTION'] = test_data['LICENSE DESCRIPTION'].replace('Motor Vehicle Repair: Engine/Body(Class III)', 'Motor Vehicle Repair')\n",
        "test_data['LICENSE DESCRIPTION'] = test_data['LICENSE DESCRIPTION'].replace('Motor Vehicle Repair; Specialty(Class I)', 'Motor Vehicle Repair')\n",
        "test_data['LICENSE DESCRIPTION'] = test_data['LICENSE DESCRIPTION'].replace('Day Care Center Under 2 Years', 'Day Care Center')\n",
        "test_data['LICENSE DESCRIPTION'] = test_data['LICENSE DESCRIPTION'].replace('Day Care Center 2 - 6 Years', 'Day Care Center')\n",
        "test_data['LICENSE DESCRIPTION'] = test_data['LICENSE DESCRIPTION'].replace('Day Care Center Under 2 and 2 - 6 Years', 'Day Care Center')\n",
        "test_data['LICENSE DESCRIPTION'] = test_data['LICENSE DESCRIPTION'].replace('Peddler, non-food', 'Peddler')\n",
        "test_data['LICENSE DESCRIPTION'] = test_data['LICENSE DESCRIPTION'].replace('Peddler, non-food, special', 'Peddler')\n",
        "test_data['LICENSE DESCRIPTION'] = test_data['LICENSE DESCRIPTION'].replace('Peddler, food (fruits and vegtables only)', 'Peddler')\n",
        "test_data['LICENSE DESCRIPTION'] = test_data['LICENSE DESCRIPTION'].replace('Peddler,food - (fruits and vegetables only) - special', 'Peddler')\n",
        "test_data['LICENSE DESCRIPTION'] = test_data['LICENSE DESCRIPTION'].replace('Tire Facilty Class I (100 - 1,000 Tires)', 'Tire Facilty')\n",
        "test_data['LICENSE DESCRIPTION'] = test_data['LICENSE DESCRIPTION'].replace('Tire Facility Class II (1,001 - 5,000 Tires)', 'Tire Facilty')\n",
        "test_data['LICENSE DESCRIPTION'] = test_data['LICENSE DESCRIPTION'].replace('Tire Facility Class III (5,001 - More Tires)', 'Tire Facilty')\n",
        "test_data['LICENSE DESCRIPTION'] = test_data['LICENSE DESCRIPTION'].replace('Repossessor Class A', 'Repossessor')\n",
        "test_data['LICENSE DESCRIPTION'] = test_data['LICENSE DESCRIPTION'].replace('Repossessor Class B', 'Repossessor')\n",
        "test_data['LICENSE DESCRIPTION'] = test_data['LICENSE DESCRIPTION'].replace('Repossessor Class B Employee', 'Repossessor')\n",
        "test_data['LICENSE DESCRIPTION'] = test_data['LICENSE DESCRIPTION'].replace('Expediter - Class B', 'Expediter')\n",
        "test_data['LICENSE DESCRIPTION'] = test_data['LICENSE DESCRIPTION'].replace('Expediter - Class A', 'Expediter')\n",
        "test_data['LICENSE DESCRIPTION'] = test_data['LICENSE DESCRIPTION'].replace('Expediter - Class B Employee', 'Expediter')\n",
        "test_data['LICENSE DESCRIPTION'] = test_data['LICENSE DESCRIPTION'].replace('Itinerant Merchant, Class II', 'Itinerant Merchant')\n",
        "test_data['LICENSE DESCRIPTION'] = test_data['LICENSE DESCRIPTION'].replace('Itinerant Merchant, Class I', 'Itinerant Merchant')"
      ],
      "id": "d94a2445"
    },
    {
      "cell_type": "code",
      "execution_count": null,
      "metadata": {
        "id": "37f599f6"
      },
      "outputs": [],
      "source": [
        "cols = [\"LICENSE APPROVED FOR ISSUANCE Month\", \"PAYMENT DATE Month\",'LICENSE TERM START DATE Month','APPLICATION REQUIREMENTS COMPLETE Month','ZIP CODE','LICENSE TERM EXPIRATION DATE Month']\n",
        "train_data[cols]=train_data[cols].fillna(train_data.mode().iloc[0])\n",
        "test_data[cols]=test_data[cols].fillna(train_data.mode().iloc[0])"
      ],
      "id": "37f599f6"
    },
    {
      "cell_type": "code",
      "execution_count": null,
      "metadata": {
        "id": "f63cd2f1"
      },
      "outputs": [],
      "source": [
        "train_data['ZIP CODE'].isna().sum()"
      ],
      "id": "f63cd2f1"
    },
    {
      "cell_type": "code",
      "execution_count": null,
      "metadata": {
        "id": "f302336a"
      },
      "outputs": [],
      "source": [
        "col_list = ['PRECINCT', 'POLICE DISTRICT', 'WARD', 'WARD PRECINCT','LOCATION' ]\n",
        "# Dropping columns \n",
        "train_data = train_data.drop(col_list, axis=1)\n",
        "test_data = test_data.drop(col_list, axis=1)"
      ],
      "id": "f302336a"
    },
    {
      "cell_type": "code",
      "execution_count": null,
      "metadata": {
        "id": "72fb6516"
      },
      "outputs": [],
      "source": [
        "missingValueInDataFrame(train_data)"
      ],
      "id": "72fb6516"
    },
    {
      "cell_type": "code",
      "execution_count": null,
      "metadata": {
        "id": "d76d524c"
      },
      "outputs": [],
      "source": [
        "train_data[\"LICENSE STATUS\"] = train_data[\"LICENSE STATUS\"].replace('AAI', 0)\n",
        "train_data[\"LICENSE STATUS\"] = train_data[\"LICENSE STATUS\"].replace('AAC', 1)\n",
        "train_data[\"LICENSE STATUS\"] = train_data[\"LICENSE STATUS\"].replace('REV', 2)\n",
        "train_data[\"LICENSE STATUS\"] = train_data[\"LICENSE STATUS\"].replace('REA', 3)\n",
        "train_data[\"LICENSE STATUS\"] = train_data[\"LICENSE STATUS\"].replace('INQ', 4)"
      ],
      "id": "d76d524c"
    },
    {
      "cell_type": "code",
      "execution_count": null,
      "metadata": {
        "id": "491e219a"
      },
      "outputs": [],
      "source": [
        "class LabelEncoderExt(object):\n",
        "    def __init__(self):\n",
        "        \"\"\"\n",
        "        It differs from LabelEncoder by handling new classes and providing a value for it [Unknown]\n",
        "        Unknown will be added in fit and transform will take care of new item. It gives unknown class id\n",
        "        \"\"\"\n",
        "        self.label_encoder = LabelEncoder()\n",
        "        # self.classes_ = self.label_encoder.classes_\n",
        "\n",
        "    def fit(self, data_list):\n",
        "        \"\"\"\n",
        "        This will fit the encoder for all the unique values and introduce unknown value\n",
        "        :param data_list: A list of string\n",
        "        :return: self\n",
        "        \"\"\"\n",
        "        self.label_encoder = self.label_encoder.fit(list(data_list) + ['Unknown'])\n",
        "        self.classes_ = self.label_encoder.classes_\n",
        "\n",
        "        return self\n",
        "\n",
        "    def transform(self, data_list):\n",
        "        \"\"\"\n",
        "        This will transform the data_list to id list where the new values get assigned to Unknown class\n",
        "        :param data_list:\n",
        "        :return:\n",
        "        \"\"\"\n",
        "        new_data_list = list(data_list)\n",
        "        for unique_item in np.unique(data_list):\n",
        "            if unique_item not in self.label_encoder.classes_:\n",
        "                new_data_list = ['Unknown' if x==unique_item else x for x in new_data_list]\n",
        "\n",
        "        return self.label_encoder.transform(new_data_list)"
      ],
      "id": "491e219a"
    },
    {
      "cell_type": "code",
      "execution_count": null,
      "metadata": {
        "id": "898f90de"
      },
      "outputs": [],
      "source": [
        "train=train_data\n",
        "test=test_data"
      ],
      "id": "898f90de"
    },
    {
      "cell_type": "code",
      "execution_count": null,
      "metadata": {
        "id": "f177012a"
      },
      "outputs": [],
      "source": [
        "train['LICENSE STATUS']"
      ],
      "id": "f177012a"
    },
    {
      "cell_type": "code",
      "execution_count": null,
      "metadata": {
        "id": "95f354f8"
      },
      "outputs": [],
      "source": [
        "cols = ['CITY', 'STATE','ZIP CODE','LICENSE DESCRIPTION','APPLICATION TYPE','Company']\n",
        "for col in cols:\n",
        "    label_encoder = LabelEncoderExt()\n",
        "    label_encoder.fit(train[col])\n",
        "    train[col] = label_encoder.transform(train[col])\n",
        "    test[col] = label_encoder.transform(test[col])\n",
        "    "
      ],
      "id": "95f354f8"
    },
    {
      "cell_type": "code",
      "execution_count": null,
      "metadata": {
        "id": "59dbb5bc"
      },
      "outputs": [],
      "source": [
        "# Since our classes are highly skewed we should make them equivalent in order to have a normal distribution of the classes.\n",
        "\n",
        "# Lets shuffle the data before creating the subsamples\n",
        "\n",
        "train = train.sample(frac=1)\n",
        "\n",
        "# Amount of fraud classes in proportion.\n",
        "fraud_df = train[train['LICENSE STATUS'] == 4]\n",
        "pending_df = train[train['LICENSE STATUS'] == 3]\n",
        "accepted_df = train[train['LICENSE STATUS'] == 2]\n",
        "\n",
        "non_fraud_df = train[train['LICENSE STATUS'] == 1][:290]\n",
        "non_accepted_df = train[train['LICENSE STATUS'] == 0][:300]\n",
        "\n",
        "normal_distributed_df = pd.concat([fraud_df, pending_df, accepted_df, non_fraud_df, non_accepted_df, fraud_df,\n",
        "                                  fraud_df, fraud_df, fraud_df, pending_df, pending_df, fraud_df, pending_df])\n",
        "\n",
        "# Shuffle dataframe rows\n",
        "new_df = normal_distributed_df.sample(frac=1, random_state=42)\n",
        "\n",
        "new_df.head()"
      ],
      "id": "59dbb5bc"
    },
    {
      "cell_type": "code",
      "execution_count": null,
      "metadata": {
        "id": "24ddce4c"
      },
      "outputs": [],
      "source": [
        "plt.title('Distribution of target variable')\n",
        "sns.countplot(new_df['LICENSE STATUS'])\n",
        "plt.show()"
      ],
      "id": "24ddce4c"
    },
    {
      "cell_type": "code",
      "execution_count": null,
      "metadata": {
        "id": "9bf84c05"
      },
      "outputs": [],
      "source": [
        "# Our Subsample\n",
        "sub_sample_corr = new_df.corr()\n",
        "plt.figure(figsize=(20,20))\n",
        "sns.heatmap(sub_sample_corr, cbar=True, square= True, fmt='.1f', annot=True, annot_kws={'size':20}, cmap='Greens')\n",
        "plt.title('Subsample Correlation Matrix \\n (use for reference)', fontsize=14)\n",
        "plt.show()"
      ],
      "id": "9bf84c05"
    },
    {
      "cell_type": "code",
      "execution_count": null,
      "metadata": {
        "id": "20ff5d55"
      },
      "outputs": [],
      "source": [
        "new_df.columns"
      ],
      "id": "20ff5d55"
    },
    {
      "cell_type": "code",
      "execution_count": null,
      "metadata": {
        "id": "2bd1a999"
      },
      "outputs": [],
      "source": [
        "list_col = ['APPLICATION REQUIREMENTS COMPLETE Year','PAYMENT DATE Year', 'PAYMENT DATE Month', 'LICENSE TERM EXPIRATION DATE Year', 'LICENSE TERM EXPIRATION DATE Month', 'LICENSE TERM START DATE Year', 'LICENSE TERM START DATE Month', 'DATE ISSUED Year', 'DATE ISSUED Month', 'LICENSE APPROVED FOR ISSUANCE Year', 'LICENSE APPROVED FOR ISSUANCE Month']\n",
        "#train_data = train_data.drop(list_col, axis=1)\n",
        "#test_data = test_data.drop(list_col, axis=1)\n",
        "new_df = new_df.drop(list_col, axis=1)"
      ],
      "id": "2bd1a999"
    },
    {
      "cell_type": "code",
      "execution_count": null,
      "metadata": {
        "id": "77bde938"
      },
      "outputs": [],
      "source": [
        "# Our Subsample\n",
        "sub_sample_corr = new_df.corr()\n",
        "plt.figure(figsize=(20,20))\n",
        "sns.heatmap(sub_sample_corr, cbar=True, square= True, fmt='.1f', annot=True, annot_kws={'size':20}, cmap='Greens')\n",
        "plt.title('Subsample Correlation Matrix \\n (use for reference)', fontsize=14)\n",
        "plt.show()"
      ],
      "id": "77bde938"
    },
    {
      "cell_type": "code",
      "execution_count": null,
      "metadata": {
        "id": "4a5df81d"
      },
      "outputs": [],
      "source": [
        "from sklearn.manifold import TSNE\n",
        "from sklearn.decomposition import PCA\n",
        "import matplotlib.pyplot as plt\n",
        "variables =new_df.columns[1:].tolist()\n",
        "values= new_df.loc[:, variables].values\n",
        "target_values=new_df.loc[:,['LICENSE STATUS']].values\n",
        "X_pca = PCA().fit_transform(values)\n",
        "plt.figure(figsize=(10, 5))\n",
        "plt.subplot(121)\n",
        "plt.scatter(X_pca[:, 1], X_pca[:, 4], c=target_values)"
      ],
      "id": "4a5df81d"
    },
    {
      "cell_type": "code",
      "execution_count": null,
      "metadata": {
        "id": "3fb72355"
      },
      "outputs": [],
      "source": [
        "# Import for VIF\n",
        "from statsmodels.stats.outliers_influence import variance_inflation_factor\n",
        "from statsmodels.tools.tools import add_constant\n",
        "\n",
        "\n",
        "# Prepare a dataframe for VIF\n",
        "X_VIF = add_constant(new_df)\n",
        "\n",
        "\n",
        "# Calculate VIF scores\n",
        "vif_scores = pd.DataFrame([variance_inflation_factor(X_VIF.values, i) \n",
        "               for i in range(X_VIF.shape[1])], \n",
        "              index=X_VIF.columns)\n",
        "# Prepare a final dataframe of VIF scores\n",
        "vif_scores.reset_index(inplace = True)\n",
        "vif_scores.columns = ['Feature', 'VIFscore']\n",
        "vif_scores = vif_scores.loc[vif_scores['Feature'] != 'const', :]\n",
        "vif_scores = vif_scores.sort_values(by = ['VIFscore'], ascending = False)\n",
        "vif_scores"
      ],
      "id": "3fb72355"
    },
    {
      "cell_type": "code",
      "execution_count": null,
      "metadata": {
        "id": "51022606"
      },
      "outputs": [],
      "source": [
        "# Undersampling before cross validating (prone to overfit)\n",
        "X = new_df.drop('LICENSE STATUS', axis=1)\n",
        "y = new_df['LICENSE STATUS']"
      ],
      "id": "51022606"
    },
    {
      "cell_type": "code",
      "execution_count": null,
      "metadata": {
        "id": "eeca0543"
      },
      "outputs": [],
      "source": [
        "# Splitting the data into training set and testset\n",
        "from sklearn.model_selection import train_test_split\n",
        "X_train, X_test, y_train, y_test = train_test_split(X,y, test_size = 0.25, random_state = 1)"
      ],
      "id": "eeca0543"
    },
    {
      "cell_type": "code",
      "execution_count": null,
      "metadata": {
        "id": "6fbdf899"
      },
      "outputs": [],
      "source": [
        "# A function to create confusion matrix function to find out sensitivity and specificity\n",
        "from sklearn.metrics import confusion_matrix\n",
        "def draw_cm(actual, predicted):\n",
        "    cm = confusion_matrix( actual, predicted, [1,0]).T\n",
        "    sns.heatmap(cm, annot=True,  fmt='.2f', xticklabels = [\"Yes\",\"No\"] , yticklabels = [\"Yes\",\"No\"] )\n",
        "    plt.ylabel('Predicted')\n",
        "    plt.xlabel('Actual')\n",
        "    plt.show()"
      ],
      "id": "6fbdf899"
    },
    {
      "cell_type": "code",
      "execution_count": null,
      "metadata": {
        "colab": {
          "background_save": true,
          "base_uri": "https://localhost:8080/",
          "height": 398
        },
        "id": "0da65967",
        "outputId": "4434c634-1cc3-404e-8039-727271437bd9"
      },
      "outputs": [
        {
          "data": {
            "text/plain": [
              "XGBClassifier(colsample_bytree=0.6, gamma=0.1, learning_rate=0.02,\n",
              "              n_estimators=1000, nthread=1, num_class=5,\n",
              "              objective='multi:softprob', silent=True, subsample=1.0)"
            ]
          },
          "execution_count": null,
          "metadata": {},
          "output_type": "execute_result"
        }
      ],
      "source": [
        "# eXtreme Gradient Boosting\n",
        "\n",
        "# Import library of xgboost model\n",
        "from xgboost import XGBClassifier, plot_importance\n",
        "\n",
        "# Create a XGB Classifier\n",
        "gbm = XGBClassifier(learning_rate=0.02, n_estimators=1000, objective='multi:softmax', silent=True, nthread=1, num_class=5)\n",
        "\n",
        "# A parameter grid for XGBoost for Hyperparameter Optimization\n",
        "parameters = {\n",
        "        'min_child_weight': [1, 5, 10],\n",
        "        'gamma': [0.1, 0.5, 1, 1.5, 2, 5],\n",
        "        'subsample': [0.6, 0.8, 1.0],\n",
        "        'colsample_bytree': [0.6, 0.8, 1.0],\n",
        "        'max_depth': [3, 5, 6]\n",
        "        }\n",
        "\n",
        "# Run the grid search\n",
        "grid_obj = GridSearchCV(gbm, parameters)\n",
        "grid_obj = grid_obj.fit(X_train, y_train)\n",
        "\n",
        "# Set the rf to the best combination of parameters\n",
        "gbm = grid_obj.best_estimator_\n",
        "\n",
        "# Train the model using the training sets\n",
        "gbm.fit(X_train, y_train)"
      ],
      "id": "0da65967"
    },
    {
      "cell_type": "code",
      "execution_count": null,
      "metadata": {
        "colab": {
          "background_save": true
        },
        "id": "9ad449d5"
      },
      "outputs": [],
      "source": [
        "# Prediction on test data\n",
        "y_pred = gbm.predict(X_test)"
      ],
      "id": "9ad449d5"
    },
    {
      "cell_type": "code",
      "execution_count": null,
      "metadata": {
        "colab": {
          "background_save": true
        },
        "id": "c88e0faf",
        "outputId": "adbc61a6-6a3f-4f38-8fcf-e12e9c0d8162"
      },
      "outputs": [
        {
          "name": "stdout",
          "output_type": "stream",
          "text": [
            "Total Accuracy :  80.09\n"
          ]
        }
      ],
      "source": [
        "# Calculating the accuracy, precision and the recall\n",
        "acc_xgb = round( metrics.accuracy_score(y_test, y_pred) * 100 , 2 )\n",
        "print( 'Total Accuracy : ', acc_xgb )"
      ],
      "id": "c88e0faf"
    },
    {
      "cell_type": "code",
      "execution_count": null,
      "metadata": {
        "colab": {
          "background_save": true
        },
        "id": "fbdb7e5e",
        "outputId": "4aaa59bb-fac2-43de-d4ea-c696c09cd791"
      },
      "outputs": [
        {
          "data": {
            "image/png": "[encoded data removed]",
            "text/plain": [
              "<Figure size 864x1080 with 1 Axes>"
            ]
          },
          "metadata": {},
          "output_type": "display_data"
        }
      ],
      "source": [
        "# Feature Engineering\n",
        "fig, ax = plt.subplots(figsize=(12,15))\n",
        "plot_importance(gbm, max_num_features=50, height=0.8, ax=ax)\n",
        "plt.show()"
      ],
      "id": "fbdb7e5e"
    },
    {
      "cell_type": "code",
      "execution_count": null,
      "metadata": {
        "colab": {
          "background_save": true
        },
        "id": "0dfb7a29",
        "outputId": "2afa755d-028a-4089-f692-474c15376bd5"
      },
      "outputs": [
        {
          "data": {
            "text/plain": [
              "{'ACCOUNT NUMBER': 0.8985785388768067,\n",
              " 'APPLICATION REQUIREMENTS COMPLETE Month': 0.7004194837019407,\n",
              " 'APPLICATION TYPE': 0.9287402138622759,\n",
              " 'CITY': 1.4450481372814659,\n",
              " 'Company': 1.078191620867983,\n",
              " 'LATITUDE': 2.15869548315405,\n",
              " 'LICENSE CODE': 2.527264731718426,\n",
              " 'LICENSE DESCRIPTION': 2.4747642356123842,\n",
              " 'LONGITUDE': 3.6893364733845466,\n",
              " 'SITE NUMBER': 1.4048599965640642,\n",
              " 'STATE': 0.2439476532500001,\n",
              " 'Validity Days': 1.3931570922576864,\n",
              " 'ZIP CODE': 1.5991371399112053}"
            ]
          },
          "execution_count": null,
          "metadata": {},
          "output_type": "execute_result"
        }
      ],
      "source": [
        "gbm.get_booster().get_score(importance_type=\"gain\")"
      ],
      "id": "0dfb7a29"
    },
    {
      "cell_type": "code",
      "execution_count": null,
      "metadata": {
        "colab": {
          "background_save": true
        },
        "id": "31b35b62",
        "outputId": "00af0dbf-4426-4378-bc8f-74c7c626186a"
      },
      "outputs": [
        {
          "ename": "NameError",
          "evalue": "ignored",
          "output_type": "error",
          "traceback": [
            "\u001b[0;31m---------------------------------------------------------------------------\u001b[0m",
            "\u001b[0;31mNameError\u001b[0m                                 Traceback (most recent call last)",
            "\u001b[0;32m<ipython-input-74-d39b1525a582>\u001b[0m in \u001b[0;36m<module>\u001b[0;34m()\u001b[0m\n\u001b[0;32m----> 1\u001b[0;31m \u001b[0mprecision\u001b[0m\u001b[0;34m,\u001b[0m \u001b[0mrecall\u001b[0m\u001b[0;34m,\u001b[0m \u001b[0mfscore\u001b[0m\u001b[0;34m,\u001b[0m \u001b[0msupport\u001b[0m \u001b[0;34m=\u001b[0m \u001b[0mscore\u001b[0m\u001b[0;34m(\u001b[0m\u001b[0my_test\u001b[0m\u001b[0;34m,\u001b[0m \u001b[0my_pred\u001b[0m\u001b[0;34m)\u001b[0m\u001b[0;34m\u001b[0m\u001b[0;34m\u001b[0m\u001b[0m\n\u001b[0m\u001b[1;32m      2\u001b[0m \u001b[0;34m\u001b[0m\u001b[0m\n\u001b[1;32m      3\u001b[0m \u001b[0mprint\u001b[0m\u001b[0;34m(\u001b[0m\u001b[0;34m'precision: {}'\u001b[0m\u001b[0;34m.\u001b[0m\u001b[0mformat\u001b[0m\u001b[0;34m(\u001b[0m\u001b[0mprecision\u001b[0m\u001b[0;34m)\u001b[0m\u001b[0;34m)\u001b[0m\u001b[0;34m\u001b[0m\u001b[0;34m\u001b[0m\u001b[0m\n\u001b[1;32m      4\u001b[0m \u001b[0mprint\u001b[0m\u001b[0;34m(\u001b[0m\u001b[0;34m'recall: {}'\u001b[0m\u001b[0;34m.\u001b[0m\u001b[0mformat\u001b[0m\u001b[0;34m(\u001b[0m\u001b[0mrecall\u001b[0m\u001b[0;34m)\u001b[0m\u001b[0;34m)\u001b[0m\u001b[0;34m\u001b[0m\u001b[0;34m\u001b[0m\u001b[0m\n\u001b[1;32m      5\u001b[0m \u001b[0mprint\u001b[0m\u001b[0;34m(\u001b[0m\u001b[0;34m'fscore: {}'\u001b[0m\u001b[0;34m.\u001b[0m\u001b[0mformat\u001b[0m\u001b[0;34m(\u001b[0m\u001b[0mfscore\u001b[0m\u001b[0;34m)\u001b[0m\u001b[0;34m)\u001b[0m\u001b[0;34m\u001b[0m\u001b[0;34m\u001b[0m\u001b[0m\n",
            "\u001b[0;31mNameError\u001b[0m: name 'score' is not defined"
          ]
        }
      ],
      "source": [
        "precision, recall, fscore, support = score(y_test, y_pred)\n",
        "\n",
        "print('precision: {}'.format(precision))\n",
        "print('recall: {}'.format(recall))\n",
        "print('fscore: {}'.format(fscore))\n",
        "print('support: {}'.format(support))"
      ],
      "id": "31b35b62"
    },
    {
      "cell_type": "code",
      "execution_count": null,
      "metadata": {
        "colab": {
          "background_save": true
        },
        "id": "e68f6fda"
      },
      "outputs": [],
      "source": [
        "# Predicting on the test dataset\n",
        "my_pred = gbm.predict(test_data)"
      ],
      "id": "e68f6fda"
    },
    {
      "cell_type": "code",
      "execution_count": null,
      "metadata": {
        "colab": {
          "background_save": true
        },
        "id": "15286b68"
      },
      "outputs": [],
      "source": [
        "my_submission['LICENSE STATUS'] = my_pred"
      ],
      "id": "15286b68"
    },
    {
      "cell_type": "code",
      "execution_count": null,
      "metadata": {
        "colab": {
          "background_save": true
        },
        "id": "9480f9e7"
      },
      "outputs": [],
      "source": [
        "my_submission.shape"
      ],
      "id": "9480f9e7"
    },
    {
      "cell_type": "code",
      "execution_count": null,
      "metadata": {
        "colab": {
          "background_save": true
        },
        "id": "2542278e"
      },
      "outputs": [],
      "source": [
        "my_submission['LICENSE STATUS'] = my_submission['LICENSE STATUS'].replace(0, 'AAI')\n",
        "my_submission['LICENSE STATUS'] = my_submission['LICENSE STATUS'].replace(1, 'AAC')\n",
        "my_submission['LICENSE STATUS'] = my_submission['LICENSE STATUS'].replace(2, 'REV')\n",
        "my_submission['LICENSE STATUS'] = my_submission['LICENSE STATUS'].replace(3, 'REA')\n",
        "my_submission['LICENSE STATUS'] = my_submission['LICENSE STATUS'].replace(4, 'INQ')"
      ],
      "id": "2542278e"
    },
    {
      "cell_type": "code",
      "execution_count": null,
      "metadata": {
        "colab": {
          "background_save": true
        },
        "id": "96df0f8a"
      },
      "outputs": [],
      "source": [
        "my_submission.to_csv('PS_submission1.csv',index=False)"
      ],
      "id": "96df0f8a"
    },
    {
      "cell_type": "code",
      "execution_count": null,
      "metadata": {
        "colab": {
          "background_save": true
        },
        "id": "528b657a"
      },
      "outputs": [],
      "source": [
        ""
      ],
      "id": "528b657a"
    },
    {
      "cell_type": "markdown",
      "metadata": {
        "id": "ae7bf529"
      },
      "source": [
        "# Random Forest Classifier"
      ],
      "id": "ae7bf529"
    },
    {
      "cell_type": "code",
      "execution_count": null,
      "metadata": {
        "colab": {
          "background_save": true
        },
        "id": "79ff8eed"
      },
      "outputs": [],
      "source": [
        "# Random Forest Classifier\n",
        "\n",
        "# Import library of RandomForestClassifier model\n",
        "from sklearn.ensemble import RandomForestClassifier\n",
        "\n",
        "# Create a Random Forest Classifier\n",
        "rf = RandomForestClassifier()\n",
        "\n",
        "# Hyperparameter Optimization\n",
        "parameters = {'n_estimators': [4, 6, 9, 10, 15], \n",
        "              'max_features': ['log2', 'sqrt','auto'], \n",
        "              'criterion': ['entropy', 'gini'],\n",
        "              'max_depth': [2, 3, 5, 10], \n",
        "              'min_samples_split': [2, 3, 5],\n",
        "              'min_samples_leaf': [1, 5, 8]\n",
        "             }\n",
        "\n",
        "# Run the grid search\n",
        "grid_obj = GridSearchCV(rf, parameters)\n",
        "grid_obj = grid_obj.fit(X_train, y_train)\n",
        "\n",
        "# Set the rf to the best combination of parameters\n",
        "rf = grid_obj.best_estimator_\n",
        "\n",
        "# Train the model using the training sets \n",
        "rf.fit(X_train,y_train)"
      ],
      "id": "79ff8eed"
    },
    {
      "cell_type": "code",
      "execution_count": null,
      "metadata": {
        "colab": {
          "background_save": true
        },
        "id": "e5405a67"
      },
      "outputs": [],
      "source": [
        "# Finding the variable with more importance\n",
        "feature_imp = pd.Series(rf.feature_importances_,index= X_train.columns).sort_values(ascending=False)\n",
        "# Creating a bar plot\n",
        "feature_imp=feature_imp[0:10,]\n",
        "sns.barplot(x=feature_imp, y=feature_imp.index)\n",
        "# Add labels to the graph\n",
        "plt.xlabel('Feature Importance Score')\n",
        "plt.ylabel('Features')\n",
        "plt.title(\"Visualizing Important Features\")\n",
        "plt.legend()\n",
        "plt.show()"
      ],
      "id": "e5405a67"
    },
    {
      "cell_type": "code",
      "execution_count": null,
      "metadata": {
        "colab": {
          "background_save": true
        },
        "id": "ce7adcd5"
      },
      "outputs": [],
      "source": [
        "# Prediction on test data\n",
        "y_pred = rf.predict(X_test)"
      ],
      "id": "ce7adcd5"
    },
    {
      "cell_type": "code",
      "execution_count": null,
      "metadata": {
        "colab": {
          "background_save": true
        },
        "id": "2116a201"
      },
      "outputs": [],
      "source": [
        "# Confusion metrix\n",
        "draw_cm(y_test, y_pred)"
      ],
      "id": "2116a201"
    },
    {
      "cell_type": "code",
      "execution_count": null,
      "metadata": {
        "colab": {
          "background_save": true
        },
        "id": "26db2a8b"
      },
      "outputs": [],
      "source": [
        "# Calculating the accuracy, precision and the recall\n",
        "acc_rf = round( metrics.accuracy_score(y_test, y_pred) * 100 , 2 )\n",
        "print( 'Total Accuracy : ', acc_rf )"
      ],
      "id": "26db2a8b"
    },
    {
      "cell_type": "code",
      "execution_count": null,
      "metadata": {
        "colab": {
          "background_save": true
        },
        "id": "5d2592a5"
      },
      "outputs": [],
      "source": [
        "from sklearn.metrics import precision_recall_fscore_support as score"
      ],
      "id": "5d2592a5"
    },
    {
      "cell_type": "code",
      "execution_count": null,
      "metadata": {
        "colab": {
          "background_save": true
        },
        "id": "9900b4a5"
      },
      "outputs": [],
      "source": [
        "precision, recall, fscore, support = score(y_test, y_pred)\n",
        "\n",
        "print('precision: {}'.format(precision))\n",
        "print('recall: {}'.format(recall))\n",
        "print('fscore: {}'.format(fscore))\n",
        "print('support: {}'.format(support))"
      ],
      "id": "9900b4a5"
    },
    {
      "cell_type": "code",
      "execution_count": null,
      "metadata": {
        "colab": {
          "background_save": true
        },
        "id": "0f6afa0e"
      },
      "outputs": [],
      "source": [
        ""
      ],
      "id": "0f6afa0e"
    },
    {
      "cell_type": "code",
      "execution_count": null,
      "metadata": {
        "colab": {
          "background_save": true
        },
        "id": "15040f7c"
      },
      "outputs": [],
      "source": [
        "models = [('rf',rf),('xgb',gbm)\n",
        "stacking = StackingClassifier(estimators=models)"
      ],
      "id": "15040f7c"
    }
  ],
  "metadata": {
    "colab": {
      "collapsed_sections": [
        "ae7bf529"
      ],
      "name": "PS_ZS.ipynb",
      "provenance": [],
      "include_colab_link": true
    },
    "kernelspec": {
      "display_name": "Python 3",
      "language": "python",
      "name": "python3"
    },
    "language_info": {
      "codemirror_mode": {
        "name": "ipython",
        "version": 3
      },
      "file_extension": ".py",
      "mimetype": "text/x-python",
      "name": "python",
      "nbconvert_exporter": "python",
      "pygments_lexer": "ipython3",
      "version": "3.8.8"
    }
  },
  "nbformat": 4,
  "nbformat_minor": 5
}